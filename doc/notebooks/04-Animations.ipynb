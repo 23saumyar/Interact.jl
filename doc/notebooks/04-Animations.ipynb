{
 "cells": [
  {
   "cell_type": "markdown",
   "metadata": {},
   "source": [
    "# Animating"
   ]
  },
  {
   "cell_type": "code",
   "execution_count": 1,
   "metadata": {
    "collapsed": false
   },
   "outputs": [
    {
     "data": {
      "text/html": [
       "<script charset=\"utf-8\">(function ($, undefined) {\n",
       "\n",
       "    function createElem(tag, attr, content) {\n",
       "\t// TODO: remove jQuery dependency\n",
       "\tvar el = $(\"<\" + tag + \"/>\").attr(attr);\n",
       "\tif (content) {\n",
       "\t    el.append(content);\n",
       "\t}\n",
       "\treturn el[0];\n",
       "    }\n",
       "\n",
       "    // A widget must expose an id field which identifies it to the backend,\n",
       "    // an elem attribute which is will be added to the DOM, and\n",
       "    // a getState() method which returns the value to be sent to the backend\n",
       "    // a sendUpdate() method which sends its current value to the backend\n",
       "    var Widget = {\n",
       "\tid: undefined,\n",
       "\telem: undefined,\n",
       "\tlabel: undefined,\n",
       "\tgetState: function () {\n",
       "\t    return this.elem.value;\n",
       "\t},\n",
       "\tsendUpdate: undefined\n",
       "    };\n",
       "\n",
       "    var Slider = function (typ, id, init) {\n",
       "\tvar attr = { type:  \"range\",\n",
       "\t\t     value: init.value,\n",
       "\t\t     min:   init.min,\n",
       "\t\t     max:   init.max,\n",
       "\t\t     step:  init.step },\n",
       "\t    elem = createElem(\"input\", attr),\n",
       "\t    self = this;\n",
       "\n",
       "\telem.onchange = function () {\n",
       "\t    self.sendUpdate();\n",
       "\t}\n",
       "\n",
       "\tthis.id = id;\n",
       "\tthis.elem = elem;\n",
       "\tthis.label = init.label;\n",
       "\n",
       "\tInputWidgets.commInitializer(this); // Initialize communication\n",
       "    }\n",
       "    Slider.prototype = Widget;\n",
       "\n",
       "    var Checkbox = function (typ, id, init) {\n",
       "\tvar attr = { type: \"checkbox\",\n",
       "\t\t     checked: init.value },\n",
       "\t    elem = createElem(\"input\", attr),\n",
       "\t    self = this;\n",
       "\n",
       "\tthis.getState = function () {\n",
       "\t    return elem.checked;\n",
       "\t}\n",
       "\telem.onchange = function () {\n",
       "\t    self.sendUpdate();\n",
       "\t}\n",
       "\n",
       "\tthis.id = id;\n",
       "\tthis.elem = elem;\n",
       "\tthis.label = init.label;\n",
       "\n",
       "\tInputWidgets.commInitializer(this);\n",
       "    }\n",
       "    Checkbox.prototype = Widget;\n",
       "\n",
       "    var Button = function (typ, id, init) {\n",
       "\tvar attr = { type:    \"button\",\n",
       "\t\t     value:   init.label },\n",
       "\t    elem = createElem(\"input\", attr),\n",
       "\t    self = this;\n",
       "\tthis.getState = function () {\n",
       "\t    return null;\n",
       "\t}\n",
       "\telem.onclick = function () {\n",
       "\t    self.sendUpdate();\n",
       "\t}\n",
       "\n",
       "\tthis.id = id;\n",
       "\tthis.elem = elem;\n",
       "\tthis.label = init.label;\n",
       "\n",
       "\tInputWidgets.commInitializer(this);\n",
       "    }\n",
       "    Button.prototype = Widget;\n",
       "\n",
       "    var Text = function (typ, id, init) {\n",
       "\tvar attr = { type:  \"text\",\n",
       "\t\t     placeholder: init.label,\n",
       "\t\t     value: init.value },\n",
       "\t    elem = createElem(\"input\", attr),\n",
       "\t    self = this;\n",
       "\tthis.getState = function () {\n",
       "\t    return elem.value;\n",
       "\t}\n",
       "\telem.onkeyup = function () {\n",
       "\t    self.sendUpdate();\n",
       "\t}\n",
       "\n",
       "\tthis.id = id;\n",
       "\tthis.elem = elem;\n",
       "\tthis.label = init.label;\n",
       "\n",
       "\tInputWidgets.commInitializer(this);\n",
       "    }\n",
       "    Text.prototype = Widget;\n",
       "\n",
       "    var Textarea = function (typ, id, init) {\n",
       "\tvar attr = { placeholder: init.label },\n",
       "\t    elem = createElem(\"textarea\", attr, init.value),\n",
       "\t    self = this;\n",
       "\tthis.getState = function () {\n",
       "\t    return elem.value;\n",
       "\t}\n",
       "\telem.onchange = function () {\n",
       "\t    self.sendUpdate();\n",
       "\t}\n",
       "\n",
       "\tthis.id = id;\n",
       "\tthis.elem = elem;\n",
       "\tthis.label = init.label;\n",
       "\n",
       "\tInputWidgets.commInitializer(this);\n",
       "    }\n",
       "    Textarea.prototype = Widget;\n",
       "\n",
       "    // RadioButtons\n",
       "    // Dropdown\n",
       "    // HTML\n",
       "    // Latex\n",
       "\n",
       "    var InputWidgets = {\n",
       "\tSlider: Slider,\n",
       "\tCheckbox: Checkbox,\n",
       "\tButton: Button,\n",
       "\tText: Text,\n",
       "\tTextarea: Textarea,\n",
       "\tdebug: false,\n",
       "\tlog: function () {\n",
       "\t    if (InputWidgets.debug) {\n",
       "\t\tconsole.log.apply(console, arguments);\n",
       "\t    }\n",
       "\t},\n",
       "\t// a central way to initalize communication\n",
       "\t// for widgets.\n",
       "\tcommInitializer: function (widget) {\n",
       "\t    widget.sendUpdate = function () {};\n",
       "\t}\n",
       "    };\n",
       "\n",
       "    window.InputWidgets = InputWidgets;\n",
       "\n",
       "})(jQuery, undefined);\n",
       "</script>"
      ]
     },
     "metadata": {},
     "output_type": "display_data"
    },
    {
     "data": {
      "text/html": [
       "<script charset=\"utf-8\">(function (IPython, $, _, MathJax, Widgets) {\n",
       "    $.event.special.destroyed = {\n",
       "\tremove: function(o) {\n",
       "\t    if (o.handler) {\n",
       "\t\to.handler.apply(this, arguments)\n",
       "\t    }\n",
       "\t}\n",
       "    }\n",
       "\n",
       "    var redrawValue = function (container, type, val) {\n",
       "\tvar selector = $(\"<div/>\");\n",
       "\tvar oa = new IPython.OutputArea(_.extend(selector, {\n",
       "\t    selector: selector,\n",
       "\t    prompt_area: true,\n",
       "\t    events: IPython.events,\n",
       "\t    keyboard_manager: IPython.keyboard_manager\n",
       "\t})); // Hack to work with IPython 2.1.0\n",
       "\n",
       "\tswitch (type) {\n",
       "\tcase \"image/png\":\n",
       "            var _src = 'data:' + type + ';base64,' + val;\n",
       "\t    $(container).find(\"img\").attr('src', _src);\n",
       "\t    break;\n",
       "\tdefault:\n",
       "\t    var toinsert = IPython.OutputArea.append_map[type].apply(\n",
       "\t\toa, [val, {}, selector]\n",
       "\t    );\n",
       "\t    $(container).empty().append(toinsert.contents());\n",
       "\t    selector.remove();\n",
       "\t}\n",
       "\tif (type === \"text/latex\" && MathJax) {\n",
       "\t    MathJax.Hub.Queue([\"Typeset\", MathJax.Hub, toinsert.get(0)]);\n",
       "\t}\n",
       "    }\n",
       "\n",
       "\n",
       "    $(document).ready(function() {\n",
       "\tWidgets.debug = false; // log messages etc in console.\n",
       "\tfunction initComm(evt, data) {\n",
       "\t    var comm_manager = data.kernel.comm_manager;\n",
       "        //_.extend(comm_manager.targets, require(\"widgets/js/widget\"))\n",
       "\t    comm_manager.register_target(\"Signal\", function (comm) {\n",
       "            comm.on_msg(function (msg) {\n",
       "                //Widgets.log(\"message received\", msg);\n",
       "                var val = msg.content.data.value;\n",
       "                $(\".signal-\" + comm.comm_id).each(function() {\n",
       "                var type = $(this).data(\"type\");\n",
       "                if (val[type]) {\n",
       "                    redrawValue(this, type, val[type], type);\n",
       "                }\n",
       "                });\n",
       "                delete val;\n",
       "                delete msg.content.data.value;\n",
       "            });\n",
       "\t    });\n",
       "\n",
       "\t    // coordingate with Comm and redraw Signals\n",
       "\t    // XXX: Test using Reactive here to improve performance\n",
       "\t    $([IPython.events]).on(\n",
       "\t\t'output_appended.OutputArea', function (event, type, value, md, toinsert) {\n",
       "\t\t    if (md && md.reactive) {\n",
       "                // console.log(md.comm_id);\n",
       "                toinsert.addClass(\"signal-\" + md.comm_id);\n",
       "                toinsert.data(\"type\", type);\n",
       "                // Signal back indicating the mimetype required\n",
       "                var comm_manager = IPython.notebook.kernel.comm_manager;\n",
       "                var comm = comm_manager.comms[md.comm_id];\n",
       "                comm.then(function (c) {\n",
       "                    c.send({action: \"subscribe_mime\",\n",
       "                       mime: type});\n",
       "                    toinsert.bind(\"destroyed\", function() {\n",
       "                        c.send({action: \"unsubscribe_mime\",\n",
       "                               mime: type});\n",
       "                    });\n",
       "                })\n",
       "\t\t    }\n",
       "\t    });\n",
       "\t}\n",
       "\n",
       "\ttry {\n",
       "\t    // try to initialize right away. otherwise, wait on the status_started event.\n",
       "\t    initComm(undefined, IPython.notebook);\n",
       "\t} catch (e) {\n",
       "\t    $([IPython.events]).on('status_started.Kernel', initComm);\n",
       "\t}\n",
       "    });\n",
       "})(IPython, jQuery, _, MathJax, InputWidgets);\n",
       "</script>"
      ]
     },
     "metadata": {},
     "output_type": "display_data"
    }
   ],
   "source": [
    "using Interact, Reactive"
   ]
  },
  {
   "cell_type": "markdown",
   "metadata": {},
   "source": [
    "It is possible to create interactive animations using Reactive's [timing functions](julialang.org/Reactive.jl/api.html#timing)."
   ]
  },
  {
   "cell_type": "markdown",
   "metadata": {},
   "source": [
    "Functions like `fps`, `fpswhen`, `every` etc, let us create periodically updating signals. This, combined with the other functions in Reactive provide for declarative ways to define animations. Let us now take the n-gon compose example from interactive diagrams notebook and animate it."
   ]
  },
  {
   "cell_type": "code",
   "execution_count": 2,
   "metadata": {
    "collapsed": false
   },
   "outputs": [
    {
     "data": {
      "text/html": [
       "<script>!function e(t,n,r){function s(o,u){if(!n[o]){if(!t[o]){var a=\"function\"==typeof require&&require;if(!u&&a)return a(o,!0);if(i)return i(o,!0);var f=new Error(\"Cannot find module '\"+o+\"'\");throw f.code=\"MODULE_NOT_FOUND\",f}var l=n[o]={exports:{}};t[o][0].call(l.exports,function(e){var n=t[o][1][e];return s(n?n:e)},l,l.exports,e,t,n,r)}return n[o].exports}for(var i=\"function\"==typeof require&&require,o=0;o<r.length;o++)s(r[o]);return s}({1:[function(require){var VNode=require(\"vtree/vnode\"),svg=require(\"virtual-hyperscript/svg\"),VText=require(\"vtree/vtext\"),VPatch=require(\"vtree/vpatch\"),diff=require(\"virtual-dom/diff\"),patch=require(\"virtual-dom/patch\"),createElement=require(\"virtual-dom/create-element\"),nodeIndex=require(\"./node-index\"),patchVNode=require(\"./patch-vnode\"),isArray=require(\"x-is-array\"),isVPatch=require(\"./is-vpatch\"),P=Patchwork={nodes:{},debug:!1,Node:function(id,jlNode){if(el=document.getElementById(id),this.id=id,jlNode){var vnode=P.makeVNode(jlNode);P.log(\"makeVNode: \",jlNode,\"=>\",vnode),this.mount(vnode,el)}P.nodes[id]=this},NAMESPACES:{xhtml:null,svg:\"http://www.w3.org/2000/svg\",\"null\":null,undefined:null},refDiff:function(a,b,p){var a=P.makeVNode(a);b=P.makeVNode(b),p=P.makeVPatches(a,p),console.log(p,diff(a,b))},massageProps:function(props){if(\"attributes\"in props){console.log(\"attributes \",props.attributes);for(var attr in props.attributes)props.attributes.hasOwnProperty(attr)&&null===props.attributes[attr]&&(console.log(\"remove \",attr,props.attributes[attr]),props.attributes[attr]=void 0)}return props},makeVNode:function(jlNode){if(\"txt\"in jlNode)return new VText(jlNode.txt);var children=[],props=P.massageProps(jlNode.p||{});if(jlNode.c)for(var i=0,l=jlNode.c.length;l>i;i++)children[i]=P.makeVNode(jlNode.c[i]);if(\"svg\"===jlNode.n)return svg(jlNode.t,props,children);var key=null;return props&&props.key&&(key=props.key,delete props.key),new VNode(jlNode.t,props,children,key,P.NAMESPACES[jlNode.n])},makeVPatches:function(root,jlPatches){var indices=[],vpatches={a:root};for(var idx in jlPatches)indices.push(Number(idx));nodes=nodeIndex(root,indices);for(var idx in jlPatches)vpatches[idx]=P.makeVPatch(nodes[idx],jlPatches[idx]);return vpatches},makeVPatch:function(vnode,jlPatch){function vpatch(p){return new VPatch(type,vnode,p)}if(isArray(jlPatch)){for(var ps=[],i=0,l=jlPatch.length;l>i;i++)ps[i]=P.makeVPatch(vnode,jlPatch[i]);return ps}var type,patch;for(var k in jlPatch){type=k,patch=jlPatch[k];break}switch(Number(type)){case VPatch.VTEXT:return vpatch(new VText(patch));case VPatch.VNODE:return vpatch(P.makeVNode(patch));case VPatch.PROPS:return patch=P.massageProps(patch),vnode.namespace===P.NAMESPACES.svg&&(patch=svg(\"dummy\",patch,[]).properties),vpatch(patch);case VPatch.ORDER:return vpatch(patch);case VPatch.INSERT:return vpatch(P.makeVNode(patch));case VPatch.REMOVE:return vpatch(null);default:return null}},log:function(){console&&P.debug&&console.log.apply(console,arguments)}};Patchwork.Node.prototype={mount:function(vnode,outer){var el=createElement(vnode);return P.log(\"createElement: \",vnode,\"=>\",el),outer.appendChild(el),this.element=el,this.root=vnode,el},applyPatch:function(vpatches){isVPatch(vpatches)||(vpatches=P.makeVPatches(this.root,vpatches)),this.element=patch(this.element,vpatches),this.root=patchVNode(this.root,vpatches)}},IPython&&jQuery&&$(document).ready(function(){var commMgr=IPython.notebook.kernel.comm_manager;commMgr.register_target(\"PatchStream\",function(comm,msg){var nodeId=msg.content.data.pwid;comm.on_msg(function(msg){var node=P.nodes[nodeId],patches=msg.content.data;node.applyPatch(patches),P.log(\"received patches\",patches)})})}),window.Patchwork=Patchwork},{\"./is-vpatch\":2,\"./node-index\":3,\"./patch-vnode\":57,\"virtual-dom/create-element\":5,\"virtual-dom/diff\":6,\"virtual-dom/patch\":23,\"virtual-hyperscript/svg\":47,\"vtree/vnode\":52,\"vtree/vpatch\":53,\"vtree/vtext\":54,\"x-is-array\":55}],2:[function(require,module){function isVirtualPatch(x){return x&&\"VirtualPatch\"===x.type&&x.version===version}var version=require(\"vtree/version\");module.exports=isVirtualPatch},{\"vtree/version\":51}],3:[function(require,module){function nodeIndex(tree,indices,nodes){return indices&&0!==indices.length?(indices.sort(ascending),recurse(tree,indices,nodes,0)):{}}function recurse(tree,indices,nodes,rootIndex){if(nodes=nodes||{},tree){indexInRange(indices,rootIndex,rootIndex)&&(nodes[rootIndex]=tree);var vChildren=tree.children;if(vChildren)for(var i=0;i<vChildren.length;i++){rootIndex+=1;var vChild=vChildren[i],nextIndex=rootIndex+(vChild.count||0);indexInRange(indices,rootIndex,nextIndex)&&recurse(vChild,indices,nodes,rootIndex),rootIndex=nextIndex}}return nodes}function indexInRange(indices,left,right){if(0===indices.length)return!1;for(var currentIndex,currentItem,minIndex=0,maxIndex=indices.length-1;maxIndex>=minIndex;){if(currentIndex=(maxIndex+minIndex)/2>>0,currentItem=indices[currentIndex],minIndex===maxIndex)return currentItem>=left&&right>=currentItem;if(left>currentItem)minIndex=currentIndex+1;else{if(!(currentItem>right))return!0;maxIndex=currentIndex-1}}return!1}function ascending(a,b){return a>b?1:-1}module.exports=nodeIndex},{}],4:[function(require,module){function isObject(x){return\"object\"==typeof x&&null!==x}module.exports=isObject},{}],5:[function(require,module){var createElement=require(\"vdom/create-element\");module.exports=createElement},{\"vdom/create-element\":8}],6:[function(require,module){var diff=require(\"vtree/diff\");module.exports=diff},{\"vtree/diff\":14}],7:[function(require,module){function applyProperties(node,props,previous){for(var propName in props){var propValue=props[propName];void 0===propValue?removeProperty(node,props,previous,propName):isHook(propValue)?propValue.hook(node,propName,previous?previous[propName]:void 0):isObject(propValue)?patchObject(node,props,previous,propName,propValue):void 0!==propValue&&(node[propName]=propValue)}}function removeProperty(node,props,previous,propName){if(previous){var previousValue=previous[propName];if(!isHook(previousValue))if(\"attributes\"===propName)for(var attrName in previousValue)node.removeAttribute(attrName);else if(\"style\"===propName)for(var i in previousValue)node.style[i]=\"\";else node[propName]=\"string\"==typeof previousValue?\"\":null}}function patchObject(node,props,previous,propName,propValue){var previousValue=previous?previous[propName]:void 0;if(\"attributes\"!==propName){if(previousValue&&isObject(previousValue)&&getPrototype(previousValue)!==getPrototype(propValue))return void(node[propName]=propValue);isObject(node[propName])||(node[propName]={});var replacer=\"style\"===propName?\"\":void 0;for(var k in propValue){var value=propValue[k];node[propName][k]=void 0===value?replacer:value}}else for(var attrName in propValue){var attrValue=propValue[attrName];void 0===attrValue?node.removeAttribute(attrName):node.setAttribute(attrName,attrValue)}}function getPrototype(value){return Object.getPrototypeOf?Object.getPrototypeOf(value):value.__proto__?value.__proto__:value.constructor?value.constructor.prototype:void 0}var isObject=require(\"is-object\"),isHook=require(\"vtree/is-vhook\");module.exports=applyProperties},{\"is-object\":4,\"vtree/is-vhook\":17}],8:[function(require,module){function createElement(vnode,opts){var doc=opts?opts.document||document:document,warn=opts?opts.warn:null;if(vnode=handleThunk(vnode).a,isWidget(vnode))return vnode.init();if(isVText(vnode))return doc.createTextNode(vnode.text);if(!isVNode(vnode))return warn&&warn(\"Item is not a valid virtual dom node\",vnode),null;var node=null===vnode.namespace?doc.createElement(vnode.tagName):doc.createElementNS(vnode.namespace,vnode.tagName),props=vnode.properties;applyProperties(node,props);for(var children=vnode.children,i=0;i<children.length;i++){var childNode=createElement(children[i],opts);childNode&&node.appendChild(childNode)}return node}var document=require(\"global/document\"),applyProperties=require(\"./apply-properties\"),isVNode=require(\"vtree/is-vnode\"),isVText=require(\"vtree/is-vtext\"),isWidget=require(\"vtree/is-widget\"),handleThunk=require(\"vtree/handle-thunk\");module.exports=createElement},{\"./apply-properties\":7,\"global/document\":10,\"vtree/handle-thunk\":15,\"vtree/is-vnode\":18,\"vtree/is-vtext\":19,\"vtree/is-widget\":20}],9:[function(require,module){function domIndex(rootNode,tree,indices,nodes){return indices&&0!==indices.length?(indices.sort(ascending),recurse(rootNode,tree,indices,nodes,0)):{}}function recurse(rootNode,tree,indices,nodes,rootIndex){if(nodes=nodes||{},rootNode){indexInRange(indices,rootIndex,rootIndex)&&(nodes[rootIndex]=rootNode);var vChildren=tree.children;if(vChildren)for(var childNodes=rootNode.childNodes,i=0;i<tree.children.length;i++){rootIndex+=1;var vChild=vChildren[i]||noChild,nextIndex=rootIndex+(vChild.count||0);indexInRange(indices,rootIndex,nextIndex)&&recurse(childNodes[i],vChild,indices,nodes,rootIndex),rootIndex=nextIndex}}return nodes}function indexInRange(indices,left,right){if(0===indices.length)return!1;for(var currentIndex,currentItem,minIndex=0,maxIndex=indices.length-1;maxIndex>=minIndex;){if(currentIndex=(maxIndex+minIndex)/2>>0,currentItem=indices[currentIndex],minIndex===maxIndex)return currentItem>=left&&right>=currentItem;if(left>currentItem)minIndex=currentIndex+1;else{if(!(currentItem>right))return!0;maxIndex=currentIndex-1}}return!1}function ascending(a,b){return a>b?1:-1}var noChild={};module.exports=domIndex},{}],10:[function(require,module){(function(global){var topLevel=\"undefined\"!=typeof global?global:\"undefined\"!=typeof window?window:{},minDoc=require(\"min-document\");if(\"undefined\"!=typeof document)module.exports=document;else{var doccy=topLevel[\"__GLOBAL_DOCUMENT_CACHE@4\"];doccy||(doccy=topLevel[\"__GLOBAL_DOCUMENT_CACHE@4\"]=minDoc),module.exports=doccy}}).call(this,\"undefined\"!=typeof global?global:\"undefined\"!=typeof self?self:\"undefined\"!=typeof window?window:{})},{\"min-document\":59}],11:[function(require,module){function applyPatch(vpatch,domNode,renderOptions){var type=vpatch.type,vNode=vpatch.vNode,patch=vpatch.patch;switch(type){case VPatch.REMOVE:return removeNode(domNode,vNode);case VPatch.INSERT:return insertNode(domNode,patch,renderOptions);case VPatch.VTEXT:return stringPatch(domNode,vNode,patch,renderOptions);case VPatch.WIDGET:return widgetPatch(domNode,vNode,patch,renderOptions);case VPatch.VNODE:return vNodePatch(domNode,vNode,patch,renderOptions);case VPatch.ORDER:return reorderChildren(domNode,patch),domNode;case VPatch.PROPS:return applyProperties(domNode,patch,vNode.properties),domNode;case VPatch.THUNK:return replaceRoot(domNode,renderOptions.patch(domNode,patch,renderOptions));default:return domNode}}function removeNode(domNode,vNode){var parentNode=domNode.parentNode;return parentNode&&parentNode.removeChild(domNode),destroyWidget(domNode,vNode),null}function insertNode(parentNode,vNode,renderOptions){var newNode=render(vNode,renderOptions);return parentNode&&parentNode.appendChild(newNode),parentNode}function stringPatch(domNode,leftVNode,vText,renderOptions){var newNode;if(3===domNode.nodeType)domNode.replaceData(0,domNode.length,vText.text),newNode=domNode;else{var parentNode=domNode.parentNode;newNode=render(vText,renderOptions),parentNode&&parentNode.replaceChild(newNode,domNode)}return destroyWidget(domNode,leftVNode),newNode}function widgetPatch(domNode,leftVNode,widget,renderOptions){if(updateWidget(leftVNode,widget))return widget.update(leftVNode,domNode)||domNode;var parentNode=domNode.parentNode,newWidget=render(widget,renderOptions);return parentNode&&parentNode.replaceChild(newWidget,domNode),destroyWidget(domNode,leftVNode),newWidget}function vNodePatch(domNode,leftVNode,vNode,renderOptions){var parentNode=domNode.parentNode,newNode=render(vNode,renderOptions);return parentNode&&parentNode.replaceChild(newNode,domNode),destroyWidget(domNode,leftVNode),newNode}function destroyWidget(domNode,w){\"function\"==typeof w.destroy&&isWidget(w)&&w.destroy(domNode)}function reorderChildren(domNode,bIndex){var i,children=[],childNodes=domNode.childNodes,len=childNodes.length,reverseIndex=bIndex.reverse;for(i=0;len>i;i++)children.push(domNode.childNodes[i]);var move,node,insertNode,insertOffset=0;for(i=0;len>i;i++)move=bIndex[i],void 0!==move&&move!==i&&(reverseIndex[i]>i&&insertOffset++,node=children[move],insertNode=childNodes[i+insertOffset]||null,node!==insertNode&&domNode.insertBefore(node,insertNode),i>move&&insertOffset--),i in bIndex.removes&&insertOffset++}function replaceRoot(oldRoot,newRoot){return oldRoot&&newRoot&&oldRoot!==newRoot&&oldRoot.parentNode&&(console.log(oldRoot),oldRoot.parentNode.replaceChild(newRoot,oldRoot)),newRoot}var applyProperties=require(\"./apply-properties\"),isWidget=require(\"vtree/is-widget\"),VPatch=require(\"vtree/vpatch\"),render=require(\"./create-element\"),updateWidget=require(\"./update-widget\");module.exports=applyPatch},{\"./apply-properties\":7,\"./create-element\":8,\"./update-widget\":13,\"vtree/is-widget\":20,\"vtree/vpatch\":22}],12:[function(require,module){function patch(rootNode,patches){return patchRecursive(rootNode,patches)}function patchRecursive(rootNode,patches,renderOptions){var indices=patchIndices(patches);if(0===indices.length)return rootNode;var index=domIndex(rootNode,patches.a,indices),ownerDocument=rootNode.ownerDocument;renderOptions||(renderOptions={patch:patchRecursive},ownerDocument!==document&&(renderOptions.document=ownerDocument));for(var i=0;i<indices.length;i++){var nodeIndex=indices[i];rootNode=applyPatch(rootNode,index[nodeIndex],patches[nodeIndex],renderOptions)}return rootNode}function applyPatch(rootNode,domNode,patchList,renderOptions){if(!domNode)return rootNode;var newNode;if(isArray(patchList))for(var i=0;i<patchList.length;i++)newNode=patchOp(patchList[i],domNode,renderOptions),domNode===rootNode&&(rootNode=newNode);else newNode=patchOp(patchList,domNode,renderOptions),domNode===rootNode&&(rootNode=newNode);return rootNode}function patchIndices(patches){var indices=[];for(var key in patches)\"a\"!==key&&indices.push(Number(key));return indices}var document=require(\"global/document\"),isArray=require(\"x-is-array\"),domIndex=require(\"./dom-index\"),patchOp=require(\"./patch-op\");module.exports=patch},{\"./dom-index\":9,\"./patch-op\":11,\"global/document\":10,\"x-is-array\":55}],13:[function(require,module){function updateWidget(a,b){return isWidget(a)&&isWidget(b)?\"name\"in a&&\"name\"in b?a.id===b.id:a.init===b.init:!1}var isWidget=require(\"vtree/is-widget\");module.exports=updateWidget},{\"vtree/is-widget\":20}],14:[function(require,module){function diff(a,b){var patch={a:a};return walk(a,b,patch,0),patch}function walk(a,b,patch,index){if(a===b)return void(isThunk(a)||isThunk(b)?thunks(a,b,patch,index):hooks(b,patch,index));var apply=patch[index];if(null==b)apply=appendPatch(apply,new VPatch(VPatch.REMOVE,a,b)),destroyWidgets(a,patch,index);else if(isThunk(a)||isThunk(b))thunks(a,b,patch,index);else if(isVNode(b))if(isVNode(a))if(a.tagName===b.tagName&&a.namespace===b.namespace&&a.key===b.key){var propsPatch=diffProps(a.properties,b.properties,b.hooks);propsPatch&&(apply=appendPatch(apply,new VPatch(VPatch.PROPS,a,propsPatch))),apply=diffChildren(a,b,patch,apply,index)}else apply=appendPatch(apply,new VPatch(VPatch.VNODE,a,b)),destroyWidgets(a,patch,index);else apply=appendPatch(apply,new VPatch(VPatch.VNODE,a,b)),destroyWidgets(a,patch,index);else isVText(b)?isVText(a)?a.text!==b.text&&(apply=appendPatch(apply,new VPatch(VPatch.VTEXT,a,b))):(apply=appendPatch(apply,new VPatch(VPatch.VTEXT,a,b)),destroyWidgets(a,patch,index)):isWidget(b)&&(apply=appendPatch(apply,new VPatch(VPatch.WIDGET,a,b)),isWidget(a)||destroyWidgets(a,patch,index));apply&&(patch[index]=apply)}function diffProps(a,b,hooks){var diff;for(var aKey in a){aKey in b||(diff=diff||{},diff[aKey]=void 0);var aValue=a[aKey],bValue=b[aKey];if(hooks&&aKey in hooks)diff=diff||{},diff[aKey]=bValue;else if(isObject(aValue)&&isObject(bValue))if(getPrototype(bValue)!==getPrototype(aValue))diff=diff||{},diff[aKey]=bValue;else{var objectDiff=diffProps(aValue,bValue);objectDiff&&(diff=diff||{},diff[aKey]=objectDiff)}else aValue!==bValue&&(diff=diff||{},diff[aKey]=bValue)}for(var bKey in b)bKey in a||(diff=diff||{},diff[bKey]=b[bKey]);return diff}function getPrototype(value){return Object.getPrototypeOf?Object.getPrototypeOf(value):value.__proto__?value.__proto__:value.constructor?value.constructor.prototype:void 0}function diffChildren(a,b,patch,apply,index){for(var aChildren=a.children,bChildren=reorder(aChildren,b.children),aLen=aChildren.length,bLen=bChildren.length,len=aLen>bLen?aLen:bLen,i=0;len>i;i++){var leftNode=aChildren[i],rightNode=bChildren[i];index+=1,leftNode?rightNode?walk(leftNode,rightNode,patch,index):leftNode&&(patch[index]=new VPatch(VPatch.REMOVE,leftNode,null),destroyWidgets(leftNode,patch,index)):rightNode&&(apply=appendPatch(apply,new VPatch(VPatch.INSERT,null,rightNode))),isVNode(leftNode)&&leftNode.count&&(index+=leftNode.count)}return bChildren.moves&&(apply=appendPatch(apply,new VPatch(VPatch.ORDER,a,bChildren.moves))),apply}function destroyWidgets(vNode,patch,index){if(isWidget(vNode))\"function\"==typeof vNode.destroy&&(patch[index]=new VPatch(VPatch.REMOVE,vNode,null));else if(isVNode(vNode)&&vNode.hasWidgets)for(var children=vNode.children,len=children.length,i=0;len>i;i++){var child=children[i];index+=1,destroyWidgets(child,patch,index),isVNode(child)&&child.count&&(index+=child.count)}}function thunks(a,b,patch,index){var nodes=handleThunk(a,b),thunkPatch=diff(nodes.a,nodes.b);hasPatches(thunkPatch)&&(patch[index]=new VPatch(VPatch.THUNK,null,thunkPatch))}function hasPatches(patch){for(var index in patch)if(\"a\"!==index)return!0;return!1}function hooks(vNode,patch,index){if(isVNode(vNode)&&(vNode.hooks&&(patch[index]=new VPatch(VPatch.PROPS,vNode.hooks,vNode.hooks)),vNode.descendantHooks))for(var children=vNode.children,len=children.length,i=0;len>i;i++){var child=children[i];index+=1,hooks(child,patch,index),isVNode(child)&&child.count&&(index+=child.count)}}function reorder(aChildren,bChildren){var bKeys=keyIndex(bChildren);if(!bKeys)return bChildren;var aKeys=keyIndex(aChildren);if(!aKeys)return bChildren;var bMatch={},aMatch={};for(var key in bKeys)bMatch[bKeys[key]]=aKeys[key];for(var key in aKeys)aMatch[aKeys[key]]=bKeys[key];for(var aLen=aChildren.length,bLen=bChildren.length,len=aLen>bLen?aLen:bLen,shuffle=[],freeIndex=0,i=0,moveIndex=0,moves={},removes=moves.removes={},reverse=moves.reverse={},hasMoves=!1;len>freeIndex;){var move=aMatch[i];if(void 0!==move)shuffle[i]=bChildren[move],move!==moveIndex&&(moves[move]=moveIndex,reverse[moveIndex]=move,hasMoves=!0),moveIndex++;else if(i in aMatch)shuffle[i]=void 0,removes[i]=moveIndex++,hasMoves=!0;else{for(;void 0!==bMatch[freeIndex];)freeIndex++;if(len>freeIndex){var freeChild=bChildren[freeIndex];freeChild&&(shuffle[i]=freeChild,freeIndex!==moveIndex&&(hasMoves=!0,moves[freeIndex]=moveIndex,reverse[moveIndex]=freeIndex),moveIndex++),freeIndex++}}i++}return hasMoves&&(shuffle.moves=moves),shuffle}function keyIndex(children){var i,keys;for(i=0;i<children.length;i++){var child=children[i];void 0!==child.key&&(keys=keys||{},keys[child.key]=i)}return keys}function appendPatch(apply,patch){return apply?(isArray(apply)?apply.push(patch):apply=[apply,patch],apply):patch}var isArray=require(\"x-is-array\"),isObject=require(\"is-object\"),VPatch=require(\"./vpatch\"),isVNode=require(\"./is-vnode\"),isVText=require(\"./is-vtext\"),isWidget=require(\"./is-widget\"),isThunk=require(\"./is-thunk\"),handleThunk=require(\"./handle-thunk\");module.exports=diff},{\"./handle-thunk\":15,\"./is-thunk\":16,\"./is-vnode\":18,\"./is-vtext\":19,\"./is-widget\":20,\"./vpatch\":22,\"is-object\":4,\"x-is-array\":55}],15:[function(require,module){function handleThunk(a,b){var renderedA=a,renderedB=b;return isThunk(b)&&(renderedB=renderThunk(b,a)),isThunk(a)&&(renderedA=renderThunk(a,null)),{a:renderedA,b:renderedB}}function renderThunk(thunk,previous){var renderedThunk=thunk.vnode;if(renderedThunk||(renderedThunk=thunk.vnode=thunk.render(previous)),!(isVNode(renderedThunk)||isVText(renderedThunk)||isWidget(renderedThunk)))throw new Error(\"thunk did not return a valid node\");return renderedThunk}var isVNode=require(\"./is-vnode\"),isVText=require(\"./is-vtext\"),isWidget=require(\"./is-widget\"),isThunk=require(\"./is-thunk\");module.exports=handleThunk},{\"./is-thunk\":16,\"./is-vnode\":18,\"./is-vtext\":19,\"./is-widget\":20}],16:[function(require,module){function isThunk(t){return t&&\"Thunk\"===t.type}module.exports=isThunk},{}],17:[function(require,module){function isHook(hook){return hook&&\"function\"==typeof hook.hook&&!hook.hasOwnProperty(\"hook\")}module.exports=isHook},{}],18:[function(require,module){function isVirtualNode(x){return x&&\"VirtualNode\"===x.type&&x.version===version}var version=require(\"./version\");module.exports=isVirtualNode},{\"./version\":21}],19:[function(require,module){function isVirtualText(x){return x&&\"VirtualText\"===x.type&&x.version===version}var version=require(\"./version\");module.exports=isVirtualText},{\"./version\":21}],20:[function(require,module){function isWidget(w){return w&&\"Widget\"===w.type}module.exports=isWidget},{}],21:[function(require,module){module.exports=\"1\"},{}],22:[function(require,module){function VirtualPatch(type,vNode,patch){this.type=Number(type),this.vNode=vNode,this.patch=patch}var version=require(\"./version\");VirtualPatch.NONE=0,VirtualPatch.VTEXT=1,VirtualPatch.VNODE=2,VirtualPatch.WIDGET=3,VirtualPatch.PROPS=4,VirtualPatch.ORDER=5,VirtualPatch.INSERT=6,VirtualPatch.REMOVE=7,VirtualPatch.THUNK=8,module.exports=VirtualPatch,VirtualPatch.prototype.version=version,VirtualPatch.prototype.type=\"VirtualPatch\"},{\"./version\":21}],23:[function(require,module){var patch=require(\"vdom/patch\");module.exports=patch},{\"vdom/patch\":12}],24:[function(require,module){function AttributeHook(value){return this instanceof AttributeHook?void(this.value=value):new AttributeHook(value)}module.exports=AttributeHook,AttributeHook.prototype.hook=function(node,prop,prev){prev&&prev.value===this.value||node.setAttributeNS(null,prop,this.value)}},{}],25:[function(require,module){function DataSetHook(value){return this instanceof DataSetHook?void(this.value=value):new DataSetHook(value)}var DataSet=require(\"data-set\");module.exports=DataSetHook,DataSetHook.prototype.hook=function(node,propertyName){var ds=DataSet(node),propName=propertyName.substr(5);ds[propName]=this.value}},{\"data-set\":30}],26:[function(require,module){function DataSetHook(value){return this instanceof DataSetHook?void(this.value=value):new DataSetHook(value)}var DataSet=require(\"data-set\");module.exports=DataSetHook,DataSetHook.prototype.hook=function(node,propertyName){var ds=DataSet(node),propName=propertyName.substr(3);ds[propName]=this.value}},{\"data-set\":30}],27:[function(require,module){function SoftSetHook(value){return this instanceof SoftSetHook?void(this.value=value):new SoftSetHook(value)}module.exports=SoftSetHook,SoftSetHook.prototype.hook=function(node,propertyName){node[propertyName]!==this.value&&(node[propertyName]=this.value)}},{}],28:[function(require,module){function h(tagName,properties,children){var tag,props,key,namespace,childNodes=[];!children&&isChildren(properties)&&(children=properties,props={}),props=props||properties||{},tag=parseTag(tagName,props),\"key\"in props&&(key=props.key,props.key=void 0),\"namespace\"in props&&(namespace=props.namespace,props.namespace=void 0),\"input\"===tag&&\"value\"in props&&void 0!==props.value&&!isHook(props.value)&&(props.value=softSetHook(props.value));for(var propName,value,keys=Object.keys(props),j=0;j<keys.length;j++)propName=keys[j],value=props[propName],isHook(value)||(\"data-\"===propName.substr(0,5)&&(props[propName]=dataSetHook(value)),\"ev-\"===propName.substr(0,3)&&(props[propName]=evHook(value)));void 0!==children&&null!==children&&addChild(children,childNodes,tag,props);var node=new VNode(tag,props,childNodes,key,namespace);return node}function addChild(c,childNodes,tag,props){if(\"string\"==typeof c)childNodes.push(new VText(c));else if(isChild(c))childNodes.push(c);else{if(!Array.isArray(c)){if(null===c||void 0===c)return;throw UnexpectedVirtualElement({foreignObjectStr:JSON.stringify(c),foreignObject:c,parentVnodeStr:JSON.stringify({tagName:tag,properties:props}),parentVnode:{tagName:tag,properties:props}})}for(var i=0;i<c.length;i++)addChild(c[i],childNodes,tag,props)}}function isChild(x){return isVNode(x)||isVText(x)||isWidget(x)||isVThunk(x)}function isChildren(x){return\"string\"==typeof x||Array.isArray(x)||isChild(x)}var VNode=require(\"vtree/vnode.js\"),VText=require(\"vtree/vtext.js\"),isVNode=require(\"vtree/is-vnode\"),isVText=require(\"vtree/is-vtext\"),isWidget=require(\"vtree/is-widget\"),isHook=require(\"vtree/is-vhook\"),isVThunk=require(\"vtree/is-thunk\"),TypedError=require(\"error/typed\"),parseTag=require(\"./parse-tag.js\"),softSetHook=require(\"./hooks/soft-set-hook.js\"),dataSetHook=require(\"./hooks/data-set-hook.js\"),evHook=require(\"./hooks/ev-hook.js\"),UnexpectedVirtualElement=TypedError({type:\"virtual-hyperscript.unexpected.virtual-element\",message:\"Unexpected virtual child passed to h().\\nExpected a VNode / Vthunk / VWidget / string but:\\ngot a {foreignObjectStr}.\\nThe parent vnode is {parentVnodeStr}.\\nSuggested fix: change your `h(..., [ ... ])` callsite.\",foreignObjectStr:null,parentVnodeStr:null,foreignObject:null,parentVnode:null});module.exports=h},{\"./hooks/data-set-hook.js\":25,\"./hooks/ev-hook.js\":26,\"./hooks/soft-set-hook.js\":27,\"./parse-tag.js\":46,\"error/typed\":37,\"vtree/is-thunk\":38,\"vtree/is-vhook\":39,\"vtree/is-vnode\":40,\"vtree/is-vtext\":41,\"vtree/is-widget\":42,\"vtree/vnode.js\":44,\"vtree/vtext.js\":45}],29:[function(require,module){function createHash(elem){var attributes=elem.attributes,hash={};if(null===attributes||void 0===attributes)return hash;for(var i=0;i<attributes.length;i++){var attr=attributes[i];\"data-\"===attr.name.substr(0,5)&&(hash[attr.name.substr(5)]=attr.value)}return hash}module.exports=createHash},{}],30:[function(require,module){function DataSet(elem){var store=hashStore(elem);return store.hash||(store.hash=createHash(elem)),store.hash}var createStore=require(\"weakmap-shim/create-store\"),Individual=require(\"individual\"),createHash=require(\"./create-hash.js\"),hashStore=Individual(\"__DATA_SET_WEAKMAP@3\",createStore());module.exports=DataSet},{\"./create-hash.js\":29,individual:31,\"weakmap-shim/create-store\":32}],31:[function(require,module){(function(global){function Individual(key,value){return root[key]?root[key]:(Object.defineProperty(root,key,{value:value,configurable:!0}),value)}var root=\"undefined\"!=typeof window?window:\"undefined\"!=typeof global?global:{};module.exports=Individual}).call(this,\"undefined\"!=typeof global?global:\"undefined\"!=typeof self?self:\"undefined\"!=typeof window?window:{})},{}],32:[function(require,module){function createStore(){var key={};return function(obj){if(\"object\"!=typeof obj||null===obj)throw new Error(\"Weakmap-shim: Key must be object\");var store=obj.valueOf(key);return store&&store.identity===key?store:hiddenStore(obj,key)}}var hiddenStore=require(\"./hidden-store.js\");module.exports=createStore},{\"./hidden-store.js\":33}],33:[function(require,module){function hiddenStore(obj,key){var store={identity:key},valueOf=obj.valueOf;return Object.defineProperty(obj,\"valueOf\",{value:function(value){return value!==key?valueOf.apply(this,arguments):store},writable:!0}),store}module.exports=hiddenStore},{}],34:[function(require,module){function walk(obj){return obj&&\"object\"==typeof obj?isDate(obj)||isRegex(obj)?obj:isArray(obj)?map(obj,walk):reduce(objectKeys(obj),function(acc,key){var camel=camelCase(key);return acc[camel]=walk(obj[key]),acc},{}):obj}function camelCase(str){return str.replace(/[_.-](\\w|$)/g,function(_,x){return x.toUpperCase()})}function map(xs,f){if(xs.map)return xs.map(f);for(var res=[],i=0;i<xs.length;i++)res.push(f(xs[i],i));return res}function reduce(xs,f,acc){if(xs.reduce)return xs.reduce(f,acc);for(var i=0;i<xs.length;i++)acc=f(acc,xs[i],i);return acc}module.exports=function(obj){return\"string\"==typeof obj?camelCase(obj):walk(obj)};var isArray=Array.isArray||function(obj){return\"[object Array]\"===Object.prototype.toString.call(obj)},isDate=function(obj){return\"[object Date]\"===Object.prototype.toString.call(obj)},isRegex=function(obj){return\"[object RegExp]\"===Object.prototype.toString.call(obj)},has=Object.prototype.hasOwnProperty,objectKeys=Object.keys||function(obj){var keys=[];for(var key in obj)has.call(obj,key)&&keys.push(key);return keys}},{}],35:[function(require,module){function template(string){var args;return args=2===arguments.length&&\"object\"==typeof arguments[1]?arguments[1]:slice.call(arguments,1),args&&args.hasOwnProperty||(args={}),string.replace(nargs,function(match,i,index){var result;return\"{\"===string[index-1]&&\"}\"===string[index+match.length]?i:(result=args.hasOwnProperty(i)?args[i]:null,null===result||void 0===result?\"\":result)})}var nargs=/\\{([0-9a-zA-Z]+)\\}/g,slice=Array.prototype.slice;module.exports=template},{}],36:[function(require,module){function extend(target){for(var i=1;i<arguments.length;i++){var source=arguments[i];for(var key in source)source.hasOwnProperty(key)&&(target[key]=source[key])}return target}module.exports=extend},{}],37:[function(require,module){function TypedError(args){function createError(opts){var result=new Error;Object.defineProperty(result,\"type\",{value:result.type,enumerable:!0,writable:!0,configurable:!0});var options=extend({},args,opts);return extend(result,options),result.message=template(message,options),result}if(!args)throw new Error(\"args is required\");if(!args.type)throw new Error(\"args.type is required\");if(!args.message)throw new Error(\"args.message is required\");var message=args.message;if(args.type&&!args.name){var errorName=camelize(args.type)+\"Error\";args.name=errorName[0].toUpperCase()+errorName.substr(1)}return createError.type=args.type,createError._name=args.name,createError}var camelize=require(\"camelize\"),template=require(\"string-template\"),extend=require(\"xtend/mutable\");module.exports=TypedError},{camelize:34,\"string-template\":35,\"xtend/mutable\":36}],38:[function(require,module){module.exports=require(16)},{\"/home/shashi/.julia/v0.3/Patchwork/runtime/node_modules/virtual-dom/node_modules/vtree/is-thunk.js\":16}],39:[function(require,module){module.exports=require(17)},{\"/home/shashi/.julia/v0.3/Patchwork/runtime/node_modules/virtual-dom/node_modules/vtree/is-vhook.js\":17}],40:[function(require,module){module.exports=require(18)},{\"./version\":43,\"/home/shashi/.julia/v0.3/Patchwork/runtime/node_modules/virtual-dom/node_modules/vtree/is-vnode.js\":18}],41:[function(require,module){module.exports=require(19)},{\"./version\":43,\"/home/shashi/.julia/v0.3/Patchwork/runtime/node_modules/virtual-dom/node_modules/vtree/is-vtext.js\":19}],42:[function(require,module){module.exports=require(20)},{\"/home/shashi/.julia/v0.3/Patchwork/runtime/node_modules/virtual-dom/node_modules/vtree/is-widget.js\":20}],43:[function(require,module){module.exports=require(21)},{\"/home/shashi/.julia/v0.3/Patchwork/runtime/node_modules/virtual-dom/node_modules/vtree/version.js\":21}],44:[function(require,module){function VirtualNode(tagName,properties,children,key,namespace){this.tagName=tagName,this.properties=properties||noProperties,this.children=children||noChildren,this.key=null!=key?String(key):void 0,this.namespace=\"string\"==typeof namespace?namespace:null;var hooks,count=children&&children.length||0,descendants=0,hasWidgets=!1,descendantHooks=!1;for(var propName in properties)if(properties.hasOwnProperty(propName)){var property=properties[propName];isVHook(property)&&(hooks||(hooks={}),hooks[propName]=property)}for(var i=0;count>i;i++){var child=children[i];isVNode(child)?(descendants+=child.count||0,!hasWidgets&&child.hasWidgets&&(hasWidgets=!0),descendantHooks||!child.hooks&&!child.descendantHooks||(descendantHooks=!0)):!hasWidgets&&isWidget(child)&&\"function\"==typeof child.destroy&&(hasWidgets=!0)}this.count=count+descendants,this.hasWidgets=hasWidgets,this.hooks=hooks,this.descendantHooks=descendantHooks\n",
       "}var version=require(\"./version\"),isVNode=require(\"./is-vnode\"),isWidget=require(\"./is-widget\"),isVHook=require(\"./is-vhook\");module.exports=VirtualNode;var noProperties={},noChildren=[];VirtualNode.prototype.version=version,VirtualNode.prototype.type=\"VirtualNode\"},{\"./is-vhook\":39,\"./is-vnode\":40,\"./is-widget\":42,\"./version\":43}],45:[function(require,module){function VirtualText(text){this.text=String(text)}var version=require(\"./version\");module.exports=VirtualText,VirtualText.prototype.version=version,VirtualText.prototype.type=\"VirtualText\"},{\"./version\":43}],46:[function(require,module){function parseTag(tag,props){if(!tag)return\"div\";var noId=!(\"id\"in props),tagParts=tag.split(classIdSplit),tagName=null;notClassId.test(tagParts[1])&&(tagName=\"div\");var classes,part,type,i;for(i=0;i<tagParts.length;i++)part=tagParts[i],part&&(type=part.charAt(0),tagName?\".\"===type?(classes=classes||[],classes.push(part.substring(1,part.length))):\"#\"===type&&noId&&(props.id=part.substring(1,part.length)):tagName=part);return classes&&(props.className&&classes.push(props.className),props.className=classes.join(\" \")),tagName?tagName.toLowerCase():\"div\"}var classIdSplit=/([\\.#]?[a-zA-Z0-9_:-]+)/,notClassId=/^\\.|#/;module.exports=parseTag},{}],47:[function(require,module){function svg(tagName,properties,children){!children&&isChildren(properties)&&(children=properties,properties={}),properties=properties||{},properties.namespace=SVG_NAMESPACE;for(var key in properties)if(properties.hasOwnProperty(key)&&!BLACKLISTED_KEYS[key]){var value=properties[key];(\"string\"==typeof value||\"number\"==typeof value||\"boolean\"==typeof value)&&(properties[key]=attributeHook(value))}return h(tagName,properties,children)}function isChildren(x){return\"string\"==typeof x||Array.isArray(x)}var attributeHook=require(\"./hooks/attribute-hook.js\"),h=require(\"./index.js\"),BLACKLISTED_KEYS={style:!0,namespace:!0,key:!0},SVG_NAMESPACE=\"http://www.w3.org/2000/svg\";module.exports=svg},{\"./hooks/attribute-hook.js\":24,\"./index.js\":28}],48:[function(require,module){module.exports=require(17)},{\"/home/shashi/.julia/v0.3/Patchwork/runtime/node_modules/virtual-dom/node_modules/vtree/is-vhook.js\":17}],49:[function(require,module){module.exports=require(18)},{\"./version\":51,\"/home/shashi/.julia/v0.3/Patchwork/runtime/node_modules/virtual-dom/node_modules/vtree/is-vnode.js\":18}],50:[function(require,module){module.exports=require(20)},{\"/home/shashi/.julia/v0.3/Patchwork/runtime/node_modules/virtual-dom/node_modules/vtree/is-widget.js\":20}],51:[function(require,module){module.exports=require(21)},{\"/home/shashi/.julia/v0.3/Patchwork/runtime/node_modules/virtual-dom/node_modules/vtree/version.js\":21}],52:[function(require,module){module.exports=require(44)},{\"./is-vhook\":48,\"./is-vnode\":49,\"./is-widget\":50,\"./version\":51,\"/home/shashi/.julia/v0.3/Patchwork/runtime/node_modules/virtual-hyperscript/node_modules/vtree/vnode.js\":44}],53:[function(require,module){module.exports=require(22)},{\"./version\":51,\"/home/shashi/.julia/v0.3/Patchwork/runtime/node_modules/virtual-dom/node_modules/vtree/vpatch.js\":22}],54:[function(require,module){module.exports=require(45)},{\"./version\":51,\"/home/shashi/.julia/v0.3/Patchwork/runtime/node_modules/virtual-hyperscript/node_modules/vtree/vtext.js\":45}],55:[function(require,module){function isArray(obj){return\"[object Array]\"===toString.call(obj)}var nativeIsArray=Array.isArray,toString=Object.prototype.toString;module.exports=nativeIsArray||isArray},{}],56:[function(require,module){function reorder(array,moves){if(arr){for(var copy=array.slice(0),i=0,l=array.length;l>i;i++){var move=moves[i];void 0!==move&&(array[move]=copy[i])}return array}}function patchObject(obj,patch){for(var key in patch)obj[key]=isObject(patch[key])&&isObject(obj[key])?patchObject(obj[key],patch[key]):patch[key]}isObject=require(\"is-object\"),module.exports={reorder:reorder,patchObject:patchObject}},{\"is-object\":4}],57:[function(require,module){function patchVNode(root,patches){linkParents(root);for(var key in patches)if(\"a\"!==key)if(patch=patches[key],isArray(patch))for(var i=0,l=patch.length;l>i;i++)mutateNode(patch[i].type,patch[i].vNode,patch[i].patch);else mutateNode(patch.type,patch.vNode,patch.patch);return root}function linkParents(vNode){if(vNode&&vNode.children)for(var children=vNode.children,i=0,l=children.length;l>i;i++)children[i].up=vNode,linkParents(children[i])}var mutateNode=require(\"./vnode-patch-op\"),isArray=require(\"x-is-array\");module.exports=patchVNode},{\"./vnode-patch-op\":58,\"x-is-array\":55}],58:[function(require,module){function applyPatch(type,vNode,patch){switch(type){case VPatch.REMOVE:return removeNode(vNode);case VPatch.INSERT:return insertNode(vNode,patch);case VPatch.VTEXT:return stringPatch(vNode,patch);case VPatch.VNODE:return vNodePatch(vNode,patch);case VPatch.ORDER:return patchUtil.reorder(vNode.children,patch),vNode;case VPatch.PROPS:return patchUtil.patchObject(vNode.properties,patch),vNode;default:return vNode}}function offsetCount(node,count){node&&(void 0!==node.count?(node.count=node.count+count,offsetCount(node.up,count)):node.count=count)}function removeNode(node){if(node){var up=(node.count,node.up),idx=up.children.indexOf(node);return idx>-1&&(up.children.splice(idx,1),offsetCount(up,-node.count-1)),delete node,null}}function insertNode(node,child){return node.children.push(child),offsetCount(node,child.count+1),child.up=node,node}function stringPatch(node,patch){return node.text=patch.text,node}function vNodePatch(node,patch){var up=node.up,idx=up.children.indexOf(node),count=patch.count||0;return idx>-1&&(up.children[idx]=patch,node.count!=count&&offsetCount(up,count-node.count)),node}var VPatch=(require(\"vtree/is-widget\"),require(\"vtree/vpatch\")),patchUtil=require(\"./patch-util.js\");module.exports=applyPatch},{\"./patch-util.js\":56,\"vtree/is-widget\":50,\"vtree/vpatch\":53}],59:[function(){},{}]},{},[1]);</script>"
      ]
     },
     "metadata": {},
     "output_type": "display_data"
    },
    {
     "data": {
      "text/html": [],
      "text/plain": [
       "Options{:ToggleButtons,ASCIIString}([Input{ASCIIString}] yellow,\"color\",\"yellow\",\"yellow\",[\"yellow\"=>\"yellow\",\"cyan\"=>\"cyan\",\"tomato\"=>\"tomato\"])"
      ]
     },
     "metadata": {},
     "output_type": "display_data"
    },
    {
     "data": {
      "text/html": [],
      "text/plain": [
       "Slider{Int64}([Input{Int64}] 11,\"n\",11,3:20)"
      ]
     },
     "metadata": {},
     "output_type": "display_data"
    },
    {
     "data": {
      "text/plain": [
       "(1.425302598095622e9,0.0)"
      ]
     },
     "metadata": {
      "comm_id": "de891a65-26e6-4ceb-aeb2-fe9f232baed9",
      "reactive": true
     },
     "output_type": "display_data"
    },
    {
     "data": {
      "image/png": "[encoded data removed]",
      "image/svg+xml": [
       "<?xml version=\"1.0\" encoding=\"UTF-8\"?>\n",
       "<svg xmlns=\"http://www.w3.org/2000/svg\"\n",
       "     xmlns:xlink=\"http://www.w3.org/1999/xlink\"\n",
       "     version=\"1.2\"\n",
       "     width=\"141.42mm\" height=\"100mm\" viewBox=\"0 0 141.42 100\"\n",
       "     stroke=\"none\"\n",
       "     fill=\"#000000\"\n",
       "     stroke-width=\"0.3\"\n",
       "     font-size=\"3.88\"\n",
       ">\n",
       "<g fill=\"#FFFF00\" id=\"fig-9d425775ac46464d832f942ee3dce36a-element-1\">\n",
       "  <path d=\"M137.13,32.86 L 113.48 10.18 76.25 0.15 37.26 5.95 8.89 25.73 0.15 53.22 13.81 79.68 45.54 96.72 85.26 98.93 120.36 85.6 139.7 60.97 137.13 32.86 z\"/>\n",
       "</g>\n",
       "</svg>\n"
      ],
      "text/html": [
       "<div id=\"pwid8568\"><script>new Patchwork.Node(\"pwid8568\", {\"t\":\"svg\",\"p\":{\"width\":\"141.4213562373095mm\",\"stroke-width\":\"0.3\",\"font-size\":\"3.88\",\"fill\":\"#000000\",\"height\":\"100.0mm\",\"stroke\":\"none\",\"viewBox\":\"0 0 141.4213562373095 100.0\"},\"c\":[{\"t\":\"g\",\"p\":{\"fill\":\"#FFFF00\"},\"c\":[{\"t\":\"path\",\"p\":{\"d\":\"M137.13,32.86 L 113.48 10.18 76.25 0.15 37.26 5.95 8.89 25.73 0.15 53.22 13.81 79.68 45.54 96.72 85.26 98.93 120.36 85.6 139.7 60.97 137.13 32.86 z\"},\"n\":\"svg\"}],\"n\":\"svg\"}],\"n\":\"svg\"});</script></div>"
      ],
      "text/plain": [
       "Context(BoundingBox(Measure{MeasureNil,MeasureNil}(0.0,MeasureNil(),MeasureNil(),0.0,0.0),Measure{MeasureNil,MeasureNil}(0.0,MeasureNil(),MeasureNil(),0.0,0.0),Measure{MeasureNil,MeasureNil}(0.0,MeasureNil(),MeasureNil(),1.0,0.0),Measure{MeasureNil,MeasureNil}(0.0,MeasureNil(),MeasureNil(),0.0,1.0)),UnitBox{Nothing,Nothing,Nothing,Nothing}(nothing,nothing,nothing,nothing,Measure{MeasureNil,MeasureNil}(0.0,MeasureNil(),MeasureNil(),0.0,0.0),Measure{MeasureNil,MeasureNil}(0.0,MeasureNil(),MeasureNil(),0.0,0.0),Measure{MeasureNil,MeasureNil}(0.0,MeasureNil(),MeasureNil(),0.0,0.0),Measure{MeasureNil,MeasureNil}(0.0,MeasureNil(),MeasureNil(),0.0,0.0)),Rotation(0.0,Point(Measure{MeasureNil,MeasureNil}(0.0,MeasureNil(),MeasureNil(),0.5,0.0),Measure{MeasureNil,MeasureNil}(0.0,MeasureNil(),MeasureNil(),0.0,0.5))),nothing,ListNode{ComposeNode}(Form{PolygonPrimitive}([PolygonPrimitive([Point(Measure{Float64,MeasureNil}(0.0,0.9696899901494561,MeasureNil(),0.0,0.0),Measure{MeasureNil,Float64}(0.0,MeasureNil(),0.328561051235713,0.0,0.0)),Point(Measure{Float64,MeasureNil}(0.0,0.802441455186466,MeasureNil(),0.0,0.0),Measure{MeasureNil,Float64}(0.0,MeasureNil(),0.10184278709950156,0.0,0.0)),Point(Measure{Float64,MeasureNil}(0.0,0.5391698828648472,MeasureNil(),0.0,0.0),Measure{MeasureNil,Float64}(0.0,MeasureNil(),0.0015366409891754973,0.0,0.0)),Point(Measure{Float64,MeasureNil}(0.0,0.26346214790360156,MeasureNil(),0.0,0.0),Measure{MeasureNil,Float64}(0.0,MeasureNil(),0.05948910964015619,0.0,0.0)),Point(Measure{Float64,MeasureNil}(0.0,0.062853577159319,MeasureNil(),0.0,0.0),Measure{MeasureNil,Float64}(0.0,MeasureNil(),0.2573005871502847,0.0,0.0)),Point(Measure{Float64,MeasureNil}(0.0,0.001035819670214877,MeasureNil(),0.0,0.0),Measure{MeasureNil,Float64}(0.0,MeasureNil(),0.5321674796623181,0.0,0.0)),Point(Measure{Float64,MeasureNil}(0.0,0.09763568419289814,MeasureNil(),0.0,0.0),Measure{MeasureNil,Float64}(0.0,MeasureNil(),0.7968214233593707,0.0,0.0)),Point(Measure{Float64,MeasureNil}(0.0,0.32198339235925055,MeasureNil(),0.0,0.0),Measure{MeasureNil,Float64}(0.0,MeasureNil(),0.9672366503219535,0.0,0.0)),Point(Measure{Float64,MeasureNil}(0.0,0.6028501228778964,MeasureNil(),0.0,0.0),Measure{MeasureNil,Float64}(0.0,MeasureNil(),0.9893075231630939,0.0,0.0)),Point(Measure{Float64,MeasureNil}(0.0,0.8510626619089537,MeasureNil(),0.0,0.0),Measure{MeasureNil,Float64}(0.0,MeasureNil(),0.8560266948044761,0.0,0.0)),Point(Measure{Float64,MeasureNil}(0.0,0.9878152458559846,MeasureNil(),0.0,0.0),Measure{MeasureNil,Float64}(0.0,MeasureNil(),0.6097100082511406,0.0,0.0)),Point(Measure{Float64,MeasureNil}(0.0,0.9696900010483467,MeasureNil(),0.0,0.0),Measure{MeasureNil,Float64}(0.0,MeasureNil(),0.32856108109532406,0.0,0.0))])]),ListNode{ComposeNode}(Property{FillPrimitive}([FillPrimitive(RGB{Float64}(1.0,1.0,0.0))]),ListNull{ComposeNode}())),0,false,false,false,false,nothing,nothing,0.0)"
      ]
     },
     "execution_count": 2,
     "metadata": {},
     "output_type": "execute_result"
    }
   ],
   "source": [
    "using Color\n",
    "using Compose\n",
    "\n",
    "@manipulate for color=[\"yellow\", \"cyan\", \"tomato\"], n=3:20, t_dt=timestamp(fps(30.))\n",
    "    t, dt = t_dt # current time, time since last frame\n",
    "    compose(context(), fill(color),\n",
    "    polygon([((1+sin(θ+t))/2, (1+cos(θ+t))/2) for θ in 0:2π/n:2π]))\n",
    "end"
   ]
  },
  {
   "cell_type": "markdown",
   "metadata": {},
   "source": [
    "It's often advisable to give your animations a pause checkbox. Here is a bouncing ball that you can pause and resume"
   ]
  },
  {
   "cell_type": "code",
   "execution_count": 3,
   "metadata": {
    "collapsed": false
   },
   "outputs": [
    {
     "data": {
      "text/html": [],
      "text/plain": [
       "Checkbox([Input{Bool}] false,\"paused\",false)"
      ]
     },
     "metadata": {},
     "output_type": "display_data"
    },
    {
     "data": {
      "text/plain": [
       "0.0"
      ]
     },
     "metadata": {
      "comm_id": "13ca064e-3cc9-441f-bb1c-667f25f3380b",
      "reactive": true
     },
     "output_type": "display_data"
    },
    {
     "data": {
      "text/plain": [
       "0.0"
      ]
     },
     "metadata": {
      "comm_id": "8c0dba6f-1740-4272-8221-dfde40704522",
      "reactive": true
     },
     "output_type": "display_data"
    },
    {
     "data": {
      "text/html": [],
      "text/plain": [
       "Slider{Float64}([Input{Float64}] 2.5,\"gravity\",2.5,0.0:0.01:5.0)"
      ]
     },
     "metadata": {},
     "output_type": "display_data"
    },
    {
     "data": {
      "text/html": [],
      "text/plain": [
       "Options{:ToggleButtons,ASCIIString}([Input{ASCIIString}] tomato,\"color\",\"tomato\",\"tomato\",[\"tomato\"=>\"tomato\",\"cyan\"=>\"cyan\"])"
      ]
     },
     "metadata": {},
     "output_type": "display_data"
    },
    {
     "data": {
      "image/png": "[encoded data removed]",
      "image/svg+xml": [
       "<?xml version=\"1.0\" encoding=\"UTF-8\"?>\n",
       "<svg xmlns=\"http://www.w3.org/2000/svg\"\n",
       "     xmlns:xlink=\"http://www.w3.org/1999/xlink\"\n",
       "     version=\"1.2\"\n",
       "     width=\"141.42mm\" height=\"100mm\" viewBox=\"0 0 141.42 100\"\n",
       "     stroke=\"none\"\n",
       "     fill=\"#000000\"\n",
       "     stroke-width=\"0.3\"\n",
       "     font-size=\"3.88\"\n",
       ">\n",
       "<g fill=\"#FF6347\" id=\"fig-e822a40ae97a477f95d2c0fd87fd0e0f-element-1\">\n",
       "  <circle cx=\"77.78\" cy=\"61.81\" r=\"7.07\"/>\n",
       "</g>\n",
       "</svg>\n"
      ],
      "text/html": [
       "<div id=\"pwid8583\"><script>new Patchwork.Node(\"pwid8583\", {\"t\":\"svg\",\"p\":{\"width\":\"141.4213562373095mm\",\"stroke-width\":\"0.3\",\"font-size\":\"3.88\",\"fill\":\"#000000\",\"height\":\"100.0mm\",\"stroke\":\"none\",\"viewBox\":\"0 0 141.4213562373095 100.0\"},\"c\":[{\"t\":\"g\",\"p\":{\"fill\":\"#FF6347\"},\"c\":[{\"t\":\"circle\",\"p\":{\"cx\":77.78174593052023,\"r\":7.0710678118654755,\"cy\":61.80803883446814},\"n\":\"svg\"}],\"n\":\"svg\"}],\"n\":\"svg\"});</script></div>"
      ],
      "text/plain": [
       "Context(BoundingBox(Measure{Float64,MeasureNil}(0.0,0.5,MeasureNil(),0.0,0.0),Measure{MeasureNil,Float64}(0.0,MeasureNil(),0.5680803883446814,0.0,0.0),Measure{Float64,MeasureNil}(0.0,0.1,MeasureNil(),0.0,0.0),Measure{MeasureNil,Float64}(0.0,MeasureNil(),0.1,0.0,0.0)),UnitBox{Nothing,Nothing,Nothing,Nothing}(nothing,nothing,nothing,nothing,Measure{MeasureNil,MeasureNil}(0.0,MeasureNil(),MeasureNil(),0.0,0.0),Measure{MeasureNil,MeasureNil}(0.0,MeasureNil(),MeasureNil(),0.0,0.0),Measure{MeasureNil,MeasureNil}(0.0,MeasureNil(),MeasureNil(),0.0,0.0),Measure{MeasureNil,MeasureNil}(0.0,MeasureNil(),MeasureNil(),0.0,0.0)),Rotation(0.0,Point(Measure{MeasureNil,MeasureNil}(0.0,MeasureNil(),MeasureNil(),0.5,0.0),Measure{MeasureNil,MeasureNil}(0.0,MeasureNil(),MeasureNil(),0.0,0.5))),nothing,ListNode{ComposeNode}(Form{CirclePrimitive}([CirclePrimitive(Point(Measure{MeasureNil,MeasureNil}(0.0,MeasureNil(),MeasureNil(),0.5,0.0),Measure{MeasureNil,MeasureNil}(0.0,MeasureNil(),MeasureNil(),0.0,0.5)),Measure{MeasureNil,MeasureNil}(0.0,MeasureNil(),MeasureNil(),0.5,0.0))]),ListNode{ComposeNode}(Property{FillPrimitive}([FillPrimitive(RGB{Float64}(1.0,0.38823529411764707,0.2784313725490196))]),ListNull{ComposeNode}())),0,false,false,false,false,nothing,nothing,0.0)"
      ]
     },
     "execution_count": 3,
     "metadata": {},
     "output_type": "execute_result"
    }
   ],
   "source": [
    "using Compose\n",
    "\n",
    "@manipulate for \n",
    "    paused=false,\n",
    "    dt = fpswhen(lift(!, paused), 30),       # stop updating time when paused.\n",
    "    t = foldl(+, 0., dt),                    # add up the time deltas to get time\n",
    "    gravity = 0:0.01:5,                      # some sort of gravity\n",
    "    color = [\"tomato\", \"cyan\"]               # color the ball\n",
    "\n",
    "    compose(context(0.5, 1-abs(sin(t*gravity)), 0.1, 0.1), fill(color), circle())\n",
    "end"
   ]
  },
  {
   "cell_type": "markdown",
   "metadata": {},
   "source": [
    "Here is a captivating animation made with tiles of varying colors."
   ]
  },
  {
   "cell_type": "code",
   "execution_count": 4,
   "metadata": {
    "collapsed": false
   },
   "outputs": [
    {
     "data": {
      "text/html": [],
      "text/plain": [
       "Checkbox([Input{Bool}] true,\"unpaused\",true)"
      ]
     },
     "metadata": {},
     "output_type": "display_data"
    },
    {
     "data": {
      "text/plain": [
       "(1.425302608072622e9,0.0)"
      ]
     },
     "metadata": {
      "comm_id": "7a22e28c-fcf6-4252-9077-4305385a4162",
      "reactive": true
     },
     "output_type": "display_data"
    },
    {
     "data": {
      "image/png": "[encoded data removed]",
      "image/svg+xml": [
       "<?xml version=\"1.0\" encoding=\"UTF-8\"?>\n",
       "<svg xmlns=\"http://www.w3.org/2000/svg\"\n",
       "     xmlns:xlink=\"http://www.w3.org/1999/xlink\"\n",
       "     version=\"1.2\"\n",
       "     width=\"141.42mm\" height=\"100mm\" viewBox=\"0 0 141.42 100\"\n",
       "     stroke=\"none\"\n",
       "     fill=\"#000000\"\n",
       "     stroke-width=\"0.3\"\n",
       "     font-size=\"3.88\"\n",
       ">\n",
       "<g fill=\"#78BC56\" id=\"fig-e9cedc0d5e144be3a7e4a8c010d9aa7d-element-1\">\n",
       "  <rect x=\"123.74\" y=\"87.5\" width=\"17.68\" height=\"12.5\"/>\n",
       "</g>\n",
       "<g fill=\"#8AB94B\" id=\"fig-e9cedc0d5e144be3a7e4a8c010d9aa7d-element-2\">\n",
       "  <rect x=\"106.07\" y=\"87.5\" width=\"17.68\" height=\"12.5\"/>\n",
       "</g>\n",
       "<g fill=\"#9AB642\" id=\"fig-e9cedc0d5e144be3a7e4a8c010d9aa7d-element-3\">\n",
       "  <rect x=\"88.39\" y=\"87.5\" width=\"17.68\" height=\"12.5\"/>\n",
       "</g>\n",
       "<g fill=\"#A9B23B\" id=\"fig-e9cedc0d5e144be3a7e4a8c010d9aa7d-element-4\">\n",
       "  <rect x=\"70.71\" y=\"87.5\" width=\"17.68\" height=\"12.5\"/>\n",
       "</g>\n",
       "<g fill=\"#B8AE37\" id=\"fig-e9cedc0d5e144be3a7e4a8c010d9aa7d-element-5\">\n",
       "  <rect x=\"53.03\" y=\"87.5\" width=\"17.68\" height=\"12.5\"/>\n",
       "</g>\n",
       "<g fill=\"#C6A936\" id=\"fig-e9cedc0d5e144be3a7e4a8c010d9aa7d-element-6\">\n",
       "  <rect x=\"35.36\" y=\"87.5\" width=\"17.68\" height=\"12.5\"/>\n",
       "</g>\n",
       "<g fill=\"#D2A438\" id=\"fig-e9cedc0d5e144be3a7e4a8c010d9aa7d-element-7\">\n",
       "  <rect x=\"17.68\" y=\"87.5\" width=\"17.68\" height=\"12.5\"/>\n",
       "</g>\n",
       "<g fill=\"#DE9F3D\" id=\"fig-e9cedc0d5e144be3a7e4a8c010d9aa7d-element-8\">\n",
       "  <rect x=\"0\" y=\"87.5\" width=\"17.68\" height=\"12.5\"/>\n",
       "</g>\n",
       "<g fill=\"#8AB94B\" id=\"fig-e9cedc0d5e144be3a7e4a8c010d9aa7d-element-9\">\n",
       "  <rect x=\"123.74\" y=\"75\" width=\"17.68\" height=\"12.5\"/>\n",
       "</g>\n",
       "<g fill=\"#98B643\" id=\"fig-e9cedc0d5e144be3a7e4a8c010d9aa7d-element-10\">\n",
       "  <rect x=\"106.07\" y=\"75\" width=\"17.68\" height=\"12.5\"/>\n",
       "</g>\n",
       "<g fill=\"#A6B33D\" id=\"fig-e9cedc0d5e144be3a7e4a8c010d9aa7d-element-11\">\n",
       "  <rect x=\"88.39\" y=\"75\" width=\"17.68\" height=\"12.5\"/>\n",
       "</g>\n",
       "<g fill=\"#B3B039\" id=\"fig-e9cedc0d5e144be3a7e4a8c010d9aa7d-element-12\">\n",
       "  <rect x=\"70.71\" y=\"75\" width=\"17.68\" height=\"12.5\"/>\n",
       "</g>\n",
       "<g fill=\"#BFAC36\" id=\"fig-e9cedc0d5e144be3a7e4a8c010d9aa7d-element-13\">\n",
       "  <rect x=\"53.03\" y=\"75\" width=\"17.68\" height=\"12.5\"/>\n",
       "</g>\n",
       "<g fill=\"#CBA837\" id=\"fig-e9cedc0d5e144be3a7e4a8c010d9aa7d-element-14\">\n",
       "  <rect x=\"35.36\" y=\"75\" width=\"17.68\" height=\"12.5\"/>\n",
       "</g>\n",
       "<g fill=\"#D6A339\" id=\"fig-e9cedc0d5e144be3a7e4a8c010d9aa7d-element-15\">\n",
       "  <rect x=\"17.68\" y=\"75\" width=\"17.68\" height=\"12.5\"/>\n",
       "</g>\n",
       "<g fill=\"#E09E3D\" id=\"fig-e9cedc0d5e144be3a7e4a8c010d9aa7d-element-16\">\n",
       "  <rect x=\"0\" y=\"75\" width=\"17.68\" height=\"12.5\"/>\n",
       "</g>\n",
       "<g fill=\"#9AB642\" id=\"fig-e9cedc0d5e144be3a7e4a8c010d9aa7d-element-17\">\n",
       "  <rect x=\"123.74\" y=\"62.5\" width=\"17.68\" height=\"12.5\"/>\n",
       "</g>\n",
       "<g fill=\"#A6B33D\" id=\"fig-e9cedc0d5e144be3a7e4a8c010d9aa7d-element-18\">\n",
       "  <rect x=\"106.07\" y=\"62.5\" width=\"17.68\" height=\"12.5\"/>\n",
       "</g>\n",
       "<g fill=\"#B1B039\" id=\"fig-e9cedc0d5e144be3a7e4a8c010d9aa7d-element-19\">\n",
       "  <rect x=\"88.39\" y=\"62.5\" width=\"17.68\" height=\"12.5\"/>\n",
       "</g>\n",
       "<g fill=\"#BBAD37\" id=\"fig-e9cedc0d5e144be3a7e4a8c010d9aa7d-element-20\">\n",
       "  <rect x=\"70.71\" y=\"62.5\" width=\"17.68\" height=\"12.5\"/>\n",
       "</g>\n",
       "<g fill=\"#C6A936\" id=\"fig-e9cedc0d5e144be3a7e4a8c010d9aa7d-element-21\">\n",
       "  <rect x=\"53.03\" y=\"62.5\" width=\"17.68\" height=\"12.5\"/>\n",
       "</g>\n",
       "<g fill=\"#CFA637\" id=\"fig-e9cedc0d5e144be3a7e4a8c010d9aa7d-element-22\">\n",
       "  <rect x=\"35.36\" y=\"62.5\" width=\"17.68\" height=\"12.5\"/>\n",
       "</g>\n",
       "<g fill=\"#D9A23A\" id=\"fig-e9cedc0d5e144be3a7e4a8c010d9aa7d-element-23\">\n",
       "  <rect x=\"17.68\" y=\"62.5\" width=\"17.68\" height=\"12.5\"/>\n",
       "</g>\n",
       "<g fill=\"#E19E3E\" id=\"fig-e9cedc0d5e144be3a7e4a8c010d9aa7d-element-24\">\n",
       "  <rect x=\"0\" y=\"62.5\" width=\"17.68\" height=\"12.5\"/>\n",
       "</g>\n",
       "<g fill=\"#A9B23B\" id=\"fig-e9cedc0d5e144be3a7e4a8c010d9aa7d-element-25\">\n",
       "  <rect x=\"123.74\" y=\"50\" width=\"17.68\" height=\"12.5\"/>\n",
       "</g>\n",
       "<g fill=\"#B3B039\" id=\"fig-e9cedc0d5e144be3a7e4a8c010d9aa7d-element-26\">\n",
       "  <rect x=\"106.07\" y=\"50\" width=\"17.68\" height=\"12.5\"/>\n",
       "</g>\n",
       "<g fill=\"#BBAD37\" id=\"fig-e9cedc0d5e144be3a7e4a8c010d9aa7d-element-27\">\n",
       "  <rect x=\"88.39\" y=\"50\" width=\"17.68\" height=\"12.5\"/>\n",
       "</g>\n",
       "<g fill=\"#C4AA36\" id=\"fig-e9cedc0d5e144be3a7e4a8c010d9aa7d-element-28\">\n",
       "  <rect x=\"70.71\" y=\"50\" width=\"17.68\" height=\"12.5\"/>\n",
       "</g>\n",
       "<g fill=\"#CCA737\" id=\"fig-e9cedc0d5e144be3a7e4a8c010d9aa7d-element-29\">\n",
       "  <rect x=\"53.03\" y=\"50\" width=\"17.68\" height=\"12.5\"/>\n",
       "</g>\n",
       "<g fill=\"#D4A439\" id=\"fig-e9cedc0d5e144be3a7e4a8c010d9aa7d-element-30\">\n",
       "  <rect x=\"35.36\" y=\"50\" width=\"17.68\" height=\"12.5\"/>\n",
       "</g>\n",
       "<g fill=\"#DCA03B\" id=\"fig-e9cedc0d5e144be3a7e4a8c010d9aa7d-element-31\">\n",
       "  <rect x=\"17.68\" y=\"50\" width=\"17.68\" height=\"12.5\"/>\n",
       "</g>\n",
       "<g fill=\"#E39D3F\" id=\"fig-e9cedc0d5e144be3a7e4a8c010d9aa7d-element-32\">\n",
       "  <rect x=\"0\" y=\"50\" width=\"17.68\" height=\"12.5\"/>\n",
       "</g>\n",
       "<g fill=\"#B8AE37\" id=\"fig-e9cedc0d5e144be3a7e4a8c010d9aa7d-element-33\">\n",
       "  <rect x=\"123.74\" y=\"37.5\" width=\"17.68\" height=\"12.5\"/>\n",
       "</g>\n",
       "<g fill=\"#BFAC36\" id=\"fig-e9cedc0d5e144be3a7e4a8c010d9aa7d-element-34\">\n",
       "  <rect x=\"106.07\" y=\"37.5\" width=\"17.68\" height=\"12.5\"/>\n",
       "</g>\n",
       "<g fill=\"#C6A936\" id=\"fig-e9cedc0d5e144be3a7e4a8c010d9aa7d-element-35\">\n",
       "  <rect x=\"88.39\" y=\"37.5\" width=\"17.68\" height=\"12.5\"/>\n",
       "</g>\n",
       "<g fill=\"#CCA737\" id=\"fig-e9cedc0d5e144be3a7e4a8c010d9aa7d-element-36\">\n",
       "  <rect x=\"70.71\" y=\"37.5\" width=\"17.68\" height=\"12.5\"/>\n",
       "</g>\n",
       "<g fill=\"#D2A438\" id=\"fig-e9cedc0d5e144be3a7e4a8c010d9aa7d-element-37\">\n",
       "  <rect x=\"53.03\" y=\"37.5\" width=\"17.68\" height=\"12.5\"/>\n",
       "</g>\n",
       "<g fill=\"#D9A23A\" id=\"fig-e9cedc0d5e144be3a7e4a8c010d9aa7d-element-38\">\n",
       "  <rect x=\"35.36\" y=\"37.5\" width=\"17.68\" height=\"12.5\"/>\n",
       "</g>\n",
       "<g fill=\"#DE9F3D\" id=\"fig-e9cedc0d5e144be3a7e4a8c010d9aa7d-element-39\">\n",
       "  <rect x=\"17.68\" y=\"37.5\" width=\"17.68\" height=\"12.5\"/>\n",
       "</g>\n",
       "<g fill=\"#E49C40\" id=\"fig-e9cedc0d5e144be3a7e4a8c010d9aa7d-element-40\">\n",
       "  <rect x=\"0\" y=\"37.5\" width=\"17.68\" height=\"12.5\"/>\n",
       "</g>\n",
       "<g fill=\"#C6A936\" id=\"fig-e9cedc0d5e144be3a7e4a8c010d9aa7d-element-41\">\n",
       "  <rect x=\"123.74\" y=\"25\" width=\"17.68\" height=\"12.5\"/>\n",
       "</g>\n",
       "<g fill=\"#CBA837\" id=\"fig-e9cedc0d5e144be3a7e4a8c010d9aa7d-element-42\">\n",
       "  <rect x=\"106.07\" y=\"25\" width=\"17.68\" height=\"12.5\"/>\n",
       "</g>\n",
       "<g fill=\"#CFA637\" id=\"fig-e9cedc0d5e144be3a7e4a8c010d9aa7d-element-43\">\n",
       "  <rect x=\"88.39\" y=\"25\" width=\"17.68\" height=\"12.5\"/>\n",
       "</g>\n",
       "<g fill=\"#D4A439\" id=\"fig-e9cedc0d5e144be3a7e4a8c010d9aa7d-element-44\">\n",
       "  <rect x=\"70.71\" y=\"25\" width=\"17.68\" height=\"12.5\"/>\n",
       "</g>\n",
       "<g fill=\"#D9A23A\" id=\"fig-e9cedc0d5e144be3a7e4a8c010d9aa7d-element-45\">\n",
       "  <rect x=\"53.03\" y=\"25\" width=\"17.68\" height=\"12.5\"/>\n",
       "</g>\n",
       "<g fill=\"#DDA03C\" id=\"fig-e9cedc0d5e144be3a7e4a8c010d9aa7d-element-46\">\n",
       "  <rect x=\"35.36\" y=\"25\" width=\"17.68\" height=\"12.5\"/>\n",
       "</g>\n",
       "<g fill=\"#E19E3E\" id=\"fig-e9cedc0d5e144be3a7e4a8c010d9aa7d-element-47\">\n",
       "  <rect x=\"17.68\" y=\"25\" width=\"17.68\" height=\"12.5\"/>\n",
       "</g>\n",
       "<g fill=\"#E59C41\" id=\"fig-e9cedc0d5e144be3a7e4a8c010d9aa7d-element-48\">\n",
       "  <rect x=\"0\" y=\"25\" width=\"17.68\" height=\"12.5\"/>\n",
       "</g>\n",
       "<g fill=\"#D2A438\" id=\"fig-e9cedc0d5e144be3a7e4a8c010d9aa7d-element-49\">\n",
       "  <rect x=\"123.74\" y=\"12.5\" width=\"17.68\" height=\"12.5\"/>\n",
       "</g>\n",
       "<g fill=\"#D6A339\" id=\"fig-e9cedc0d5e144be3a7e4a8c010d9aa7d-element-50\">\n",
       "  <rect x=\"106.07\" y=\"12.5\" width=\"17.68\" height=\"12.5\"/>\n",
       "</g>\n",
       "<g fill=\"#D9A23A\" id=\"fig-e9cedc0d5e144be3a7e4a8c010d9aa7d-element-51\">\n",
       "  <rect x=\"88.39\" y=\"12.5\" width=\"17.68\" height=\"12.5\"/>\n",
       "</g>\n",
       "<g fill=\"#DCA03B\" id=\"fig-e9cedc0d5e144be3a7e4a8c010d9aa7d-element-52\">\n",
       "  <rect x=\"70.71\" y=\"12.5\" width=\"17.68\" height=\"12.5\"/>\n",
       "</g>\n",
       "<g fill=\"#DE9F3D\" id=\"fig-e9cedc0d5e144be3a7e4a8c010d9aa7d-element-53\">\n",
       "  <rect x=\"53.03\" y=\"12.5\" width=\"17.68\" height=\"12.5\"/>\n",
       "</g>\n",
       "<g fill=\"#E19E3E\" id=\"fig-e9cedc0d5e144be3a7e4a8c010d9aa7d-element-54\">\n",
       "  <rect x=\"35.36\" y=\"12.5\" width=\"17.68\" height=\"12.5\"/>\n",
       "</g>\n",
       "<g fill=\"#E49C40\" id=\"fig-e9cedc0d5e144be3a7e4a8c010d9aa7d-element-55\">\n",
       "  <rect x=\"17.68\" y=\"12.5\" width=\"17.68\" height=\"12.5\"/>\n",
       "</g>\n",
       "<g fill=\"#E79B42\" id=\"fig-e9cedc0d5e144be3a7e4a8c010d9aa7d-element-56\">\n",
       "  <rect x=\"0\" y=\"12.5\" width=\"17.68\" height=\"12.5\"/>\n",
       "</g>\n",
       "<g fill=\"#DE9F3D\" id=\"fig-e9cedc0d5e144be3a7e4a8c010d9aa7d-element-57\">\n",
       "  <rect x=\"123.74\" y=\"0\" width=\"17.68\" height=\"12.5\"/>\n",
       "</g>\n",
       "<g fill=\"#E09E3D\" id=\"fig-e9cedc0d5e144be3a7e4a8c010d9aa7d-element-58\">\n",
       "  <rect x=\"106.07\" y=\"0\" width=\"17.68\" height=\"12.5\"/>\n",
       "</g>\n",
       "<g fill=\"#E19E3E\" id=\"fig-e9cedc0d5e144be3a7e4a8c010d9aa7d-element-59\">\n",
       "  <rect x=\"88.39\" y=\"0\" width=\"17.68\" height=\"12.5\"/>\n",
       "</g>\n",
       "<g fill=\"#E39D3F\" id=\"fig-e9cedc0d5e144be3a7e4a8c010d9aa7d-element-60\">\n",
       "  <rect x=\"70.71\" y=\"0\" width=\"17.68\" height=\"12.5\"/>\n",
       "</g>\n",
       "<g fill=\"#E49C40\" id=\"fig-e9cedc0d5e144be3a7e4a8c010d9aa7d-element-61\">\n",
       "  <rect x=\"53.03\" y=\"0\" width=\"17.68\" height=\"12.5\"/>\n",
       "</g>\n",
       "<g fill=\"#E59C41\" id=\"fig-e9cedc0d5e144be3a7e4a8c010d9aa7d-element-62\">\n",
       "  <rect x=\"35.36\" y=\"0\" width=\"17.68\" height=\"12.5\"/>\n",
       "</g>\n",
       "<g fill=\"#E79B42\" id=\"fig-e9cedc0d5e144be3a7e4a8c010d9aa7d-element-63\">\n",
       "  <rect x=\"17.68\" y=\"0\" width=\"17.68\" height=\"12.5\"/>\n",
       "</g>\n",
       "<g fill=\"#E89A43\" id=\"fig-e9cedc0d5e144be3a7e4a8c010d9aa7d-element-64\">\n",
       "  <rect x=\"0\" y=\"0\" width=\"17.68\" height=\"12.5\"/>\n",
       "</g>\n",
       "</svg>\n"
      ],
      "text/html": [
       "<div id=\"pwid9581\"><script>new Patchwork.Node(\"pwid9581\", {\"t\":\"svg\",\"p\":{\"width\":\"141.4213562373095mm\",\"stroke-width\":\"0.3\",\"font-size\":\"3.88\",\"fill\":\"#000000\",\"height\":\"100.0mm\",\"stroke\":\"none\",\"viewBox\":\"0 0 141.4213562373095 100.0\"},\"c\":[{\"t\":\"g\",\"c\":[{\"t\":\"g\",\"c\":[{\"t\":\"g\",\"p\":{\"fill\":\"#78BC56\"},\"c\":[{\"t\":\"rect\",\"p\":{\"width\":17.67766952966369,\"height\":12.5,\"x\":123.74368670764582,\"y\":87.5},\"n\":\"svg\"}],\"n\":\"svg\"},{\"t\":\"g\",\"p\":{\"fill\":\"#8AB94B\"},\"c\":[{\"t\":\"rect\",\"p\":{\"width\":17.67766952966369,\"height\":12.5,\"x\":106.06601717798213,\"y\":87.5},\"n\":\"svg\"}],\"n\":\"svg\"},{\"t\":\"g\",\"p\":{\"fill\":\"#9AB642\"},\"c\":[{\"t\":\"rect\",\"p\":{\"width\":17.67766952966369,\"height\":12.5,\"x\":88.38834764831844,\"y\":87.5},\"n\":\"svg\"}],\"n\":\"svg\"},{\"t\":\"g\",\"p\":{\"fill\":\"#A9B23B\"},\"c\":[{\"t\":\"rect\",\"p\":{\"width\":17.67766952966369,\"height\":12.5,\"x\":70.71067811865476,\"y\":87.5},\"n\":\"svg\"}],\"n\":\"svg\"},{\"t\":\"g\",\"p\":{\"fill\":\"#B8AE37\"},\"c\":[{\"t\":\"rect\",\"p\":{\"width\":17.67766952966369,\"height\":12.5,\"x\":53.033008588991066,\"y\":87.5},\"n\":\"svg\"}],\"n\":\"svg\"},{\"t\":\"g\",\"p\":{\"fill\":\"#C6A936\"},\"c\":[{\"t\":\"rect\",\"p\":{\"width\":17.67766952966369,\"height\":12.5,\"x\":35.35533905932738,\"y\":87.5},\"n\":\"svg\"}],\"n\":\"svg\"},{\"t\":\"g\",\"p\":{\"fill\":\"#D2A438\"},\"c\":[{\"t\":\"rect\",\"p\":{\"width\":17.67766952966369,\"height\":12.5,\"x\":17.67766952966369,\"y\":87.5},\"n\":\"svg\"}],\"n\":\"svg\"},{\"t\":\"g\",\"p\":{\"fill\":\"#DE9F3D\"},\"c\":[{\"t\":\"rect\",\"p\":{\"width\":17.67766952966369,\"height\":12.5,\"x\":0.0,\"y\":87.5},\"n\":\"svg\"}],\"n\":\"svg\"},{\"t\":\"g\",\"p\":{\"fill\":\"#8AB94B\"},\"c\":[{\"t\":\"rect\",\"p\":{\"width\":17.67766952966369,\"height\":12.5,\"x\":123.74368670764582,\"y\":75.0},\"n\":\"svg\"}],\"n\":\"svg\"},{\"t\":\"g\",\"p\":{\"fill\":\"#98B643\"},\"c\":[{\"t\":\"rect\",\"p\":{\"width\":17.67766952966369,\"height\":12.5,\"x\":106.06601717798213,\"y\":75.0},\"n\":\"svg\"}],\"n\":\"svg\"},{\"t\":\"g\",\"p\":{\"fill\":\"#A6B33D\"},\"c\":[{\"t\":\"rect\",\"p\":{\"width\":17.67766952966369,\"height\":12.5,\"x\":88.38834764831844,\"y\":75.0},\"n\":\"svg\"}],\"n\":\"svg\"},{\"t\":\"g\",\"p\":{\"fill\":\"#B3B039\"},\"c\":[{\"t\":\"rect\",\"p\":{\"width\":17.67766952966369,\"height\":12.5,\"x\":70.71067811865476,\"y\":75.0},\"n\":\"svg\"}],\"n\":\"svg\"},{\"t\":\"g\",\"p\":{\"fill\":\"#BFAC36\"},\"c\":[{\"t\":\"rect\",\"p\":{\"width\":17.67766952966369,\"height\":12.5,\"x\":53.033008588991066,\"y\":75.0},\"n\":\"svg\"}],\"n\":\"svg\"},{\"t\":\"g\",\"p\":{\"fill\":\"#CBA837\"},\"c\":[{\"t\":\"rect\",\"p\":{\"width\":17.67766952966369,\"height\":12.5,\"x\":35.35533905932738,\"y\":75.0},\"n\":\"svg\"}],\"n\":\"svg\"},{\"t\":\"g\",\"p\":{\"fill\":\"#D6A339\"},\"c\":[{\"t\":\"rect\",\"p\":{\"width\":17.67766952966369,\"height\":12.5,\"x\":17.67766952966369,\"y\":75.0},\"n\":\"svg\"}],\"n\":\"svg\"},{\"t\":\"g\",\"p\":{\"fill\":\"#E09E3D\"},\"c\":[{\"t\":\"rect\",\"p\":{\"width\":17.67766952966369,\"height\":12.5,\"x\":0.0,\"y\":75.0},\"n\":\"svg\"}],\"n\":\"svg\"},{\"t\":\"g\",\"p\":{\"fill\":\"#9AB642\"},\"c\":[{\"t\":\"rect\",\"p\":{\"width\":17.67766952966369,\"height\":12.5,\"x\":123.74368670764582,\"y\":62.5},\"n\":\"svg\"}],\"n\":\"svg\"},{\"t\":\"g\",\"p\":{\"fill\":\"#A6B33D\"},\"c\":[{\"t\":\"rect\",\"p\":{\"width\":17.67766952966369,\"height\":12.5,\"x\":106.06601717798213,\"y\":62.5},\"n\":\"svg\"}],\"n\":\"svg\"},{\"t\":\"g\",\"p\":{\"fill\":\"#B1B039\"},\"c\":[{\"t\":\"rect\",\"p\":{\"width\":17.67766952966369,\"height\":12.5,\"x\":88.38834764831844,\"y\":62.5},\"n\":\"svg\"}],\"n\":\"svg\"},{\"t\":\"g\",\"p\":{\"fill\":\"#BBAD37\"},\"c\":[{\"t\":\"rect\",\"p\":{\"width\":17.67766952966369,\"height\":12.5,\"x\":70.71067811865476,\"y\":62.5},\"n\":\"svg\"}],\"n\":\"svg\"},{\"t\":\"g\",\"p\":{\"fill\":\"#C6A936\"},\"c\":[{\"t\":\"rect\",\"p\":{\"width\":17.67766952966369,\"height\":12.5,\"x\":53.033008588991066,\"y\":62.5},\"n\":\"svg\"}],\"n\":\"svg\"},{\"t\":\"g\",\"p\":{\"fill\":\"#CFA637\"},\"c\":[{\"t\":\"rect\",\"p\":{\"width\":17.67766952966369,\"height\":12.5,\"x\":35.35533905932738,\"y\":62.5},\"n\":\"svg\"}],\"n\":\"svg\"},{\"t\":\"g\",\"p\":{\"fill\":\"#D9A23A\"},\"c\":[{\"t\":\"rect\",\"p\":{\"width\":17.67766952966369,\"height\":12.5,\"x\":17.67766952966369,\"y\":62.5},\"n\":\"svg\"}],\"n\":\"svg\"},{\"t\":\"g\",\"p\":{\"fill\":\"#E19E3E\"},\"c\":[{\"t\":\"rect\",\"p\":{\"width\":17.67766952966369,\"height\":12.5,\"x\":0.0,\"y\":62.5},\"n\":\"svg\"}],\"n\":\"svg\"},{\"t\":\"g\",\"p\":{\"fill\":\"#A9B23B\"},\"c\":[{\"t\":\"rect\",\"p\":{\"width\":17.67766952966369,\"height\":12.5,\"x\":123.74368670764582,\"y\":50.0},\"n\":\"svg\"}],\"n\":\"svg\"},{\"t\":\"g\",\"p\":{\"fill\":\"#B3B039\"},\"c\":[{\"t\":\"rect\",\"p\":{\"width\":17.67766952966369,\"height\":12.5,\"x\":106.06601717798213,\"y\":50.0},\"n\":\"svg\"}],\"n\":\"svg\"},{\"t\":\"g\",\"p\":{\"fill\":\"#BBAD37\"},\"c\":[{\"t\":\"rect\",\"p\":{\"width\":17.67766952966369,\"height\":12.5,\"x\":88.38834764831844,\"y\":50.0},\"n\":\"svg\"}],\"n\":\"svg\"},{\"t\":\"g\",\"p\":{\"fill\":\"#C4AA36\"},\"c\":[{\"t\":\"rect\",\"p\":{\"width\":17.67766952966369,\"height\":12.5,\"x\":70.71067811865476,\"y\":50.0},\"n\":\"svg\"}],\"n\":\"svg\"},{\"t\":\"g\",\"p\":{\"fill\":\"#CCA737\"},\"c\":[{\"t\":\"rect\",\"p\":{\"width\":17.67766952966369,\"height\":12.5,\"x\":53.033008588991066,\"y\":50.0},\"n\":\"svg\"}],\"n\":\"svg\"},{\"t\":\"g\",\"p\":{\"fill\":\"#D4A439\"},\"c\":[{\"t\":\"rect\",\"p\":{\"width\":17.67766952966369,\"height\":12.5,\"x\":35.35533905932738,\"y\":50.0},\"n\":\"svg\"}],\"n\":\"svg\"},{\"t\":\"g\",\"p\":{\"fill\":\"#DCA03B\"},\"c\":[{\"t\":\"rect\",\"p\":{\"width\":17.67766952966369,\"height\":12.5,\"x\":17.67766952966369,\"y\":50.0},\"n\":\"svg\"}],\"n\":\"svg\"},{\"t\":\"g\",\"p\":{\"fill\":\"#E39D3F\"},\"c\":[{\"t\":\"rect\",\"p\":{\"width\":17.67766952966369,\"height\":12.5,\"x\":0.0,\"y\":50.0},\"n\":\"svg\"}],\"n\":\"svg\"},{\"t\":\"g\",\"p\":{\"fill\":\"#B8AE37\"},\"c\":[{\"t\":\"rect\",\"p\":{\"width\":17.67766952966369,\"height\":12.5,\"x\":123.74368670764582,\"y\":37.5},\"n\":\"svg\"}],\"n\":\"svg\"},{\"t\":\"g\",\"p\":{\"fill\":\"#BFAC36\"},\"c\":[{\"t\":\"rect\",\"p\":{\"width\":17.67766952966369,\"height\":12.5,\"x\":106.06601717798213,\"y\":37.5},\"n\":\"svg\"}],\"n\":\"svg\"},{\"t\":\"g\",\"p\":{\"fill\":\"#C6A936\"},\"c\":[{\"t\":\"rect\",\"p\":{\"width\":17.67766952966369,\"height\":12.5,\"x\":88.38834764831844,\"y\":37.5},\"n\":\"svg\"}],\"n\":\"svg\"},{\"t\":\"g\",\"p\":{\"fill\":\"#CCA737\"},\"c\":[{\"t\":\"rect\",\"p\":{\"width\":17.67766952966369,\"height\":12.5,\"x\":70.71067811865476,\"y\":37.5},\"n\":\"svg\"}],\"n\":\"svg\"},{\"t\":\"g\",\"p\":{\"fill\":\"#D2A438\"},\"c\":[{\"t\":\"rect\",\"p\":{\"width\":17.67766952966369,\"height\":12.5,\"x\":53.033008588991066,\"y\":37.5},\"n\":\"svg\"}],\"n\":\"svg\"},{\"t\":\"g\",\"p\":{\"fill\":\"#D9A23A\"},\"c\":[{\"t\":\"rect\",\"p\":{\"width\":17.67766952966369,\"height\":12.5,\"x\":35.35533905932738,\"y\":37.5},\"n\":\"svg\"}],\"n\":\"svg\"},{\"t\":\"g\",\"p\":{\"fill\":\"#DE9F3D\"},\"c\":[{\"t\":\"rect\",\"p\":{\"width\":17.67766952966369,\"height\":12.5,\"x\":17.67766952966369,\"y\":37.5},\"n\":\"svg\"}],\"n\":\"svg\"},{\"t\":\"g\",\"p\":{\"fill\":\"#E49C40\"},\"c\":[{\"t\":\"rect\",\"p\":{\"width\":17.67766952966369,\"height\":12.5,\"x\":0.0,\"y\":37.5},\"n\":\"svg\"}],\"n\":\"svg\"},{\"t\":\"g\",\"p\":{\"fill\":\"#C6A936\"},\"c\":[{\"t\":\"rect\",\"p\":{\"width\":17.67766952966369,\"height\":12.5,\"x\":123.74368670764582,\"y\":25.0},\"n\":\"svg\"}],\"n\":\"svg\"},{\"t\":\"g\",\"p\":{\"fill\":\"#CBA837\"},\"c\":[{\"t\":\"rect\",\"p\":{\"width\":17.67766952966369,\"height\":12.5,\"x\":106.06601717798213,\"y\":25.0},\"n\":\"svg\"}],\"n\":\"svg\"},{\"t\":\"g\",\"p\":{\"fill\":\"#CFA637\"},\"c\":[{\"t\":\"rect\",\"p\":{\"width\":17.67766952966369,\"height\":12.5,\"x\":88.38834764831844,\"y\":25.0},\"n\":\"svg\"}],\"n\":\"svg\"},{\"t\":\"g\",\"p\":{\"fill\":\"#D4A439\"},\"c\":[{\"t\":\"rect\",\"p\":{\"width\":17.67766952966369,\"height\":12.5,\"x\":70.71067811865476,\"y\":25.0},\"n\":\"svg\"}],\"n\":\"svg\"},{\"t\":\"g\",\"p\":{\"fill\":\"#D9A23A\"},\"c\":[{\"t\":\"rect\",\"p\":{\"width\":17.67766952966369,\"height\":12.5,\"x\":53.033008588991066,\"y\":25.0},\"n\":\"svg\"}],\"n\":\"svg\"},{\"t\":\"g\",\"p\":{\"fill\":\"#DDA03C\"},\"c\":[{\"t\":\"rect\",\"p\":{\"width\":17.67766952966369,\"height\":12.5,\"x\":35.35533905932738,\"y\":25.0},\"n\":\"svg\"}],\"n\":\"svg\"},{\"t\":\"g\",\"p\":{\"fill\":\"#E19E3E\"},\"c\":[{\"t\":\"rect\",\"p\":{\"width\":17.67766952966369,\"height\":12.5,\"x\":17.67766952966369,\"y\":25.0},\"n\":\"svg\"}],\"n\":\"svg\"},{\"t\":\"g\",\"p\":{\"fill\":\"#E59C41\"},\"c\":[{\"t\":\"rect\",\"p\":{\"width\":17.67766952966369,\"height\":12.5,\"x\":0.0,\"y\":25.0},\"n\":\"svg\"}],\"n\":\"svg\"},{\"t\":\"g\",\"p\":{\"fill\":\"#D2A438\"},\"c\":[{\"t\":\"rect\",\"p\":{\"width\":17.67766952966369,\"height\":12.5,\"x\":123.74368670764582,\"y\":12.5},\"n\":\"svg\"}],\"n\":\"svg\"},{\"t\":\"g\",\"p\":{\"fill\":\"#D6A339\"},\"c\":[{\"t\":\"rect\",\"p\":{\"width\":17.67766952966369,\"height\":12.5,\"x\":106.06601717798213,\"y\":12.5},\"n\":\"svg\"}],\"n\":\"svg\"},{\"t\":\"g\",\"p\":{\"fill\":\"#D9A23A\"},\"c\":[{\"t\":\"rect\",\"p\":{\"width\":17.67766952966369,\"height\":12.5,\"x\":88.38834764831844,\"y\":12.5},\"n\":\"svg\"}],\"n\":\"svg\"},{\"t\":\"g\",\"p\":{\"fill\":\"#DCA03B\"},\"c\":[{\"t\":\"rect\",\"p\":{\"width\":17.67766952966369,\"height\":12.5,\"x\":70.71067811865476,\"y\":12.5},\"n\":\"svg\"}],\"n\":\"svg\"},{\"t\":\"g\",\"p\":{\"fill\":\"#DE9F3D\"},\"c\":[{\"t\":\"rect\",\"p\":{\"width\":17.67766952966369,\"height\":12.5,\"x\":53.033008588991066,\"y\":12.5},\"n\":\"svg\"}],\"n\":\"svg\"},{\"t\":\"g\",\"p\":{\"fill\":\"#E19E3E\"},\"c\":[{\"t\":\"rect\",\"p\":{\"width\":17.67766952966369,\"height\":12.5,\"x\":35.35533905932738,\"y\":12.5},\"n\":\"svg\"}],\"n\":\"svg\"},{\"t\":\"g\",\"p\":{\"fill\":\"#E49C40\"},\"c\":[{\"t\":\"rect\",\"p\":{\"width\":17.67766952966369,\"height\":12.5,\"x\":17.67766952966369,\"y\":12.5},\"n\":\"svg\"}],\"n\":\"svg\"},{\"t\":\"g\",\"p\":{\"fill\":\"#E79B42\"},\"c\":[{\"t\":\"rect\",\"p\":{\"width\":17.67766952966369,\"height\":12.5,\"x\":0.0,\"y\":12.5},\"n\":\"svg\"}],\"n\":\"svg\"},{\"t\":\"g\",\"p\":{\"fill\":\"#DE9F3D\"},\"c\":[{\"t\":\"rect\",\"p\":{\"width\":17.67766952966369,\"height\":12.5,\"x\":123.74368670764582,\"y\":0.0},\"n\":\"svg\"}],\"n\":\"svg\"},{\"t\":\"g\",\"p\":{\"fill\":\"#E09E3D\"},\"c\":[{\"t\":\"rect\",\"p\":{\"width\":17.67766952966369,\"height\":12.5,\"x\":106.06601717798213,\"y\":0.0},\"n\":\"svg\"}],\"n\":\"svg\"},{\"t\":\"g\",\"p\":{\"fill\":\"#E19E3E\"},\"c\":[{\"t\":\"rect\",\"p\":{\"width\":17.67766952966369,\"height\":12.5,\"x\":88.38834764831844,\"y\":0.0},\"n\":\"svg\"}],\"n\":\"svg\"},{\"t\":\"g\",\"p\":{\"fill\":\"#E39D3F\"},\"c\":[{\"t\":\"rect\",\"p\":{\"width\":17.67766952966369,\"height\":12.5,\"x\":70.71067811865476,\"y\":0.0},\"n\":\"svg\"}],\"n\":\"svg\"},{\"t\":\"g\",\"p\":{\"fill\":\"#E49C40\"},\"c\":[{\"t\":\"rect\",\"p\":{\"width\":17.67766952966369,\"height\":12.5,\"x\":53.033008588991066,\"y\":0.0},\"n\":\"svg\"}],\"n\":\"svg\"},{\"t\":\"g\",\"p\":{\"fill\":\"#E59C41\"},\"c\":[{\"t\":\"rect\",\"p\":{\"width\":17.67766952966369,\"height\":12.5,\"x\":35.35533905932738,\"y\":0.0},\"n\":\"svg\"}],\"n\":\"svg\"},{\"t\":\"g\",\"p\":{\"fill\":\"#E79B42\"},\"c\":[{\"t\":\"rect\",\"p\":{\"width\":17.67766952966369,\"height\":12.5,\"x\":17.67766952966369,\"y\":0.0},\"n\":\"svg\"}],\"n\":\"svg\"},{\"t\":\"g\",\"p\":{\"fill\":\"#E89A43\"},\"c\":[{\"t\":\"rect\",\"p\":{\"width\":17.67766952966369,\"height\":12.5,\"x\":0.0,\"y\":0.0},\"n\":\"svg\"}],\"n\":\"svg\"}],\"n\":\"svg\"}],\"n\":\"svg\"}],\"n\":\"svg\"});</script></div>"
      ],
      "text/plain": [
       "Context(BoundingBox(Measure{MeasureNil,MeasureNil}(0.0,MeasureNil(),MeasureNil(),0.0,0.0),Measure{MeasureNil,MeasureNil}(0.0,MeasureNil(),MeasureNil(),0.0,0.0),Measure{MeasureNil,MeasureNil}(0.0,MeasureNil(),MeasureNil(),1.0,0.0),Measure{MeasureNil,MeasureNil}(0.0,MeasureNil(),MeasureNil(),0.0,1.0)),UnitBox{Nothing,Nothing,Nothing,Nothing}(nothing,nothing,nothing,nothing,Measure{MeasureNil,MeasureNil}(0.0,MeasureNil(),MeasureNil(),0.0,0.0),Measure{MeasureNil,MeasureNil}(0.0,MeasureNil(),MeasureNil(),0.0,0.0),Measure{MeasureNil,MeasureNil}(0.0,MeasureNil(),MeasureNil(),0.0,0.0),Measure{MeasureNil,MeasureNil}(0.0,MeasureNil(),MeasureNil(),0.0,0.0)),Rotation(0.0,Point(Measure{MeasureNil,MeasureNil}(0.0,MeasureNil(),MeasureNil(),0.5,0.0),Measure{MeasureNil,MeasureNil}(0.0,MeasureNil(),MeasureNil(),0.0,0.5))),nothing,ListNode{ComposeNode}(Table(8x8 Array{Array{Context,1},2}:\n",
       " [Context(BoundingBox(Measure{MeasureNil,MeasureNil}(0.0,MeasureNil(),MeasureNil(),0.0,0.0),Measure{MeasureNil,MeasureNil}(0.0,MeasureNil(),MeasureNil(),0.0,0.0),Measure{MeasureNil,MeasureNil}(0.0,MeasureNil(),MeasureNil(),1.0,0.0),Measure{MeasureNil,MeasureNil}(0.0,MeasureNil(),MeasureNil(),0.0,1.0)),UnitBox{Nothing,Nothing,Nothing,Nothing}(nothing,nothing,nothing,nothing,Measure{MeasureNil,MeasureNil}(0.0,MeasureNil(),MeasureNil(),0.0,0.0),Measure{MeasureNil,MeasureNil}(0.0,MeasureNil(),MeasureNil(),0.0,0.0),Measure{MeasureNil,MeasureNil}(0.0,MeasureNil(),MeasureNil(),0.0,0.0),Measure{MeasureNil,MeasureNil}(0.0,MeasureNil(),MeasureNil(),0.0,0.0)),Rotation(0.0,Point(Measure{MeasureNil,MeasureNil}(0.0,MeasureNil(),MeasureNil(),0.5,0.0),Measure{MeasureNil,MeasureNil}(0.0,MeasureNil(),MeasureNil(),0.0,0.5))),nothing,ListNode{ComposeNode}(Property{FillPrimitive}([FillPrimitive(LCHab{Float64}(70.0,60.0,1.425302608288816e11))]),ListNode{ComposeNode}(Form{RectanglePrimitive}([RectanglePrimitive(Point(Measure{MeasureNil,MeasureNil}(0.0,MeasureNil(),MeasureNil(),0.0,0.0),Measure{MeasureNil,MeasureNil}(0.0,MeasureNil(),MeasureNil(),0.0,0.0)),Measure{MeasureNil,MeasureNil}(0.0,MeasureNil(),MeasureNil(),1.0,0.0),Measure{MeasureNil,MeasureNil}(0.0,MeasureNil(),MeasureNil(),0.0,1.0))]),ListNull{ComposeNode}())),0,false,false,false,false,nothing,nothing,0.0)]  …  [Context(BoundingBox(Measure{MeasureNil,MeasureNil}(0.0,MeasureNil(),MeasureNil(),0.0,0.0),Measure{MeasureNil,MeasureNil}(0.0,MeasureNil(),MeasureNil(),0.0,0.0),Measure{MeasureNil,MeasureNil}(0.0,MeasureNil(),MeasureNil(),1.0,0.0),Measure{MeasureNil,MeasureNil}(0.0,MeasureNil(),MeasureNil(),0.0,1.0)),UnitBox{Nothing,Nothing,Nothing,Nothing}(nothing,nothing,nothing,nothing,Measure{MeasureNil,MeasureNil}(0.0,MeasureNil(),MeasureNil(),0.0,0.0),Measure{MeasureNil,MeasureNil}(0.0,MeasureNil(),MeasureNil(),0.0,0.0),Measure{MeasureNil,MeasureNil}(0.0,MeasureNil(),MeasureNil(),0.0,0.0),Measure{MeasureNil,MeasureNil}(0.0,MeasureNil(),MeasureNil(),0.0,0.0)),Rotation(0.0,Point(Measure{MeasureNil,MeasureNil}(0.0,MeasureNil(),MeasureNil(),0.5,0.0),Measure{MeasureNil,MeasureNil}(0.0,MeasureNil(),MeasureNil(),0.0,0.5))),nothing,ListNode{ComposeNode}(Property{FillPrimitive}([FillPrimitive(LCHab{Float64}(70.0,60.0,1.425302608358816e11))]),ListNode{ComposeNode}(Form{RectanglePrimitive}([RectanglePrimitive(Point(Measure{MeasureNil,MeasureNil}(0.0,MeasureNil(),MeasureNil(),0.0,0.0),Measure{MeasureNil,MeasureNil}(0.0,MeasureNil(),MeasureNil(),0.0,0.0)),Measure{MeasureNil,MeasureNil}(0.0,MeasureNil(),MeasureNil(),1.0,0.0),Measure{MeasureNil,MeasureNil}(0.0,MeasureNil(),MeasureNil(),0.0,1.0))]),ListNull{ComposeNode}())),0,false,false,false,false,nothing,nothing,0.0)]\n",
       " [Context(BoundingBox(Measure{MeasureNil,MeasureNil}(0.0,MeasureNil(),MeasureNil(),0.0,0.0),Measure{MeasureNil,MeasureNil}(0.0,MeasureNil(),MeasureNil(),0.0,0.0),Measure{MeasureNil,MeasureNil}(0.0,MeasureNil(),MeasureNil(),1.0,0.0),Measure{MeasureNil,MeasureNil}(0.0,MeasureNil(),MeasureNil(),0.0,1.0)),UnitBox{Nothing,Nothing,Nothing,Nothing}(nothing,nothing,nothing,nothing,Measure{MeasureNil,MeasureNil}(0.0,MeasureNil(),MeasureNil(),0.0,0.0),Measure{MeasureNil,MeasureNil}(0.0,MeasureNil(),MeasureNil(),0.0,0.0),Measure{MeasureNil,MeasureNil}(0.0,MeasureNil(),MeasureNil(),0.0,0.0),Measure{MeasureNil,MeasureNil}(0.0,MeasureNil(),MeasureNil(),0.0,0.0)),Rotation(0.0,Point(Measure{MeasureNil,MeasureNil}(0.0,MeasureNil(),MeasureNil(),0.5,0.0),Measure{MeasureNil,MeasureNil}(0.0,MeasureNil(),MeasureNil(),0.0,0.5))),nothing,ListNode{ComposeNode}(Property{FillPrimitive}([FillPrimitive(LCHab{Float64}(70.0,60.0,1.425302608298816e11))]),ListNode{ComposeNode}(Form{RectanglePrimitive}([RectanglePrimitive(Point(Measure{MeasureNil,MeasureNil}(0.0,MeasureNil(),MeasureNil(),0.0,0.0),Measure{MeasureNil,MeasureNil}(0.0,MeasureNil(),MeasureNil(),0.0,0.0)),Measure{MeasureNil,MeasureNil}(0.0,MeasureNil(),MeasureNil(),1.0,0.0),Measure{MeasureNil,MeasureNil}(0.0,MeasureNil(),MeasureNil(),0.0,1.0))]),ListNull{ComposeNode}())),0,false,false,false,false,nothing,nothing,0.0)]     [Context(BoundingBox(Measure{MeasureNil,MeasureNil}(0.0,MeasureNil(),MeasureNil(),0.0,0.0),Measure{MeasureNil,MeasureNil}(0.0,MeasureNil(),MeasureNil(),0.0,0.0),Measure{MeasureNil,MeasureNil}(0.0,MeasureNil(),MeasureNil(),1.0,0.0),Measure{MeasureNil,MeasureNil}(0.0,MeasureNil(),MeasureNil(),0.0,1.0)),UnitBox{Nothing,Nothing,Nothing,Nothing}(nothing,nothing,nothing,nothing,Measure{MeasureNil,MeasureNil}(0.0,MeasureNil(),MeasureNil(),0.0,0.0),Measure{MeasureNil,MeasureNil}(0.0,MeasureNil(),MeasureNil(),0.0,0.0),Measure{MeasureNil,MeasureNil}(0.0,MeasureNil(),MeasureNil(),0.0,0.0),Measure{MeasureNil,MeasureNil}(0.0,MeasureNil(),MeasureNil(),0.0,0.0)),Rotation(0.0,Point(Measure{MeasureNil,MeasureNil}(0.0,MeasureNil(),MeasureNil(),0.5,0.0),Measure{MeasureNil,MeasureNil}(0.0,MeasureNil(),MeasureNil(),0.0,0.5))),nothing,ListNode{ComposeNode}(Property{FillPrimitive}([FillPrimitive(LCHab{Float64}(70.0,60.0,1.425302608438816e11))]),ListNode{ComposeNode}(Form{RectanglePrimitive}([RectanglePrimitive(Point(Measure{MeasureNil,MeasureNil}(0.0,MeasureNil(),MeasureNil(),0.0,0.0),Measure{MeasureNil,MeasureNil}(0.0,MeasureNil(),MeasureNil(),0.0,0.0)),Measure{MeasureNil,MeasureNil}(0.0,MeasureNil(),MeasureNil(),1.0,0.0),Measure{MeasureNil,MeasureNil}(0.0,MeasureNil(),MeasureNil(),0.0,1.0))]),ListNull{ComposeNode}())),0,false,false,false,false,nothing,nothing,0.0)]\n",
       " [Context(BoundingBox(Measure{MeasureNil,MeasureNil}(0.0,MeasureNil(),MeasureNil(),0.0,0.0),Measure{MeasureNil,MeasureNil}(0.0,MeasureNil(),MeasureNil(),0.0,0.0),Measure{MeasureNil,MeasureNil}(0.0,MeasureNil(),MeasureNil(),1.0,0.0),Measure{MeasureNil,MeasureNil}(0.0,MeasureNil(),MeasureNil(),0.0,1.0)),UnitBox{Nothing,Nothing,Nothing,Nothing}(nothing,nothing,nothing,nothing,Measure{MeasureNil,MeasureNil}(0.0,MeasureNil(),MeasureNil(),0.0,0.0),Measure{MeasureNil,MeasureNil}(0.0,MeasureNil(),MeasureNil(),0.0,0.0),Measure{MeasureNil,MeasureNil}(0.0,MeasureNil(),MeasureNil(),0.0,0.0),Measure{MeasureNil,MeasureNil}(0.0,MeasureNil(),MeasureNil(),0.0,0.0)),Rotation(0.0,Point(Measure{MeasureNil,MeasureNil}(0.0,MeasureNil(),MeasureNil(),0.5,0.0),Measure{MeasureNil,MeasureNil}(0.0,MeasureNil(),MeasureNil(),0.0,0.5))),nothing,ListNode{ComposeNode}(Property{FillPrimitive}([FillPrimitive(LCHab{Float64}(70.0,60.0,1.425302608308816e11))]),ListNode{ComposeNode}(Form{RectanglePrimitive}([RectanglePrimitive(Point(Measure{MeasureNil,MeasureNil}(0.0,MeasureNil(),MeasureNil(),0.0,0.0),Measure{MeasureNil,MeasureNil}(0.0,MeasureNil(),MeasureNil(),0.0,0.0)),Measure{MeasureNil,MeasureNil}(0.0,MeasureNil(),MeasureNil(),1.0,0.0),Measure{MeasureNil,MeasureNil}(0.0,MeasureNil(),MeasureNil(),0.0,1.0))]),ListNull{ComposeNode}())),0,false,false,false,false,nothing,nothing,0.0)]     [Context(BoundingBox(Measure{MeasureNil,MeasureNil}(0.0,MeasureNil(),MeasureNil(),0.0,0.0),Measure{MeasureNil,MeasureNil}(0.0,MeasureNil(),MeasureNil(),0.0,0.0),Measure{MeasureNil,MeasureNil}(0.0,MeasureNil(),MeasureNil(),1.0,0.0),Measure{MeasureNil,MeasureNil}(0.0,MeasureNil(),MeasureNil(),0.0,1.0)),UnitBox{Nothing,Nothing,Nothing,Nothing}(nothing,nothing,nothing,nothing,Measure{MeasureNil,MeasureNil}(0.0,MeasureNil(),MeasureNil(),0.0,0.0),Measure{MeasureNil,MeasureNil}(0.0,MeasureNil(),MeasureNil(),0.0,0.0),Measure{MeasureNil,MeasureNil}(0.0,MeasureNil(),MeasureNil(),0.0,0.0),Measure{MeasureNil,MeasureNil}(0.0,MeasureNil(),MeasureNil(),0.0,0.0)),Rotation(0.0,Point(Measure{MeasureNil,MeasureNil}(0.0,MeasureNil(),MeasureNil(),0.5,0.0),Measure{MeasureNil,MeasureNil}(0.0,MeasureNil(),MeasureNil(),0.0,0.5))),nothing,ListNode{ComposeNode}(Property{FillPrimitive}([FillPrimitive(LCHab{Float64}(70.0,60.0,1.425302608518816e11))]),ListNode{ComposeNode}(Form{RectanglePrimitive}([RectanglePrimitive(Point(Measure{MeasureNil,MeasureNil}(0.0,MeasureNil(),MeasureNil(),0.0,0.0),Measure{MeasureNil,MeasureNil}(0.0,MeasureNil(),MeasureNil(),0.0,0.0)),Measure{MeasureNil,MeasureNil}(0.0,MeasureNil(),MeasureNil(),1.0,0.0),Measure{MeasureNil,MeasureNil}(0.0,MeasureNil(),MeasureNil(),0.0,1.0))]),ListNull{ComposeNode}())),0,false,false,false,false,nothing,nothing,0.0)]\n",
       " [Context(BoundingBox(Measure{MeasureNil,MeasureNil}(0.0,MeasureNil(),MeasureNil(),0.0,0.0),Measure{MeasureNil,MeasureNil}(0.0,MeasureNil(),MeasureNil(),0.0,0.0),Measure{MeasureNil,MeasureNil}(0.0,MeasureNil(),MeasureNil(),1.0,0.0),Measure{MeasureNil,MeasureNil}(0.0,MeasureNil(),MeasureNil(),0.0,1.0)),UnitBox{Nothing,Nothing,Nothing,Nothing}(nothing,nothing,nothing,nothing,Measure{MeasureNil,MeasureNil}(0.0,MeasureNil(),MeasureNil(),0.0,0.0),Measure{MeasureNil,MeasureNil}(0.0,MeasureNil(),MeasureNil(),0.0,0.0),Measure{MeasureNil,MeasureNil}(0.0,MeasureNil(),MeasureNil(),0.0,0.0),Measure{MeasureNil,MeasureNil}(0.0,MeasureNil(),MeasureNil(),0.0,0.0)),Rotation(0.0,Point(Measure{MeasureNil,MeasureNil}(0.0,MeasureNil(),MeasureNil(),0.5,0.0),Measure{MeasureNil,MeasureNil}(0.0,MeasureNil(),MeasureNil(),0.0,0.5))),nothing,ListNode{ComposeNode}(Property{FillPrimitive}([FillPrimitive(LCHab{Float64}(70.0,60.0,1.425302608318816e11))]),ListNode{ComposeNode}(Form{RectanglePrimitive}([RectanglePrimitive(Point(Measure{MeasureNil,MeasureNil}(0.0,MeasureNil(),MeasureNil(),0.0,0.0),Measure{MeasureNil,MeasureNil}(0.0,MeasureNil(),MeasureNil(),0.0,0.0)),Measure{MeasureNil,MeasureNil}(0.0,MeasureNil(),MeasureNil(),1.0,0.0),Measure{MeasureNil,MeasureNil}(0.0,MeasureNil(),MeasureNil(),0.0,1.0))]),ListNull{ComposeNode}())),0,false,false,false,false,nothing,nothing,0.0)]     [Context(BoundingBox(Measure{MeasureNil,MeasureNil}(0.0,MeasureNil(),MeasureNil(),0.0,0.0),Measure{MeasureNil,MeasureNil}(0.0,MeasureNil(),MeasureNil(),0.0,0.0),Measure{MeasureNil,MeasureNil}(0.0,MeasureNil(),MeasureNil(),1.0,0.0),Measure{MeasureNil,MeasureNil}(0.0,MeasureNil(),MeasureNil(),0.0,1.0)),UnitBox{Nothing,Nothing,Nothing,Nothing}(nothing,nothing,nothing,nothing,Measure{MeasureNil,MeasureNil}(0.0,MeasureNil(),MeasureNil(),0.0,0.0),Measure{MeasureNil,MeasureNil}(0.0,MeasureNil(),MeasureNil(),0.0,0.0),Measure{MeasureNil,MeasureNil}(0.0,MeasureNil(),MeasureNil(),0.0,0.0),Measure{MeasureNil,MeasureNil}(0.0,MeasureNil(),MeasureNil(),0.0,0.0)),Rotation(0.0,Point(Measure{MeasureNil,MeasureNil}(0.0,MeasureNil(),MeasureNil(),0.5,0.0),Measure{MeasureNil,MeasureNil}(0.0,MeasureNil(),MeasureNil(),0.0,0.5))),nothing,ListNode{ComposeNode}(Property{FillPrimitive}([FillPrimitive(LCHab{Float64}(70.0,60.0,1.425302608598816e11))]),ListNode{ComposeNode}(Form{RectanglePrimitive}([RectanglePrimitive(Point(Measure{MeasureNil,MeasureNil}(0.0,MeasureNil(),MeasureNil(),0.0,0.0),Measure{MeasureNil,MeasureNil}(0.0,MeasureNil(),MeasureNil(),0.0,0.0)),Measure{MeasureNil,MeasureNil}(0.0,MeasureNil(),MeasureNil(),1.0,0.0),Measure{MeasureNil,MeasureNil}(0.0,MeasureNil(),MeasureNil(),0.0,1.0))]),ListNull{ComposeNode}())),0,false,false,false,false,nothing,nothing,0.0)]\n",
       " [Context(BoundingBox(Measure{MeasureNil,MeasureNil}(0.0,MeasureNil(),MeasureNil(),0.0,0.0),Measure{MeasureNil,MeasureNil}(0.0,MeasureNil(),MeasureNil(),0.0,0.0),Measure{MeasureNil,MeasureNil}(0.0,MeasureNil(),MeasureNil(),1.0,0.0),Measure{MeasureNil,MeasureNil}(0.0,MeasureNil(),MeasureNil(),0.0,1.0)),UnitBox{Nothing,Nothing,Nothing,Nothing}(nothing,nothing,nothing,nothing,Measure{MeasureNil,MeasureNil}(0.0,MeasureNil(),MeasureNil(),0.0,0.0),Measure{MeasureNil,MeasureNil}(0.0,MeasureNil(),MeasureNil(),0.0,0.0),Measure{MeasureNil,MeasureNil}(0.0,MeasureNil(),MeasureNil(),0.0,0.0),Measure{MeasureNil,MeasureNil}(0.0,MeasureNil(),MeasureNil(),0.0,0.0)),Rotation(0.0,Point(Measure{MeasureNil,MeasureNil}(0.0,MeasureNil(),MeasureNil(),0.5,0.0),Measure{MeasureNil,MeasureNil}(0.0,MeasureNil(),MeasureNil(),0.0,0.5))),nothing,ListNode{ComposeNode}(Property{FillPrimitive}([FillPrimitive(LCHab{Float64}(70.0,60.0,1.425302608328816e11))]),ListNode{ComposeNode}(Form{RectanglePrimitive}([RectanglePrimitive(Point(Measure{MeasureNil,MeasureNil}(0.0,MeasureNil(),MeasureNil(),0.0,0.0),Measure{MeasureNil,MeasureNil}(0.0,MeasureNil(),MeasureNil(),0.0,0.0)),Measure{MeasureNil,MeasureNil}(0.0,MeasureNil(),MeasureNil(),1.0,0.0),Measure{MeasureNil,MeasureNil}(0.0,MeasureNil(),MeasureNil(),0.0,1.0))]),ListNull{ComposeNode}())),0,false,false,false,false,nothing,nothing,0.0)]     [Context(BoundingBox(Measure{MeasureNil,MeasureNil}(0.0,MeasureNil(),MeasureNil(),0.0,0.0),Measure{MeasureNil,MeasureNil}(0.0,MeasureNil(),MeasureNil(),0.0,0.0),Measure{MeasureNil,MeasureNil}(0.0,MeasureNil(),MeasureNil(),1.0,0.0),Measure{MeasureNil,MeasureNil}(0.0,MeasureNil(),MeasureNil(),0.0,1.0)),UnitBox{Nothing,Nothing,Nothing,Nothing}(nothing,nothing,nothing,nothing,Measure{MeasureNil,MeasureNil}(0.0,MeasureNil(),MeasureNil(),0.0,0.0),Measure{MeasureNil,MeasureNil}(0.0,MeasureNil(),MeasureNil(),0.0,0.0),Measure{MeasureNil,MeasureNil}(0.0,MeasureNil(),MeasureNil(),0.0,0.0),Measure{MeasureNil,MeasureNil}(0.0,MeasureNil(),MeasureNil(),0.0,0.0)),Rotation(0.0,Point(Measure{MeasureNil,MeasureNil}(0.0,MeasureNil(),MeasureNil(),0.5,0.0),Measure{MeasureNil,MeasureNil}(0.0,MeasureNil(),MeasureNil(),0.0,0.5))),nothing,ListNode{ComposeNode}(Property{FillPrimitive}([FillPrimitive(LCHab{Float64}(70.0,60.0,1.425302608678816e11))]),ListNode{ComposeNode}(Form{RectanglePrimitive}([RectanglePrimitive(Point(Measure{MeasureNil,MeasureNil}(0.0,MeasureNil(),MeasureNil(),0.0,0.0),Measure{MeasureNil,MeasureNil}(0.0,MeasureNil(),MeasureNil(),0.0,0.0)),Measure{MeasureNil,MeasureNil}(0.0,MeasureNil(),MeasureNil(),1.0,0.0),Measure{MeasureNil,MeasureNil}(0.0,MeasureNil(),MeasureNil(),0.0,1.0))]),ListNull{ComposeNode}())),0,false,false,false,false,nothing,nothing,0.0)]\n",
       " [Context(BoundingBox(Measure{MeasureNil,MeasureNil}(0.0,MeasureNil(),MeasureNil(),0.0,0.0),Measure{MeasureNil,MeasureNil}(0.0,MeasureNil(),MeasureNil(),0.0,0.0),Measure{MeasureNil,MeasureNil}(0.0,MeasureNil(),MeasureNil(),1.0,0.0),Measure{MeasureNil,MeasureNil}(0.0,MeasureNil(),MeasureNil(),0.0,1.0)),UnitBox{Nothing,Nothing,Nothing,Nothing}(nothing,nothing,nothing,nothing,Measure{MeasureNil,MeasureNil}(0.0,MeasureNil(),MeasureNil(),0.0,0.0),Measure{MeasureNil,MeasureNil}(0.0,MeasureNil(),MeasureNil(),0.0,0.0),Measure{MeasureNil,MeasureNil}(0.0,MeasureNil(),MeasureNil(),0.0,0.0),Measure{MeasureNil,MeasureNil}(0.0,MeasureNil(),MeasureNil(),0.0,0.0)),Rotation(0.0,Point(Measure{MeasureNil,MeasureNil}(0.0,MeasureNil(),MeasureNil(),0.5,0.0),Measure{MeasureNil,MeasureNil}(0.0,MeasureNil(),MeasureNil(),0.0,0.5))),nothing,ListNode{ComposeNode}(Property{FillPrimitive}([FillPrimitive(LCHab{Float64}(70.0,60.0,1.425302608338816e11))]),ListNode{ComposeNode}(Form{RectanglePrimitive}([RectanglePrimitive(Point(Measure{MeasureNil,MeasureNil}(0.0,MeasureNil(),MeasureNil(),0.0,0.0),Measure{MeasureNil,MeasureNil}(0.0,MeasureNil(),MeasureNil(),0.0,0.0)),Measure{MeasureNil,MeasureNil}(0.0,MeasureNil(),MeasureNil(),1.0,0.0),Measure{MeasureNil,MeasureNil}(0.0,MeasureNil(),MeasureNil(),0.0,1.0))]),ListNull{ComposeNode}())),0,false,false,false,false,nothing,nothing,0.0)]  …  [Context(BoundingBox(Measure{MeasureNil,MeasureNil}(0.0,MeasureNil(),MeasureNil(),0.0,0.0),Measure{MeasureNil,MeasureNil}(0.0,MeasureNil(),MeasureNil(),0.0,0.0),Measure{MeasureNil,MeasureNil}(0.0,MeasureNil(),MeasureNil(),1.0,0.0),Measure{MeasureNil,MeasureNil}(0.0,MeasureNil(),MeasureNil(),0.0,1.0)),UnitBox{Nothing,Nothing,Nothing,Nothing}(nothing,nothing,nothing,nothing,Measure{MeasureNil,MeasureNil}(0.0,MeasureNil(),MeasureNil(),0.0,0.0),Measure{MeasureNil,MeasureNil}(0.0,MeasureNil(),MeasureNil(),0.0,0.0),Measure{MeasureNil,MeasureNil}(0.0,MeasureNil(),MeasureNil(),0.0,0.0),Measure{MeasureNil,MeasureNil}(0.0,MeasureNil(),MeasureNil(),0.0,0.0)),Rotation(0.0,Point(Measure{MeasureNil,MeasureNil}(0.0,MeasureNil(),MeasureNil(),0.5,0.0),Measure{MeasureNil,MeasureNil}(0.0,MeasureNil(),MeasureNil(),0.0,0.5))),nothing,ListNode{ComposeNode}(Property{FillPrimitive}([FillPrimitive(LCHab{Float64}(70.0,60.0,1.425302608758816e11))]),ListNode{ComposeNode}(Form{RectanglePrimitive}([RectanglePrimitive(Point(Measure{MeasureNil,MeasureNil}(0.0,MeasureNil(),MeasureNil(),0.0,0.0),Measure{MeasureNil,MeasureNil}(0.0,MeasureNil(),MeasureNil(),0.0,0.0)),Measure{MeasureNil,MeasureNil}(0.0,MeasureNil(),MeasureNil(),1.0,0.0),Measure{MeasureNil,MeasureNil}(0.0,MeasureNil(),MeasureNil(),0.0,1.0))]),ListNull{ComposeNode}())),0,false,false,false,false,nothing,nothing,0.0)]\n",
       " [Context(BoundingBox(Measure{MeasureNil,MeasureNil}(0.0,MeasureNil(),MeasureNil(),0.0,0.0),Measure{MeasureNil,MeasureNil}(0.0,MeasureNil(),MeasureNil(),0.0,0.0),Measure{MeasureNil,MeasureNil}(0.0,MeasureNil(),MeasureNil(),1.0,0.0),Measure{MeasureNil,MeasureNil}(0.0,MeasureNil(),MeasureNil(),0.0,1.0)),UnitBox{Nothing,Nothing,Nothing,Nothing}(nothing,nothing,nothing,nothing,Measure{MeasureNil,MeasureNil}(0.0,MeasureNil(),MeasureNil(),0.0,0.0),Measure{MeasureNil,MeasureNil}(0.0,MeasureNil(),MeasureNil(),0.0,0.0),Measure{MeasureNil,MeasureNil}(0.0,MeasureNil(),MeasureNil(),0.0,0.0),Measure{MeasureNil,MeasureNil}(0.0,MeasureNil(),MeasureNil(),0.0,0.0)),Rotation(0.0,Point(Measure{MeasureNil,MeasureNil}(0.0,MeasureNil(),MeasureNil(),0.5,0.0),Measure{MeasureNil,MeasureNil}(0.0,MeasureNil(),MeasureNil(),0.0,0.5))),nothing,ListNode{ComposeNode}(Property{FillPrimitive}([FillPrimitive(LCHab{Float64}(70.0,60.0,1.425302608348816e11))]),ListNode{ComposeNode}(Form{RectanglePrimitive}([RectanglePrimitive(Point(Measure{MeasureNil,MeasureNil}(0.0,MeasureNil(),MeasureNil(),0.0,0.0),Measure{MeasureNil,MeasureNil}(0.0,MeasureNil(),MeasureNil(),0.0,0.0)),Measure{MeasureNil,MeasureNil}(0.0,MeasureNil(),MeasureNil(),1.0,0.0),Measure{MeasureNil,MeasureNil}(0.0,MeasureNil(),MeasureNil(),0.0,1.0))]),ListNull{ComposeNode}())),0,false,false,false,false,nothing,nothing,0.0)]     [Context(BoundingBox(Measure{MeasureNil,MeasureNil}(0.0,MeasureNil(),MeasureNil(),0.0,0.0),Measure{MeasureNil,MeasureNil}(0.0,MeasureNil(),MeasureNil(),0.0,0.0),Measure{MeasureNil,MeasureNil}(0.0,MeasureNil(),MeasureNil(),1.0,0.0),Measure{MeasureNil,MeasureNil}(0.0,MeasureNil(),MeasureNil(),0.0,1.0)),UnitBox{Nothing,Nothing,Nothing,Nothing}(nothing,nothing,nothing,nothing,Measure{MeasureNil,MeasureNil}(0.0,MeasureNil(),MeasureNil(),0.0,0.0),Measure{MeasureNil,MeasureNil}(0.0,MeasureNil(),MeasureNil(),0.0,0.0),Measure{MeasureNil,MeasureNil}(0.0,MeasureNil(),MeasureNil(),0.0,0.0),Measure{MeasureNil,MeasureNil}(0.0,MeasureNil(),MeasureNil(),0.0,0.0)),Rotation(0.0,Point(Measure{MeasureNil,MeasureNil}(0.0,MeasureNil(),MeasureNil(),0.5,0.0),Measure{MeasureNil,MeasureNil}(0.0,MeasureNil(),MeasureNil(),0.0,0.5))),nothing,ListNode{ComposeNode}(Property{FillPrimitive}([FillPrimitive(LCHab{Float64}(70.0,60.0,1.425302608838816e11))]),ListNode{ComposeNode}(Form{RectanglePrimitive}([RectanglePrimitive(Point(Measure{MeasureNil,MeasureNil}(0.0,MeasureNil(),MeasureNil(),0.0,0.0),Measure{MeasureNil,MeasureNil}(0.0,MeasureNil(),MeasureNil(),0.0,0.0)),Measure{MeasureNil,MeasureNil}(0.0,MeasureNil(),MeasureNil(),1.0,0.0),Measure{MeasureNil,MeasureNil}(0.0,MeasureNil(),MeasureNil(),0.0,1.0))]),ListNull{ComposeNode}())),0,false,false,false,false,nothing,nothing,0.0)]\n",
       " [Context(BoundingBox(Measure{MeasureNil,MeasureNil}(0.0,MeasureNil(),MeasureNil(),0.0,0.0),Measure{MeasureNil,MeasureNil}(0.0,MeasureNil(),MeasureNil(),0.0,0.0),Measure{MeasureNil,MeasureNil}(0.0,MeasureNil(),MeasureNil(),1.0,0.0),Measure{MeasureNil,MeasureNil}(0.0,MeasureNil(),MeasureNil(),0.0,1.0)),UnitBox{Nothing,Nothing,Nothing,Nothing}(nothing,nothing,nothing,nothing,Measure{MeasureNil,MeasureNil}(0.0,MeasureNil(),MeasureNil(),0.0,0.0),Measure{MeasureNil,MeasureNil}(0.0,MeasureNil(),MeasureNil(),0.0,0.0),Measure{MeasureNil,MeasureNil}(0.0,MeasureNil(),MeasureNil(),0.0,0.0),Measure{MeasureNil,MeasureNil}(0.0,MeasureNil(),MeasureNil(),0.0,0.0)),Rotation(0.0,Point(Measure{MeasureNil,MeasureNil}(0.0,MeasureNil(),MeasureNil(),0.5,0.0),Measure{MeasureNil,MeasureNil}(0.0,MeasureNil(),MeasureNil(),0.0,0.5))),nothing,ListNode{ComposeNode}(Property{FillPrimitive}([FillPrimitive(LCHab{Float64}(70.0,60.0,1.425302608358816e11))]),ListNode{ComposeNode}(Form{RectanglePrimitive}([RectanglePrimitive(Point(Measure{MeasureNil,MeasureNil}(0.0,MeasureNil(),MeasureNil(),0.0,0.0),Measure{MeasureNil,MeasureNil}(0.0,MeasureNil(),MeasureNil(),0.0,0.0)),Measure{MeasureNil,MeasureNil}(0.0,MeasureNil(),MeasureNil(),1.0,0.0),Measure{MeasureNil,MeasureNil}(0.0,MeasureNil(),MeasureNil(),0.0,1.0))]),ListNull{ComposeNode}())),0,false,false,false,false,nothing,nothing,0.0)]     [Context(BoundingBox(Measure{MeasureNil,MeasureNil}(0.0,MeasureNil(),MeasureNil(),0.0,0.0),Measure{MeasureNil,MeasureNil}(0.0,MeasureNil(),MeasureNil(),0.0,0.0),Measure{MeasureNil,MeasureNil}(0.0,MeasureNil(),MeasureNil(),1.0,0.0),Measure{MeasureNil,MeasureNil}(0.0,MeasureNil(),MeasureNil(),0.0,1.0)),UnitBox{Nothing,Nothing,Nothing,Nothing}(nothing,nothing,nothing,nothing,Measure{MeasureNil,MeasureNil}(0.0,MeasureNil(),MeasureNil(),0.0,0.0),Measure{MeasureNil,MeasureNil}(0.0,MeasureNil(),MeasureNil(),0.0,0.0),Measure{MeasureNil,MeasureNil}(0.0,MeasureNil(),MeasureNil(),0.0,0.0),Measure{MeasureNil,MeasureNil}(0.0,MeasureNil(),MeasureNil(),0.0,0.0)),Rotation(0.0,Point(Measure{MeasureNil,MeasureNil}(0.0,MeasureNil(),MeasureNil(),0.5,0.0),Measure{MeasureNil,MeasureNil}(0.0,MeasureNil(),MeasureNil(),0.0,0.5))),nothing,ListNode{ComposeNode}(Property{FillPrimitive}([FillPrimitive(LCHab{Float64}(70.0,60.0,1.425302608918816e11))]),ListNode{ComposeNode}(Form{RectanglePrimitive}([RectanglePrimitive(Point(Measure{MeasureNil,MeasureNil}(0.0,MeasureNil(),MeasureNil(),0.0,0.0),Measure{MeasureNil,MeasureNil}(0.0,MeasureNil(),MeasureNil(),0.0,0.0)),Measure{MeasureNil,MeasureNil}(0.0,MeasureNil(),MeasureNil(),1.0,0.0),Measure{MeasureNil,MeasureNil}(0.0,MeasureNil(),MeasureNil(),0.0,1.0))]),ListNull{ComposeNode}())),0,false,false,false,false,nothing,nothing,0.0)],1:8,1:8,[0.125,0.125,0.125,0.125,0.125,0.125,0.125,0.125],[0.125,0.125,0.125,0.125,0.125,0.125,0.125,0.125],nothing,{},UnitBox{Nothing,Nothing,Nothing,Nothing}(nothing,nothing,nothing,nothing,Measure{MeasureNil,MeasureNil}(0.0,MeasureNil(),MeasureNil(),0.0,0.0),Measure{MeasureNil,MeasureNil}(0.0,MeasureNil(),MeasureNil(),0.0,0.0),Measure{MeasureNil,MeasureNil}(0.0,MeasureNil(),MeasureNil(),0.0,0.0),Measure{MeasureNil,MeasureNil}(0.0,MeasureNil(),MeasureNil(),0.0,0.0)),0,false,false),ListNull{ComposeNode}()),0,false,false,false,false,nothing,nothing,0.0)"
      ]
     },
     "execution_count": 4,
     "metadata": {},
     "output_type": "execute_result"
    }
   ],
   "source": [
    "using Color\n",
    "using Compose\n",
    "\n",
    "@manipulate for unpaused = true, x=timestamp(fpswhen(unpaused, 30.))\n",
    "    gridstack([compose(context(), rectangle(), fill(LCHab(70.0, 60.0, 100*x[1]+i*j)))\n",
    "                   for i in 1:8, j in 1:8])\n",
    "end"
   ]
  },
  {
   "cell_type": "markdown",
   "metadata": {},
   "source": [
    "And finally, particles in a box."
   ]
  },
  {
   "cell_type": "code",
   "execution_count": 5,
   "metadata": {
    "collapsed": false
   },
   "outputs": [
    {
     "data": {
      "text/plain": [
       "(1.425302613333401e9,0.0)"
      ]
     },
     "metadata": {
      "comm_id": "7ed734ae-f356-4cf2-a98f-8e0b30d020f2",
      "reactive": true
     },
     "output_type": "display_data"
    },
    {
     "data": {
      "text/html": [],
      "text/plain": [
       "Button{Nothing}([Input{Nothing}] nothing,\"Add particle\",nothing)"
      ]
     },
     "metadata": {},
     "output_type": "display_data"
    },
    {
     "data": {
      "text/plain": [
       "1-element Array{Any,1}:\n",
       " [0.61781,0.44481]"
      ]
     },
     "metadata": {
      "comm_id": "67ea9dbe-7f07-4407-9a90-6e4dfa096634",
      "reactive": true
     },
     "output_type": "display_data"
    },
    {
     "data": {
      "image/png": "[encoded data removed]",
      "image/svg+xml": [
       "<?xml version=\"1.0\" encoding=\"UTF-8\"?>\n",
       "<svg xmlns=\"http://www.w3.org/2000/svg\"\n",
       "     xmlns:xlink=\"http://www.w3.org/1999/xlink\"\n",
       "     version=\"1.2\"\n",
       "     width=\"141.42mm\" height=\"100mm\" viewBox=\"0 0 141.42 100\"\n",
       "     stroke=\"none\"\n",
       "     fill=\"#000000\"\n",
       "     stroke-width=\"0.3\"\n",
       "     font-size=\"3.88\"\n",
       ">\n",
       "<g fill=\"#00FFFF\" id=\"fig-c6c5a2e174ad4876865b0d426481a2b6-element-1\">\n",
       "  <circle cx=\"97.18\" cy=\"47.68\" r=\"3.54\"/>\n",
       "</g>\n",
       "</svg>\n"
      ],
      "text/html": [
       "<div id=\"pwid9682\"><script>new Patchwork.Node(\"pwid9682\", {\"t\":\"svg\",\"p\":{\"width\":\"141.4213562373095mm\",\"stroke-width\":\"0.3\",\"font-size\":\"3.88\",\"fill\":\"#000000\",\"height\":\"100.0mm\",\"stroke\":\"none\",\"viewBox\":\"0 0 141.4213562373095 100.0\"},\"c\":[{\"t\":\"g\",\"c\":[{\"t\":\"g\",\"p\":{\"fill\":\"#00FFFF\"},\"c\":[{\"t\":\"circle\",\"p\":{\"cx\":97.1766432841639,\"r\":3.5355339059327378,\"cy\":47.6799750328064},\"n\":\"svg\"}],\"n\":\"svg\"}],\"n\":\"svg\"}],\"n\":\"svg\"});</script></div>"
      ],
      "text/plain": [
       "Context(BoundingBox(Measure{MeasureNil,MeasureNil}(0.0,MeasureNil(),MeasureNil(),0.0,0.0),Measure{MeasureNil,MeasureNil}(0.0,MeasureNil(),MeasureNil(),0.0,0.0),Measure{MeasureNil,MeasureNil}(0.0,MeasureNil(),MeasureNil(),1.0,0.0),Measure{MeasureNil,MeasureNil}(0.0,MeasureNil(),MeasureNil(),0.0,1.0)),UnitBox{Nothing,Nothing,Nothing,Nothing}(nothing,nothing,nothing,nothing,Measure{MeasureNil,MeasureNil}(0.0,MeasureNil(),MeasureNil(),0.0,0.0),Measure{MeasureNil,MeasureNil}(0.0,MeasureNil(),MeasureNil(),0.0,0.0),Measure{MeasureNil,MeasureNil}(0.0,MeasureNil(),MeasureNil(),0.0,0.0),Measure{MeasureNil,MeasureNil}(0.0,MeasureNil(),MeasureNil(),0.0,0.0)),Rotation(0.0,Point(Measure{MeasureNil,MeasureNil}(0.0,MeasureNil(),MeasureNil(),0.5,0.0),Measure{MeasureNil,MeasureNil}(0.0,MeasureNil(),MeasureNil(),0.0,0.5))),nothing,ListNode{ComposeNode}(Context(BoundingBox(Measure{Float64,MeasureNil}(0.0,0.6621426343917847,MeasureNil(),0.0,0.0),Measure{MeasureNil,Float64}(0.0,MeasureNil(),0.45179975032806396,0.0,0.0),Measure{Float64,MeasureNil}(0.0,0.05,MeasureNil(),0.0,0.0),Measure{MeasureNil,Float64}(0.0,MeasureNil(),0.05,0.0,0.0)),UnitBox{Nothing,Nothing,Nothing,Nothing}(nothing,nothing,nothing,nothing,Measure{MeasureNil,MeasureNil}(0.0,MeasureNil(),MeasureNil(),0.0,0.0),Measure{MeasureNil,MeasureNil}(0.0,MeasureNil(),MeasureNil(),0.0,0.0),Measure{MeasureNil,MeasureNil}(0.0,MeasureNil(),MeasureNil(),0.0,0.0),Measure{MeasureNil,MeasureNil}(0.0,MeasureNil(),MeasureNil(),0.0,0.0)),Rotation(0.0,Point(Measure{MeasureNil,MeasureNil}(0.0,MeasureNil(),MeasureNil(),0.5,0.0),Measure{MeasureNil,MeasureNil}(0.0,MeasureNil(),MeasureNil(),0.0,0.5))),nothing,ListNode{ComposeNode}(Form{CirclePrimitive}([CirclePrimitive(Point(Measure{MeasureNil,MeasureNil}(0.0,MeasureNil(),MeasureNil(),0.5,0.0),Measure{MeasureNil,MeasureNil}(0.0,MeasureNil(),MeasureNil(),0.0,0.5)),Measure{MeasureNil,MeasureNil}(0.0,MeasureNil(),MeasureNil(),0.5,0.0))]),ListNode{ComposeNode}(Property{FillPrimitive}([FillPrimitive(RGB{Float64}(0.0,1.0,1.0))]),ListNull{ComposeNode}())),0,false,false,false,false,nothing,nothing,0.0),ListNull{ComposeNode}()),0,false,false,false,false,nothing,nothing,0.0)"
      ]
     },
     "execution_count": 5,
     "metadata": {},
     "output_type": "execute_result"
    }
   ],
   "source": [
    "using Compose\n",
    "\n",
    "box(x) = let i = floor(x)\n",
    "    i%2==0 ? x-i : 1+i-x\n",
    "end\n",
    "\n",
    "colors = [\"orange\", \"cyan\", \"gray\", \"tomato\"]\n",
    "\n",
    "dots(points) = [(context(p[1], p[2], .05, .05), fill(colors[i%4+1]), circle())\n",
    "    for (i, p) in enumerate(points)]\n",
    "\n",
    "@manipulate for t=timestamp(fps(30.)), add=button(\"Add particle\"),\n",
    "    velocities = foldl((x,y) -> push!(x, rand(2)), Any[rand(2)], add)\n",
    "\n",
    "    compose(context(),\n",
    "            dots([map(v -> box(v*t[1]), (vx, vy)) for (vx, vy) in velocities])...)\n",
    "end"
   ]
  },
  {
   "cell_type": "markdown",
   "metadata": {},
   "source": [
    "If you used Interact to come up with something you think people will be wow-ed by, do let us know by commenting on [this issue](https://github.com/JuliaLang/Interact.jl/issues/36). :)"
   ]
  }
 ],
 "metadata": {
  "kernelspec": {
   "display_name": "Julia 0.3.5",
   "language": "julia",
   "name": "julia 0.3"
  },
  "language_info": {
   "name": "julia",
   "version": "0.3.5"
  }
 },
 "nbformat": 4,
 "nbformat_minor": 0
}
