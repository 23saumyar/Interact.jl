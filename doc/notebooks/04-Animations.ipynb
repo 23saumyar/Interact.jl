{
 "cells": [
  {
   "cell_type": "markdown",
   "metadata": {},
   "source": [
    "# Animating"
   ]
  },
  {
   "cell_type": "code",
   "execution_count": 2,
   "metadata": {
    "collapsed": false
   },
   "outputs": [
    {
     "data": {
      "text/html": [
       "<script charset=\"utf-8\">(function ($, undefined) {\n",
       "\n",
       "    function createElem(tag, attr, content) {\n",
       "\t// TODO: remove jQuery dependency\n",
       "\tvar el = $(\"<\" + tag + \"/>\").attr(attr);\n",
       "\tif (content) {\n",
       "\t    el.append(content);\n",
       "\t}\n",
       "\treturn el[0];\n",
       "    }\n",
       "\n",
       "    // A widget must expose an id field which identifies it to the backend,\n",
       "    // an elem attribute which is will be added to the DOM, and\n",
       "    // a getState() method which returns the value to be sent to the backend\n",
       "    // a sendUpdate() method which sends its current value to the backend\n",
       "    var Widget = {\n",
       "\tid: undefined,\n",
       "\telem: undefined,\n",
       "\tlabel: undefined,\n",
       "\tgetState: function () {\n",
       "\t    return this.elem.value;\n",
       "\t},\n",
       "\tsendUpdate: undefined\n",
       "    };\n",
       "\n",
       "    var Slider = function (typ, id, init) {\n",
       "\tvar attr = { type:  \"range\",\n",
       "\t\t     value: init.value,\n",
       "\t\t     min:   init.min,\n",
       "\t\t     max:   init.max,\n",
       "\t\t     step:  init.step },\n",
       "\t    elem = createElem(\"input\", attr),\n",
       "\t    self = this;\n",
       "\n",
       "\telem.onchange = function () {\n",
       "\t    self.sendUpdate();\n",
       "\t}\n",
       "\n",
       "\tthis.id = id;\n",
       "\tthis.elem = elem;\n",
       "\tthis.label = init.label;\n",
       "\n",
       "\tInputWidgets.commInitializer(this); // Initialize communication\n",
       "    }\n",
       "    Slider.prototype = Widget;\n",
       "\n",
       "    var Checkbox = function (typ, id, init) {\n",
       "\tvar attr = { type: \"checkbox\",\n",
       "\t\t     checked: init.value },\n",
       "\t    elem = createElem(\"input\", attr),\n",
       "\t    self = this;\n",
       "\n",
       "\tthis.getState = function () {\n",
       "\t    return elem.checked;\n",
       "\t}\n",
       "\telem.onchange = function () {\n",
       "\t    self.sendUpdate();\n",
       "\t}\n",
       "\n",
       "\tthis.id = id;\n",
       "\tthis.elem = elem;\n",
       "\tthis.label = init.label;\n",
       "\n",
       "\tInputWidgets.commInitializer(this);\n",
       "    }\n",
       "    Checkbox.prototype = Widget;\n",
       "\n",
       "    var Button = function (typ, id, init) {\n",
       "\tvar attr = { type:    \"button\",\n",
       "\t\t     value:   init.label },\n",
       "\t    elem = createElem(\"input\", attr),\n",
       "\t    self = this;\n",
       "\tthis.getState = function () {\n",
       "\t    return null;\n",
       "\t}\n",
       "\telem.onclick = function () {\n",
       "\t    self.sendUpdate();\n",
       "\t}\n",
       "\n",
       "\tthis.id = id;\n",
       "\tthis.elem = elem;\n",
       "\tthis.label = init.label;\n",
       "\n",
       "\tInputWidgets.commInitializer(this);\n",
       "    }\n",
       "    Button.prototype = Widget;\n",
       "\n",
       "    var Text = function (typ, id, init) {\n",
       "\tvar attr = { type:  \"text\",\n",
       "\t\t     placeholder: init.label,\n",
       "\t\t     value: init.value },\n",
       "\t    elem = createElem(\"input\", attr),\n",
       "\t    self = this;\n",
       "\tthis.getState = function () {\n",
       "\t    return elem.value;\n",
       "\t}\n",
       "\telem.onkeyup = function () {\n",
       "\t    self.sendUpdate();\n",
       "\t}\n",
       "\n",
       "\tthis.id = id;\n",
       "\tthis.elem = elem;\n",
       "\tthis.label = init.label;\n",
       "\n",
       "\tInputWidgets.commInitializer(this);\n",
       "    }\n",
       "    Text.prototype = Widget;\n",
       "\n",
       "    var Textarea = function (typ, id, init) {\n",
       "\tvar attr = { placeholder: init.label },\n",
       "\t    elem = createElem(\"textarea\", attr, init.value),\n",
       "\t    self = this;\n",
       "\tthis.getState = function () {\n",
       "\t    return elem.value;\n",
       "\t}\n",
       "\telem.onchange = function () {\n",
       "\t    self.sendUpdate();\n",
       "\t}\n",
       "\n",
       "\tthis.id = id;\n",
       "\tthis.elem = elem;\n",
       "\tthis.label = init.label;\n",
       "\n",
       "\tInputWidgets.commInitializer(this);\n",
       "    }\n",
       "    Textarea.prototype = Widget;\n",
       "\n",
       "    // RadioButtons\n",
       "    // Dropdown\n",
       "    // HTML\n",
       "    // Latex\n",
       "\n",
       "    var InputWidgets = {\n",
       "\tSlider: Slider,\n",
       "\tCheckbox: Checkbox,\n",
       "\tButton: Button,\n",
       "\tText: Text,\n",
       "\tTextarea: Textarea,\n",
       "\tdebug: false,\n",
       "\tlog: function () {\n",
       "\t    if (InputWidgets.debug) {\n",
       "\t\tconsole.log.apply(console, arguments);\n",
       "\t    }\n",
       "\t},\n",
       "\t// a central way to initalize communication\n",
       "\t// for widgets.\n",
       "\tcommInitializer: function (widget) {\n",
       "\t    widget.sendUpdate = function () {};\n",
       "\t}\n",
       "    };\n",
       "\n",
       "    window.InputWidgets = InputWidgets;\n",
       "\n",
       "})(jQuery, undefined);\n",
       "</script>"
      ]
     },
     "metadata": {},
     "output_type": "display_data"
    },
    {
     "data": {
      "text/html": [
       "<div id=\"interact-js-shim\">\n",
       "    <script charset=\"utf-8\">\n",
       "(function (IPython, $, _, MathJax, Widgets) {\n",
       "    $.event.special.destroyed = {\n",
       "\tremove: function(o) {\n",
       "\t    if (o.handler) {\n",
       "\t\to.handler.apply(this, arguments)\n",
       "\t    }\n",
       "\t}\n",
       "    }\n",
       "\n",
       "    var OutputArea = IPython.version >= \"4.0.0\" ? require(\"notebook/js/outputarea\").OutputArea : IPython.OutputArea;\n",
       "\n",
       "    var redrawValue = function (container, type, val) {\n",
       "\tvar selector = $(\"<div/>\");\n",
       "\tvar oa = new OutputArea(_.extend(selector, {\n",
       "\t    selector: selector,\n",
       "\t    prompt_area: true,\n",
       "\t    events: IPython.events,\n",
       "\t    keyboard_manager: IPython.keyboard_manager\n",
       "\t})); // Hack to work with IPython 2.1.0\n",
       "\n",
       "\tswitch (type) {\n",
       "\tcase \"image/png\":\n",
       "            var _src = 'data:' + type + ';base64,' + val;\n",
       "\t    $(container).find(\"img\").attr('src', _src);\n",
       "\t    break;\n",
       "\tdefault:\n",
       "\t    var toinsert = OutputArea.append_map[type].apply(\n",
       "\t\toa, [val, {}, selector]\n",
       "\t    );\n",
       "\t    $(container).empty().append(toinsert.contents());\n",
       "\t    selector.remove();\n",
       "\t}\n",
       "\tif (type === \"text/latex\" && MathJax) {\n",
       "\t    MathJax.Hub.Queue([\"Typeset\", MathJax.Hub, toinsert.get(0)]);\n",
       "\t}\n",
       "    }\n",
       "\n",
       "\n",
       "    $(document).ready(function() {\n",
       "\tWidgets.debug = false; // log messages etc in console.\n",
       "\tfunction initComm(evt, data) {\n",
       "\t    var comm_manager = data.kernel.comm_manager;\n",
       "        //_.extend(comm_manager.targets, require(\"widgets/js/widget\"))\n",
       "\t    comm_manager.register_target(\"Signal\", function (comm) {\n",
       "            comm.on_msg(function (msg) {\n",
       "                //Widgets.log(\"message received\", msg);\n",
       "                var val = msg.content.data.value;\n",
       "                $(\".signal-\" + comm.comm_id).each(function() {\n",
       "                var type = $(this).data(\"type\");\n",
       "                if (val[type]) {\n",
       "                    redrawValue(this, type, val[type], type);\n",
       "                }\n",
       "                });\n",
       "                delete val;\n",
       "                delete msg.content.data.value;\n",
       "            });\n",
       "\t    });\n",
       "\n",
       "\t    // coordingate with Comm and redraw Signals\n",
       "\t    // XXX: Test using Reactive here to improve performance\n",
       "\t    $([IPython.events]).on(\n",
       "\t\t'output_appended.OutputArea', function (event, type, value, md, toinsert) {\n",
       "\t\t    if (md && md.reactive) {\n",
       "                // console.log(md.comm_id);\n",
       "                toinsert.addClass(\"signal-\" + md.comm_id);\n",
       "                toinsert.data(\"type\", type);\n",
       "                // Signal back indicating the mimetype required\n",
       "                var comm_manager = IPython.notebook.kernel.comm_manager;\n",
       "                var comm = comm_manager.comms[md.comm_id];\n",
       "                comm.then(function (c) {\n",
       "                    c.send({action: \"subscribe_mime\",\n",
       "                       mime: type});\n",
       "                    toinsert.bind(\"destroyed\", function() {\n",
       "                        c.send({action: \"unsubscribe_mime\",\n",
       "                               mime: type});\n",
       "                    });\n",
       "                })\n",
       "\t\t    }\n",
       "\t    });\n",
       "\t}\n",
       "\n",
       "\ttry {\n",
       "\t    // try to initialize right away. otherwise, wait on the status_started event.\n",
       "\t    initComm(undefined, IPython.notebook);\n",
       "\t} catch (e) {\n",
       "\t    $([IPython.events]).on('kernel_created.Kernel kernel_created.Session', initComm);\n",
       "\t}\n",
       "    });\n",
       "})(IPython, jQuery, _, MathJax, InputWidgets);\n",
       "</script>\n",
       "    <script>\n",
       "        window.interactLoadedFlag = true\n",
       "       $(\"#interact-js-shim\").bind(\"destroyed\", function () {\n",
       "           if (window.interactLoadedFlag) {\n",
       "               console.warn(\"JavaScript required by Interact will be removed if you remove this cell or run using Interact more than once.\")\n",
       "           }\n",
       "       })\n",
       "       $([IPython.events]).on(\"kernel_starting.Kernel kernel_restarting.Kernel\", function () { window.interactLoadedFlag = false })\n",
       "   </script>\n",
       "</div>"
      ]
     },
     "metadata": {},
     "output_type": "display_data"
    }
   ],
   "source": [
    "using Interact, Reactive"
   ]
  },
  {
   "cell_type": "markdown",
   "metadata": {},
   "source": [
    "It is possible to create interactive animations using Reactive's [timing functions](julialang.org/Reactive.jl/api.html#timing)."
   ]
  },
  {
   "cell_type": "markdown",
   "metadata": {},
   "source": [
    "Functions like `fps`, `fpswhen`, `every` etc, let us create periodically updating signals. This, combined with the other functions in Reactive provide for declarative ways to define animations. Let us now take the n-gon compose example from interactive diagrams notebook and animate it."
   ]
  },
  {
   "cell_type": "code",
   "execution_count": 3,
   "metadata": {
    "collapsed": false
   },
   "outputs": [
    {
     "data": {
      "text/html": [],
      "text/plain": [
       "Options{:ToggleButtons,ASCIIAbstractString}([Input{ASCIIAbstractString}] yellow,\"color\",\"yellow\",\"yellow\",OptionDict({\"yellow\",\"cyan\",\"tomato\"},{\"cyan\"=>\"cyan\",\"yellow\"=>\"yellow\",\"tomato\"=>\"tomato\"}),None[],None[])"
      ]
     },
     "metadata": {},
     "output_type": "display_data"
    },
    {
     "data": {
      "text/html": [],
      "text/plain": [
       "Slider{Int64}([Input{Int64}] 11,\"n\",11,3:20)"
      ]
     },
     "metadata": {},
     "output_type": "display_data"
    },
    {
     "data": {
      "text/plain": [
       "(1.442375647347034e9,0.0)"
      ]
     },
     "metadata": {
      "comm_id": "706cae3c-e59a-4c10-b273-8efab186d440",
      "reactive": true
     },
     "output_type": "display_data"
    },
    {
     "data": {
      "image/svg+xml": [
       "<?xml version=\"1.0\" encoding=\"UTF-8\"?>\n",
       "<svg xmlns=\"http://www.w3.org/2000/svg\"\n",
       "     xmlns:xlink=\"http://www.w3.org/1999/xlink\"\n",
       "     version=\"1.2\"\n",
       "     width=\"141.42mm\" height=\"100mm\" viewBox=\"0 0 141.42 100\"\n",
       "     stroke=\"none\"\n",
       "     fill=\"#000000\"\n",
       "     stroke-width=\"0.3\"\n",
       "     font-size=\"3.88\"\n",
       ">\n",
       "<g fill=\"#FFFF00\" id=\"fig-d201c5b7ccbe4c6dad931d4cd7576a41-element-1\">\n",
       "  <path d=\"M57.76,0.85 L 22.23 13.6 2.1 37.91 3.75 66.06 26.66 89.11 63.56 99.74 102.73 94.58 131.73 75.27 141.36 47.93 128.56 21.25 97.39 3.7 57.76 0.85 z\"/>\n",
       "</g>\n",
       "</svg>\n"
      ],
      "text/html": [
       "<div id=\"pwid25015\"><script>new Patchwork.Node(\"pwid25015\", {\"t\":\"svg\",\"p\":{\"width\":\"141.4213562373095mm\",\"stroke-width\":\"0.3\",\"font-size\":\"3.88\",\"fill\":\"#000000\",\"height\":\"100.0mm\",\"stroke\":\"none\",\"viewBox\":\"0 0 141.4213562373095 100.0\"},\"c\":[{\"t\":\"g\",\"p\":{\"fill-opacity\":1.0,\"fill\":\"#FFFF00\"},\"c\":[{\"t\":\"path\",\"p\":{\"d\":\"M57.76,0.85 L 22.23 13.6 2.1 37.91 3.75 66.06 26.66 89.11 63.56 99.74 102.73 94.58 131.73 75.27 141.36 47.93 128.56 21.25 97.39 3.7 57.76 0.85 z\"},\"n\":\"svg\"}],\"n\":\"svg\"}],\"n\":\"svg\"});</script></div>"
      ],
      "text/plain": [
       "Context(BoundingBox(Measure{MeasureNil,MeasureNil}(0.0,MeasureNil(),MeasureNil(),0.0,0.0),Measure{MeasureNil,MeasureNil}(0.0,MeasureNil(),MeasureNil(),0.0,0.0),Measure{MeasureNil,MeasureNil}(0.0,MeasureNil(),MeasureNil(),1.0,0.0),Measure{MeasureNil,MeasureNil}(0.0,MeasureNil(),MeasureNil(),0.0,1.0)),UnitBox{Void,Void,Void,Void}(nothing,nothing,nothing,nothing,Measure{MeasureNil,MeasureNil}(0.0,MeasureNil(),MeasureNil(),0.0,0.0),Measure{MeasureNil,MeasureNil}(0.0,MeasureNil(),MeasureNil(),0.0,0.0),Measure{MeasureNil,MeasureNil}(0.0,MeasureNil(),MeasureNil(),0.0,0.0),Measure{MeasureNil,MeasureNil}(0.0,MeasureNil(),MeasureNil(),0.0,0.0)),Rotation{Point{Measure{MeasureNil,MeasureNil},Measure{MeasureNil,MeasureNil}}}(0.0,Point{Measure{MeasureNil,MeasureNil},Measure{MeasureNil,MeasureNil}}(Measure{MeasureNil,MeasureNil}(0.0,MeasureNil(),MeasureNil(),0.5,0.0),Measure{MeasureNil,MeasureNil}(0.0,MeasureNil(),MeasureNil(),0.0,0.5))),nothing,ListNode{ComposeNode}(Form{SimplePolygonPrimitive{P<:Point{XM<:Measure{S,T},YM<:Measure{S,T}}}}(SimplePolygonPrimitive[SimplePolygonPrimitive{Point{XM<:Measure{S,T},YM<:Measure{S,T}}}(Point[Point{Measure{Float64,MeasureNil},Measure{MeasureNil,Float64}}(Measure{Float64,MeasureNil}(0.0,0.40839558819933697,MeasureNil(),0.0,0.0),Measure{MeasureNil,Float64}(0.0,MeasureNil(),0.008462990469024267,0.0,0.0)),Point{Measure{Float64,MeasureNil},Measure{MeasureNil,Float64}}(Measure{Float64,MeasureNil}(0.0,0.15719248063264762,MeasureNil(),0.0,0.0),Measure{MeasureNil,Float64}(0.0,MeasureNil(),0.13601785117233794,0.0,0.0)),Point{Measure{Float64,MeasureNil},Measure{MeasureNil,Float64}}(Measure{Float64,MeasureNil}(0.0,0.014828352228835828,MeasureNil(),0.0,0.0),Measure{MeasureNil,Float64}(0.0,MeasureNil(),0.3791344871395757,0.0,0.0)),Point{Measure{Float64,MeasureNil},Measure{MeasureNil,Float64}}(Measure{Float64,MeasureNil}(0.0,0.026502813642530987,MeasureNil(),0.0,0.0),Measure{MeasureNil,Float64}(0.0,MeasureNil(),0.6606250743550341,0.0,0.0)),Point{Measure{Float64,MeasureNil},Measure{MeasureNil,Float64}}(Measure{Float64,MeasureNil}(0.0,0.18850921213856642,MeasureNil(),0.0,0.0),Measure{MeasureNil,Float64}(0.0,MeasureNil(),0.8911182545950309,0.0,0.0)),Point{Measure{Float64,MeasureNil},Measure{MeasureNil,Float64}}(Measure{Float64,MeasureNil}(0.0,0.4494117858416047,MeasureNil(),0.0,0.0),Measure{MeasureNil,Float64}(0.0,MeasureNil(),0.9974342495127013,0.0,0.0)),Point{Measure{Float64,MeasureNil},Measure{MeasureNil,Float64}}(Measure{Float64,MeasureNil}(0.0,0.7263757621557467,MeasureNil(),0.0,0.0),Measure{MeasureNil,Float64}(0.0,MeasureNil(),0.9458183647051844,0.0,0.0)),Point{Measure{Float64,MeasureNil},Measure{MeasureNil,Float64}}(Measure{Float64,MeasureNil}(0.0,0.931467024284039,MeasureNil(),0.0,0.0),Measure{MeasureNil,Float64}(0.0,MeasureNil(),0.7526582809952536,0.0,0.0)),Point{Measure{Float64,MeasureNil},Measure{MeasureNil,Float64}}(Measure{Float64,MeasureNil}(0.0,0.9995705372749022,MeasureNil(),0.0,0.0),Measure{MeasureNil,Float64}(0.0,MeasureNil(),0.47928096800365433,0.0,0.0)),Point{Measure{Float64,MeasureNil},Measure{MeasureNil,Float64}}(Measure{Float64,MeasureNil}(0.0,0.9090639141835846,MeasureNil(),0.0,0.0),Measure{MeasureNil,Float64}(0.0,MeasureNil(),0.21248180211888323,0.0,0.0)),Point{Measure{Float64,MeasureNil},Measure{MeasureNil,Float64}}(Measure{Float64,MeasureNil}(0.0,0.6886824824245166,MeasureNil(),0.0,0.0),Measure{MeasureNil,Float64}(0.0,MeasureNil(),0.03696768922015603,0.0,0.0)),Point{Measure{Float64,MeasureNil},Measure{MeasureNil,Float64}}(Measure{Float64,MeasureNil}(0.0,0.4083956194478288,MeasureNil(),0.0,0.0),Measure{MeasureNil,Float64}(0.0,MeasureNil(),0.00846298464545625,0.0,0.0))])]),ListNode{ComposeNode}(Property{FillPrimitive}([FillPrimitive(RGBA{Float64}(1.0,1.0,0.0,1.0))]),ListNull{ComposeNode}())),0,false,false,false,false,nothing,nothing,0.0)"
      ]
     },
     "execution_count": 3,
     "metadata": {},
     "output_type": "execute_result"
    }
   ],
   "source": [
    "using Colors\n",
    "using Compose\n",
    "\n",
    "@manipulate for color=[\"yellow\", \"cyan\", \"tomato\"], n=3:20, t_dt=timestamp(fps(30.))\n",
    "    t, dt = t_dt # current time, time since last frame\n",
    "    compose(context(), fill(parse(Colorant, color)),\n",
    "    polygon([((1+sin(θ+t))/2, (1+cos(θ+t))/2) for θ in 0:2π/n:2π]))\n",
    "end"
   ]
  },
  {
   "cell_type": "markdown",
   "metadata": {},
   "source": [
    "It's often advisable to give your animations a pause checkbox. Here is a bouncing ball that you can pause and resume"
   ]
  },
  {
   "cell_type": "code",
   "execution_count": 5,
   "metadata": {
    "collapsed": false
   },
   "outputs": [
    {
     "data": {
      "text/html": [],
      "text/plain": [
       "Checkbox([Input{Bool}] false,\"paused\",false)"
      ]
     },
     "metadata": {},
     "output_type": "display_data"
    },
    {
     "data": {
      "text/plain": [
       "0.0"
      ]
     },
     "metadata": {
      "comm_id": "b9ebee68-3782-46e4-99b0-3f2418a81db8",
      "reactive": true
     },
     "output_type": "display_data"
    },
    {
     "data": {
      "text/plain": [
       "0.0"
      ]
     },
     "metadata": {
      "comm_id": "bf22d3c6-ba10-4f88-9f8b-9d0c89019124",
      "reactive": true
     },
     "output_type": "display_data"
    },
    {
     "data": {
      "text/html": [],
      "text/plain": [
       "Slider{Float64}([Input{Float64}] 2.5,\"gravity\",2.5,0.0:0.01:5.0)"
      ]
     },
     "metadata": {},
     "output_type": "display_data"
    },
    {
     "data": {
      "text/html": [],
      "text/plain": [
       "Options{:ToggleButtons,ASCIIAbstractString}([Input{ASCIIAbstractString}] tomato,\"color\",\"tomato\",\"tomato\",OptionDict({\"tomato\",\"cyan\"},{\"cyan\"=>\"cyan\",\"tomato\"=>\"tomato\"}),None[],None[])"
      ]
     },
     "metadata": {},
     "output_type": "display_data"
    },
    {
     "data": {
      "image/svg+xml": [
       "<?xml version=\"1.0\" encoding=\"UTF-8\"?>\n",
       "<svg xmlns=\"http://www.w3.org/2000/svg\"\n",
       "     xmlns:xlink=\"http://www.w3.org/1999/xlink\"\n",
       "     version=\"1.2\"\n",
       "     width=\"141.42mm\" height=\"100mm\" viewBox=\"0 0 141.42 100\"\n",
       "     stroke=\"none\"\n",
       "     fill=\"#000000\"\n",
       "     stroke-width=\"0.3\"\n",
       "     font-size=\"3.88\"\n",
       ">\n",
       "<g fill=\"#FF6347\" id=\"fig-1aec1e2b954c45d481b37962c97c7b6a-element-1\">\n",
       "  <circle cx=\"77.78\" cy=\"105\" r=\"7.07\"/>\n",
       "</g>\n",
       "</svg>\n"
      ],
      "text/html": [
       "<div id=\"pwid25264\"><script>new Patchwork.Node(\"pwid25264\", {\"t\":\"svg\",\"p\":{\"width\":\"141.4213562373095mm\",\"stroke-width\":\"0.3\",\"font-size\":\"3.88\",\"fill\":\"#000000\",\"height\":\"100.0mm\",\"stroke\":\"none\",\"viewBox\":\"0 0 141.4213562373095 100.0\"},\"c\":[{\"t\":\"g\",\"p\":{\"fill-opacity\":1.0,\"fill\":\"#FF6347\"},\"c\":[{\"t\":\"circle\",\"p\":{\"cx\":77.78174593052023,\"r\":7.0710678118654755,\"cy\":105.0},\"n\":\"svg\"}],\"n\":\"svg\"}],\"n\":\"svg\"});</script></div>"
      ],
      "text/plain": [
       "Context(BoundingBox(Measure{Float64,MeasureNil}(0.0,0.5,MeasureNil(),0.0,0.0),Measure{MeasureNil,Float64}(0.0,MeasureNil(),1.0,0.0,0.0),Measure{Float64,MeasureNil}(0.0,0.1,MeasureNil(),0.0,0.0),Measure{MeasureNil,Float64}(0.0,MeasureNil(),0.1,0.0,0.0)),UnitBox{Void,Void,Void,Void}(nothing,nothing,nothing,nothing,Measure{MeasureNil,MeasureNil}(0.0,MeasureNil(),MeasureNil(),0.0,0.0),Measure{MeasureNil,MeasureNil}(0.0,MeasureNil(),MeasureNil(),0.0,0.0),Measure{MeasureNil,MeasureNil}(0.0,MeasureNil(),MeasureNil(),0.0,0.0),Measure{MeasureNil,MeasureNil}(0.0,MeasureNil(),MeasureNil(),0.0,0.0)),Rotation{Point{Measure{MeasureNil,MeasureNil},Measure{MeasureNil,MeasureNil}}}(0.0,Point{Measure{MeasureNil,MeasureNil},Measure{MeasureNil,MeasureNil}}(Measure{MeasureNil,MeasureNil}(0.0,MeasureNil(),MeasureNil(),0.5,0.0),Measure{MeasureNil,MeasureNil}(0.0,MeasureNil(),MeasureNil(),0.0,0.5))),nothing,ListNode{ComposeNode}(Form{CirclePrimitive{P<:Point{XM<:Measure{S,T},YM<:Measure{S,T}},M<:Measure{S,T}}}(CirclePrimitive[CirclePrimitive{Point{Measure{MeasureNil,MeasureNil},Measure{MeasureNil,MeasureNil}},Measure{MeasureNil,MeasureNil}}(Point{Measure{MeasureNil,MeasureNil},Measure{MeasureNil,MeasureNil}}(Measure{MeasureNil,MeasureNil}(0.0,MeasureNil(),MeasureNil(),0.5,0.0),Measure{MeasureNil,MeasureNil}(0.0,MeasureNil(),MeasureNil(),0.0,0.5)),Measure{MeasureNil,MeasureNil}(0.0,MeasureNil(),MeasureNil(),0.5,0.0))]),ListNode{ComposeNode}(Property{FillPrimitive}([FillPrimitive(RGBA{Float64}(1.0,0.38823529411764707,0.2784313725490196,1.0))]),ListNull{ComposeNode}())),0,false,false,false,false,nothing,nothing,0.0)"
      ]
     },
     "execution_count": 5,
     "metadata": {},
     "output_type": "execute_result"
    }
   ],
   "source": [
    "using Compose\n",
    "\n",
    "@manipulate for \n",
    "    paused=false,\n",
    "    dt = fpswhen(lift(!, paused), 30),       # stop updating time when paused.\n",
    "    t = foldl(+, 0., dt),                    # add up the time deltas to get time\n",
    "    gravity = 0:0.01:5,                      # some sort of gravity\n",
    "    color = [\"tomato\", \"cyan\"]               # color the ball\n",
    "\n",
    "    compose(context(0.5, 1-abs(sin(t*gravity)), 0.1, 0.1), fill(parse(Colorant, color)), circle())\n",
    "end"
   ]
  },
  {
   "cell_type": "markdown",
   "metadata": {},
   "source": [
    "Here is a captivating animation made with tiles of varying colors."
   ]
  },
  {
   "cell_type": "code",
   "execution_count": 8,
   "metadata": {
    "collapsed": false
   },
   "outputs": [
    {
     "data": {
      "text/html": [],
      "text/plain": [
       "Checkbox([Input{Bool}] true,\"unpaused\",true)"
      ]
     },
     "metadata": {},
     "output_type": "display_data"
    },
    {
     "data": {
      "text/plain": [
       "(1.442375779021515e9,0.0)"
      ]
     },
     "metadata": {
      "comm_id": "46a33ba2-d0cc-47c0-9eba-b120967a9400",
      "reactive": true
     },
     "output_type": "display_data"
    },
    {
     "data": {
      "image/svg+xml": [
       "<?xml version=\"1.0\" encoding=\"UTF-8\"?>\n",
       "<svg xmlns=\"http://www.w3.org/2000/svg\"\n",
       "     xmlns:xlink=\"http://www.w3.org/1999/xlink\"\n",
       "     version=\"1.2\"\n",
       "     width=\"141.42mm\" height=\"100mm\" viewBox=\"0 0 141.42 100\"\n",
       "     stroke=\"none\"\n",
       "     fill=\"#000000\"\n",
       "     stroke-width=\"0.3\"\n",
       "     font-size=\"3.88\"\n",
       ">\n",
       "<g fill=\"#BB99FF\" id=\"fig-2a7f1553be0c49a8a2c0e0e023336051-element-1\">\n",
       "  <rect x=\"123.74\" y=\"87.5\" width=\"17.68\" height=\"12.5\"/>\n",
       "</g>\n",
       "<g fill=\"#A59FFF\" id=\"fig-2a7f1553be0c49a8a2c0e0e023336051-element-2\">\n",
       "  <rect x=\"106.07\" y=\"87.5\" width=\"17.68\" height=\"12.5\"/>\n",
       "</g>\n",
       "<g fill=\"#8BA4FF\" id=\"fig-2a7f1553be0c49a8a2c0e0e023336051-element-3\">\n",
       "  <rect x=\"88.39\" y=\"87.5\" width=\"17.68\" height=\"12.5\"/>\n",
       "</g>\n",
       "<g fill=\"#6DAAFF\" id=\"fig-2a7f1553be0c49a8a2c0e0e023336051-element-4\">\n",
       "  <rect x=\"70.71\" y=\"87.5\" width=\"17.68\" height=\"12.5\"/>\n",
       "</g>\n",
       "<g fill=\"#42AFFF\" id=\"fig-2a7f1553be0c49a8a2c0e0e023336051-element-5\">\n",
       "  <rect x=\"53.03\" y=\"87.5\" width=\"17.68\" height=\"12.5\"/>\n",
       "</g>\n",
       "<g fill=\"#00B4FF\" id=\"fig-2a7f1553be0c49a8a2c0e0e023336051-element-6\">\n",
       "  <rect x=\"35.36\" y=\"87.5\" width=\"17.68\" height=\"12.5\"/>\n",
       "</g>\n",
       "<g fill=\"#00B8FF\" id=\"fig-2a7f1553be0c49a8a2c0e0e023336051-element-7\">\n",
       "  <rect x=\"17.68\" y=\"87.5\" width=\"17.68\" height=\"12.5\"/>\n",
       "</g>\n",
       "<g fill=\"#00BBFF\" id=\"fig-2a7f1553be0c49a8a2c0e0e023336051-element-8\">\n",
       "  <rect x=\"0\" y=\"87.5\" width=\"17.68\" height=\"12.5\"/>\n",
       "</g>\n",
       "<g fill=\"#A59FFF\" id=\"fig-2a7f1553be0c49a8a2c0e0e023336051-element-9\">\n",
       "  <rect x=\"123.74\" y=\"75\" width=\"17.68\" height=\"12.5\"/>\n",
       "</g>\n",
       "<g fill=\"#8FA4FF\" id=\"fig-2a7f1553be0c49a8a2c0e0e023336051-element-10\">\n",
       "  <rect x=\"106.07\" y=\"75\" width=\"17.68\" height=\"12.5\"/>\n",
       "</g>\n",
       "<g fill=\"#75A9FF\" id=\"fig-2a7f1553be0c49a8a2c0e0e023336051-element-11\">\n",
       "  <rect x=\"88.39\" y=\"75\" width=\"17.68\" height=\"12.5\"/>\n",
       "</g>\n",
       "<g fill=\"#54ADFF\" id=\"fig-2a7f1553be0c49a8a2c0e0e023336051-element-12\">\n",
       "  <rect x=\"70.71\" y=\"75\" width=\"17.68\" height=\"12.5\"/>\n",
       "</g>\n",
       "<g fill=\"#1AB1FF\" id=\"fig-2a7f1553be0c49a8a2c0e0e023336051-element-13\">\n",
       "  <rect x=\"53.03\" y=\"75\" width=\"17.68\" height=\"12.5\"/>\n",
       "</g>\n",
       "<g fill=\"#00B5FF\" id=\"fig-2a7f1553be0c49a8a2c0e0e023336051-element-14\">\n",
       "  <rect x=\"35.36\" y=\"75\" width=\"17.68\" height=\"12.5\"/>\n",
       "</g>\n",
       "<g fill=\"#00B9FF\" id=\"fig-2a7f1553be0c49a8a2c0e0e023336051-element-15\">\n",
       "  <rect x=\"17.68\" y=\"75\" width=\"17.68\" height=\"12.5\"/>\n",
       "</g>\n",
       "<g fill=\"#00BCFF\" id=\"fig-2a7f1553be0c49a8a2c0e0e023336051-element-16\">\n",
       "  <rect x=\"0\" y=\"75\" width=\"17.68\" height=\"12.5\"/>\n",
       "</g>\n",
       "<g fill=\"#8BA4FF\" id=\"fig-2a7f1553be0c49a8a2c0e0e023336051-element-17\">\n",
       "  <rect x=\"123.74\" y=\"62.5\" width=\"17.68\" height=\"12.5\"/>\n",
       "</g>\n",
       "<g fill=\"#75A9FF\" id=\"fig-2a7f1553be0c49a8a2c0e0e023336051-element-18\">\n",
       "  <rect x=\"106.07\" y=\"62.5\" width=\"17.68\" height=\"12.5\"/>\n",
       "</g>\n",
       "<g fill=\"#5AADFF\" id=\"fig-2a7f1553be0c49a8a2c0e0e023336051-element-19\">\n",
       "  <rect x=\"88.39\" y=\"62.5\" width=\"17.68\" height=\"12.5\"/>\n",
       "</g>\n",
       "<g fill=\"#32B0FF\" id=\"fig-2a7f1553be0c49a8a2c0e0e023336051-element-20\">\n",
       "  <rect x=\"70.71\" y=\"62.5\" width=\"17.68\" height=\"12.5\"/>\n",
       "</g>\n",
       "<g fill=\"#00B4FF\" id=\"fig-2a7f1553be0c49a8a2c0e0e023336051-element-21\">\n",
       "  <rect x=\"53.03\" y=\"62.5\" width=\"17.68\" height=\"12.5\"/>\n",
       "</g>\n",
       "<g fill=\"#00B7FF\" id=\"fig-2a7f1553be0c49a8a2c0e0e023336051-element-22\">\n",
       "  <rect x=\"35.36\" y=\"62.5\" width=\"17.68\" height=\"12.5\"/>\n",
       "</g>\n",
       "<g fill=\"#00B9FF\" id=\"fig-2a7f1553be0c49a8a2c0e0e023336051-element-23\">\n",
       "  <rect x=\"17.68\" y=\"62.5\" width=\"17.68\" height=\"12.5\"/>\n",
       "</g>\n",
       "<g fill=\"#00BCFF\" id=\"fig-2a7f1553be0c49a8a2c0e0e023336051-element-24\">\n",
       "  <rect x=\"0\" y=\"62.5\" width=\"17.68\" height=\"12.5\"/>\n",
       "</g>\n",
       "<g fill=\"#6DAAFF\" id=\"fig-2a7f1553be0c49a8a2c0e0e023336051-element-25\">\n",
       "  <rect x=\"123.74\" y=\"50\" width=\"17.68\" height=\"12.5\"/>\n",
       "</g>\n",
       "<g fill=\"#54ADFF\" id=\"fig-2a7f1553be0c49a8a2c0e0e023336051-element-26\">\n",
       "  <rect x=\"106.07\" y=\"50\" width=\"17.68\" height=\"12.5\"/>\n",
       "</g>\n",
       "<g fill=\"#32B0FF\" id=\"fig-2a7f1553be0c49a8a2c0e0e023336051-element-27\">\n",
       "  <rect x=\"88.39\" y=\"50\" width=\"17.68\" height=\"12.5\"/>\n",
       "</g>\n",
       "<g fill=\"#00B3FF\" id=\"fig-2a7f1553be0c49a8a2c0e0e023336051-element-28\">\n",
       "  <rect x=\"70.71\" y=\"50\" width=\"17.68\" height=\"12.5\"/>\n",
       "</g>\n",
       "<g fill=\"#00B6FF\" id=\"fig-2a7f1553be0c49a8a2c0e0e023336051-element-29\">\n",
       "  <rect x=\"53.03\" y=\"50\" width=\"17.68\" height=\"12.5\"/>\n",
       "</g>\n",
       "<g fill=\"#00B8FF\" id=\"fig-2a7f1553be0c49a8a2c0e0e023336051-element-30\">\n",
       "  <rect x=\"35.36\" y=\"50\" width=\"17.68\" height=\"12.5\"/>\n",
       "</g>\n",
       "<g fill=\"#00BAFF\" id=\"fig-2a7f1553be0c49a8a2c0e0e023336051-element-31\">\n",
       "  <rect x=\"17.68\" y=\"50\" width=\"17.68\" height=\"12.5\"/>\n",
       "</g>\n",
       "<g fill=\"#00BCFF\" id=\"fig-2a7f1553be0c49a8a2c0e0e023336051-element-32\">\n",
       "  <rect x=\"0\" y=\"50\" width=\"17.68\" height=\"12.5\"/>\n",
       "</g>\n",
       "<g fill=\"#42AFFF\" id=\"fig-2a7f1553be0c49a8a2c0e0e023336051-element-33\">\n",
       "  <rect x=\"123.74\" y=\"37.5\" width=\"17.68\" height=\"12.5\"/>\n",
       "</g>\n",
       "<g fill=\"#1AB1FF\" id=\"fig-2a7f1553be0c49a8a2c0e0e023336051-element-34\">\n",
       "  <rect x=\"106.07\" y=\"37.5\" width=\"17.68\" height=\"12.5\"/>\n",
       "</g>\n",
       "<g fill=\"#00B4FF\" id=\"fig-2a7f1553be0c49a8a2c0e0e023336051-element-35\">\n",
       "  <rect x=\"88.39\" y=\"37.5\" width=\"17.68\" height=\"12.5\"/>\n",
       "</g>\n",
       "<g fill=\"#00B6FF\" id=\"fig-2a7f1553be0c49a8a2c0e0e023336051-element-36\">\n",
       "  <rect x=\"70.71\" y=\"37.5\" width=\"17.68\" height=\"12.5\"/>\n",
       "</g>\n",
       "<g fill=\"#00B8FF\" id=\"fig-2a7f1553be0c49a8a2c0e0e023336051-element-37\">\n",
       "  <rect x=\"53.03\" y=\"37.5\" width=\"17.68\" height=\"12.5\"/>\n",
       "</g>\n",
       "<g fill=\"#00B9FF\" id=\"fig-2a7f1553be0c49a8a2c0e0e023336051-element-38\">\n",
       "  <rect x=\"35.36\" y=\"37.5\" width=\"17.68\" height=\"12.5\"/>\n",
       "</g>\n",
       "<g fill=\"#00BBFF\" id=\"fig-2a7f1553be0c49a8a2c0e0e023336051-element-39\">\n",
       "  <rect x=\"17.68\" y=\"37.5\" width=\"17.68\" height=\"12.5\"/>\n",
       "</g>\n",
       "<g fill=\"#00BDFF\" id=\"fig-2a7f1553be0c49a8a2c0e0e023336051-element-40\">\n",
       "  <rect x=\"0\" y=\"37.5\" width=\"17.68\" height=\"12.5\"/>\n",
       "</g>\n",
       "<g fill=\"#00B4FF\" id=\"fig-2a7f1553be0c49a8a2c0e0e023336051-element-41\">\n",
       "  <rect x=\"123.74\" y=\"25\" width=\"17.68\" height=\"12.5\"/>\n",
       "</g>\n",
       "<g fill=\"#00B5FF\" id=\"fig-2a7f1553be0c49a8a2c0e0e023336051-element-42\">\n",
       "  <rect x=\"106.07\" y=\"25\" width=\"17.68\" height=\"12.5\"/>\n",
       "</g>\n",
       "<g fill=\"#00B7FF\" id=\"fig-2a7f1553be0c49a8a2c0e0e023336051-element-43\">\n",
       "  <rect x=\"88.39\" y=\"25\" width=\"17.68\" height=\"12.5\"/>\n",
       "</g>\n",
       "<g fill=\"#00B8FF\" id=\"fig-2a7f1553be0c49a8a2c0e0e023336051-element-44\">\n",
       "  <rect x=\"70.71\" y=\"25\" width=\"17.68\" height=\"12.5\"/>\n",
       "</g>\n",
       "<g fill=\"#00B9FF\" id=\"fig-2a7f1553be0c49a8a2c0e0e023336051-element-45\">\n",
       "  <rect x=\"53.03\" y=\"25\" width=\"17.68\" height=\"12.5\"/>\n",
       "</g>\n",
       "<g fill=\"#00BBFF\" id=\"fig-2a7f1553be0c49a8a2c0e0e023336051-element-46\">\n",
       "  <rect x=\"35.36\" y=\"25\" width=\"17.68\" height=\"12.5\"/>\n",
       "</g>\n",
       "<g fill=\"#00BCFF\" id=\"fig-2a7f1553be0c49a8a2c0e0e023336051-element-47\">\n",
       "  <rect x=\"17.68\" y=\"25\" width=\"17.68\" height=\"12.5\"/>\n",
       "</g>\n",
       "<g fill=\"#00BDFF\" id=\"fig-2a7f1553be0c49a8a2c0e0e023336051-element-48\">\n",
       "  <rect x=\"0\" y=\"25\" width=\"17.68\" height=\"12.5\"/>\n",
       "</g>\n",
       "<g fill=\"#00B8FF\" id=\"fig-2a7f1553be0c49a8a2c0e0e023336051-element-49\">\n",
       "  <rect x=\"123.74\" y=\"12.5\" width=\"17.68\" height=\"12.5\"/>\n",
       "</g>\n",
       "<g fill=\"#00B9FF\" id=\"fig-2a7f1553be0c49a8a2c0e0e023336051-element-50\">\n",
       "  <rect x=\"106.07\" y=\"12.5\" width=\"17.68\" height=\"12.5\"/>\n",
       "</g>\n",
       "<g fill=\"#00B9FF\" id=\"fig-2a7f1553be0c49a8a2c0e0e023336051-element-51\">\n",
       "  <rect x=\"88.39\" y=\"12.5\" width=\"17.68\" height=\"12.5\"/>\n",
       "</g>\n",
       "<g fill=\"#00BAFF\" id=\"fig-2a7f1553be0c49a8a2c0e0e023336051-element-52\">\n",
       "  <rect x=\"70.71\" y=\"12.5\" width=\"17.68\" height=\"12.5\"/>\n",
       "</g>\n",
       "<g fill=\"#00BBFF\" id=\"fig-2a7f1553be0c49a8a2c0e0e023336051-element-53\">\n",
       "  <rect x=\"53.03\" y=\"12.5\" width=\"17.68\" height=\"12.5\"/>\n",
       "</g>\n",
       "<g fill=\"#00BCFF\" id=\"fig-2a7f1553be0c49a8a2c0e0e023336051-element-54\">\n",
       "  <rect x=\"35.36\" y=\"12.5\" width=\"17.68\" height=\"12.5\"/>\n",
       "</g>\n",
       "<g fill=\"#00BDFF\" id=\"fig-2a7f1553be0c49a8a2c0e0e023336051-element-55\">\n",
       "  <rect x=\"17.68\" y=\"12.5\" width=\"17.68\" height=\"12.5\"/>\n",
       "</g>\n",
       "<g fill=\"#00BDFF\" id=\"fig-2a7f1553be0c49a8a2c0e0e023336051-element-56\">\n",
       "  <rect x=\"0\" y=\"12.5\" width=\"17.68\" height=\"12.5\"/>\n",
       "</g>\n",
       "<g fill=\"#00BBFF\" id=\"fig-2a7f1553be0c49a8a2c0e0e023336051-element-57\">\n",
       "  <rect x=\"123.74\" y=\"0\" width=\"17.68\" height=\"12.5\"/>\n",
       "</g>\n",
       "<g fill=\"#00BCFF\" id=\"fig-2a7f1553be0c49a8a2c0e0e023336051-element-58\">\n",
       "  <rect x=\"106.07\" y=\"0\" width=\"17.68\" height=\"12.5\"/>\n",
       "</g>\n",
       "<g fill=\"#00BCFF\" id=\"fig-2a7f1553be0c49a8a2c0e0e023336051-element-59\">\n",
       "  <rect x=\"88.39\" y=\"0\" width=\"17.68\" height=\"12.5\"/>\n",
       "</g>\n",
       "<g fill=\"#00BCFF\" id=\"fig-2a7f1553be0c49a8a2c0e0e023336051-element-60\">\n",
       "  <rect x=\"70.71\" y=\"0\" width=\"17.68\" height=\"12.5\"/>\n",
       "</g>\n",
       "<g fill=\"#00BDFF\" id=\"fig-2a7f1553be0c49a8a2c0e0e023336051-element-61\">\n",
       "  <rect x=\"53.03\" y=\"0\" width=\"17.68\" height=\"12.5\"/>\n",
       "</g>\n",
       "<g fill=\"#00BDFF\" id=\"fig-2a7f1553be0c49a8a2c0e0e023336051-element-62\">\n",
       "  <rect x=\"35.36\" y=\"0\" width=\"17.68\" height=\"12.5\"/>\n",
       "</g>\n",
       "<g fill=\"#00BDFF\" id=\"fig-2a7f1553be0c49a8a2c0e0e023336051-element-63\">\n",
       "  <rect x=\"17.68\" y=\"0\" width=\"17.68\" height=\"12.5\"/>\n",
       "</g>\n",
       "<g fill=\"#00BEFF\" id=\"fig-2a7f1553be0c49a8a2c0e0e023336051-element-64\">\n",
       "  <rect x=\"0\" y=\"0\" width=\"17.68\" height=\"12.5\"/>\n",
       "</g>\n",
       "</svg>\n"
      ],
      "text/html": [
       "<div id=\"pwid26279\"><script>new Patchwork.Node(\"pwid26279\", {\"t\":\"svg\",\"p\":{\"width\":\"141.4213562373095mm\",\"stroke-width\":\"0.3\",\"font-size\":\"3.88\",\"fill\":\"#000000\",\"height\":\"100.0mm\",\"stroke\":\"none\",\"viewBox\":\"0 0 141.4213562373095 100.0\"},\"c\":[{\"t\":\"g\",\"c\":[{\"t\":\"g\",\"c\":[{\"t\":\"g\",\"p\":{\"fill-opacity\":1.0,\"fill\":\"#BB99FF\"},\"c\":[{\"t\":\"rect\",\"p\":{\"width\":17.67766952966369,\"height\":12.5,\"x\":123.74368670764582,\"y\":87.5},\"n\":\"svg\"}],\"n\":\"svg\"},{\"t\":\"g\",\"p\":{\"fill-opacity\":1.0,\"fill\":\"#A59FFF\"},\"c\":[{\"t\":\"rect\",\"p\":{\"width\":17.67766952966369,\"height\":12.5,\"x\":106.06601717798213,\"y\":87.5},\"n\":\"svg\"}],\"n\":\"svg\"},{\"t\":\"g\",\"p\":{\"fill-opacity\":1.0,\"fill\":\"#8BA4FF\"},\"c\":[{\"t\":\"rect\",\"p\":{\"width\":17.67766952966369,\"height\":12.5,\"x\":88.38834764831844,\"y\":87.5},\"n\":\"svg\"}],\"n\":\"svg\"},{\"t\":\"g\",\"p\":{\"fill-opacity\":1.0,\"fill\":\"#6DAAFF\"},\"c\":[{\"t\":\"rect\",\"p\":{\"width\":17.67766952966369,\"height\":12.5,\"x\":70.71067811865476,\"y\":87.5},\"n\":\"svg\"}],\"n\":\"svg\"},{\"t\":\"g\",\"p\":{\"fill-opacity\":1.0,\"fill\":\"#42AFFF\"},\"c\":[{\"t\":\"rect\",\"p\":{\"width\":17.67766952966369,\"height\":12.5,\"x\":53.033008588991066,\"y\":87.5},\"n\":\"svg\"}],\"n\":\"svg\"},{\"t\":\"g\",\"p\":{\"fill-opacity\":1.0,\"fill\":\"#00B4FF\"},\"c\":[{\"t\":\"rect\",\"p\":{\"width\":17.67766952966369,\"height\":12.5,\"x\":35.35533905932738,\"y\":87.5},\"n\":\"svg\"}],\"n\":\"svg\"},{\"t\":\"g\",\"p\":{\"fill-opacity\":1.0,\"fill\":\"#00B8FF\"},\"c\":[{\"t\":\"rect\",\"p\":{\"width\":17.67766952966369,\"height\":12.5,\"x\":17.67766952966369,\"y\":87.5},\"n\":\"svg\"}],\"n\":\"svg\"},{\"t\":\"g\",\"p\":{\"fill-opacity\":1.0,\"fill\":\"#00BBFF\"},\"c\":[{\"t\":\"rect\",\"p\":{\"width\":17.67766952966369,\"height\":12.5,\"x\":0.0,\"y\":87.5},\"n\":\"svg\"}],\"n\":\"svg\"},{\"t\":\"g\",\"p\":{\"fill-opacity\":1.0,\"fill\":\"#A59FFF\"},\"c\":[{\"t\":\"rect\",\"p\":{\"width\":17.67766952966369,\"height\":12.5,\"x\":123.74368670764582,\"y\":75.0},\"n\":\"svg\"}],\"n\":\"svg\"},{\"t\":\"g\",\"p\":{\"fill-opacity\":1.0,\"fill\":\"#8FA4FF\"},\"c\":[{\"t\":\"rect\",\"p\":{\"width\":17.67766952966369,\"height\":12.5,\"x\":106.06601717798213,\"y\":75.0},\"n\":\"svg\"}],\"n\":\"svg\"},{\"t\":\"g\",\"p\":{\"fill-opacity\":1.0,\"fill\":\"#75A9FF\"},\"c\":[{\"t\":\"rect\",\"p\":{\"width\":17.67766952966369,\"height\":12.5,\"x\":88.38834764831844,\"y\":75.0},\"n\":\"svg\"}],\"n\":\"svg\"},{\"t\":\"g\",\"p\":{\"fill-opacity\":1.0,\"fill\":\"#54ADFF\"},\"c\":[{\"t\":\"rect\",\"p\":{\"width\":17.67766952966369,\"height\":12.5,\"x\":70.71067811865476,\"y\":75.0},\"n\":\"svg\"}],\"n\":\"svg\"},{\"t\":\"g\",\"p\":{\"fill-opacity\":1.0,\"fill\":\"#1AB1FF\"},\"c\":[{\"t\":\"rect\",\"p\":{\"width\":17.67766952966369,\"height\":12.5,\"x\":53.033008588991066,\"y\":75.0},\"n\":\"svg\"}],\"n\":\"svg\"},{\"t\":\"g\",\"p\":{\"fill-opacity\":1.0,\"fill\":\"#00B5FF\"},\"c\":[{\"t\":\"rect\",\"p\":{\"width\":17.67766952966369,\"height\":12.5,\"x\":35.35533905932738,\"y\":75.0},\"n\":\"svg\"}],\"n\":\"svg\"},{\"t\":\"g\",\"p\":{\"fill-opacity\":1.0,\"fill\":\"#00B9FF\"},\"c\":[{\"t\":\"rect\",\"p\":{\"width\":17.67766952966369,\"height\":12.5,\"x\":17.67766952966369,\"y\":75.0},\"n\":\"svg\"}],\"n\":\"svg\"},{\"t\":\"g\",\"p\":{\"fill-opacity\":1.0,\"fill\":\"#00BCFF\"},\"c\":[{\"t\":\"rect\",\"p\":{\"width\":17.67766952966369,\"height\":12.5,\"x\":0.0,\"y\":75.0},\"n\":\"svg\"}],\"n\":\"svg\"},{\"t\":\"g\",\"p\":{\"fill-opacity\":1.0,\"fill\":\"#8BA4FF\"},\"c\":[{\"t\":\"rect\",\"p\":{\"width\":17.67766952966369,\"height\":12.5,\"x\":123.74368670764582,\"y\":62.5},\"n\":\"svg\"}],\"n\":\"svg\"},{\"t\":\"g\",\"p\":{\"fill-opacity\":1.0,\"fill\":\"#75A9FF\"},\"c\":[{\"t\":\"rect\",\"p\":{\"width\":17.67766952966369,\"height\":12.5,\"x\":106.06601717798213,\"y\":62.5},\"n\":\"svg\"}],\"n\":\"svg\"},{\"t\":\"g\",\"p\":{\"fill-opacity\":1.0,\"fill\":\"#5AADFF\"},\"c\":[{\"t\":\"rect\",\"p\":{\"width\":17.67766952966369,\"height\":12.5,\"x\":88.38834764831844,\"y\":62.5},\"n\":\"svg\"}],\"n\":\"svg\"},{\"t\":\"g\",\"p\":{\"fill-opacity\":1.0,\"fill\":\"#32B0FF\"},\"c\":[{\"t\":\"rect\",\"p\":{\"width\":17.67766952966369,\"height\":12.5,\"x\":70.71067811865476,\"y\":62.5},\"n\":\"svg\"}],\"n\":\"svg\"},{\"t\":\"g\",\"p\":{\"fill-opacity\":1.0,\"fill\":\"#00B4FF\"},\"c\":[{\"t\":\"rect\",\"p\":{\"width\":17.67766952966369,\"height\":12.5,\"x\":53.033008588991066,\"y\":62.5},\"n\":\"svg\"}],\"n\":\"svg\"},{\"t\":\"g\",\"p\":{\"fill-opacity\":1.0,\"fill\":\"#00B7FF\"},\"c\":[{\"t\":\"rect\",\"p\":{\"width\":17.67766952966369,\"height\":12.5,\"x\":35.35533905932738,\"y\":62.5},\"n\":\"svg\"}],\"n\":\"svg\"},{\"t\":\"g\",\"p\":{\"fill-opacity\":1.0,\"fill\":\"#00B9FF\"},\"c\":[{\"t\":\"rect\",\"p\":{\"width\":17.67766952966369,\"height\":12.5,\"x\":17.67766952966369,\"y\":62.5},\"n\":\"svg\"}],\"n\":\"svg\"},{\"t\":\"g\",\"p\":{\"fill-opacity\":1.0,\"fill\":\"#00BCFF\"},\"c\":[{\"t\":\"rect\",\"p\":{\"width\":17.67766952966369,\"height\":12.5,\"x\":0.0,\"y\":62.5},\"n\":\"svg\"}],\"n\":\"svg\"},{\"t\":\"g\",\"p\":{\"fill-opacity\":1.0,\"fill\":\"#6DAAFF\"},\"c\":[{\"t\":\"rect\",\"p\":{\"width\":17.67766952966369,\"height\":12.5,\"x\":123.74368670764582,\"y\":50.0},\"n\":\"svg\"}],\"n\":\"svg\"},{\"t\":\"g\",\"p\":{\"fill-opacity\":1.0,\"fill\":\"#54ADFF\"},\"c\":[{\"t\":\"rect\",\"p\":{\"width\":17.67766952966369,\"height\":12.5,\"x\":106.06601717798213,\"y\":50.0},\"n\":\"svg\"}],\"n\":\"svg\"},{\"t\":\"g\",\"p\":{\"fill-opacity\":1.0,\"fill\":\"#32B0FF\"},\"c\":[{\"t\":\"rect\",\"p\":{\"width\":17.67766952966369,\"height\":12.5,\"x\":88.38834764831844,\"y\":50.0},\"n\":\"svg\"}],\"n\":\"svg\"},{\"t\":\"g\",\"p\":{\"fill-opacity\":1.0,\"fill\":\"#00B3FF\"},\"c\":[{\"t\":\"rect\",\"p\":{\"width\":17.67766952966369,\"height\":12.5,\"x\":70.71067811865476,\"y\":50.0},\"n\":\"svg\"}],\"n\":\"svg\"},{\"t\":\"g\",\"p\":{\"fill-opacity\":1.0,\"fill\":\"#00B6FF\"},\"c\":[{\"t\":\"rect\",\"p\":{\"width\":17.67766952966369,\"height\":12.5,\"x\":53.033008588991066,\"y\":50.0},\"n\":\"svg\"}],\"n\":\"svg\"},{\"t\":\"g\",\"p\":{\"fill-opacity\":1.0,\"fill\":\"#00B8FF\"},\"c\":[{\"t\":\"rect\",\"p\":{\"width\":17.67766952966369,\"height\":12.5,\"x\":35.35533905932738,\"y\":50.0},\"n\":\"svg\"}],\"n\":\"svg\"},{\"t\":\"g\",\"p\":{\"fill-opacity\":1.0,\"fill\":\"#00BAFF\"},\"c\":[{\"t\":\"rect\",\"p\":{\"width\":17.67766952966369,\"height\":12.5,\"x\":17.67766952966369,\"y\":50.0},\"n\":\"svg\"}],\"n\":\"svg\"},{\"t\":\"g\",\"p\":{\"fill-opacity\":1.0,\"fill\":\"#00BCFF\"},\"c\":[{\"t\":\"rect\",\"p\":{\"width\":17.67766952966369,\"height\":12.5,\"x\":0.0,\"y\":50.0},\"n\":\"svg\"}],\"n\":\"svg\"},{\"t\":\"g\",\"p\":{\"fill-opacity\":1.0,\"fill\":\"#42AFFF\"},\"c\":[{\"t\":\"rect\",\"p\":{\"width\":17.67766952966369,\"height\":12.5,\"x\":123.74368670764582,\"y\":37.5},\"n\":\"svg\"}],\"n\":\"svg\"},{\"t\":\"g\",\"p\":{\"fill-opacity\":1.0,\"fill\":\"#1AB1FF\"},\"c\":[{\"t\":\"rect\",\"p\":{\"width\":17.67766952966369,\"height\":12.5,\"x\":106.06601717798213,\"y\":37.5},\"n\":\"svg\"}],\"n\":\"svg\"},{\"t\":\"g\",\"p\":{\"fill-opacity\":1.0,\"fill\":\"#00B4FF\"},\"c\":[{\"t\":\"rect\",\"p\":{\"width\":17.67766952966369,\"height\":12.5,\"x\":88.38834764831844,\"y\":37.5},\"n\":\"svg\"}],\"n\":\"svg\"},{\"t\":\"g\",\"p\":{\"fill-opacity\":1.0,\"fill\":\"#00B6FF\"},\"c\":[{\"t\":\"rect\",\"p\":{\"width\":17.67766952966369,\"height\":12.5,\"x\":70.71067811865476,\"y\":37.5},\"n\":\"svg\"}],\"n\":\"svg\"},{\"t\":\"g\",\"p\":{\"fill-opacity\":1.0,\"fill\":\"#00B8FF\"},\"c\":[{\"t\":\"rect\",\"p\":{\"width\":17.67766952966369,\"height\":12.5,\"x\":53.033008588991066,\"y\":37.5},\"n\":\"svg\"}],\"n\":\"svg\"},{\"t\":\"g\",\"p\":{\"fill-opacity\":1.0,\"fill\":\"#00B9FF\"},\"c\":[{\"t\":\"rect\",\"p\":{\"width\":17.67766952966369,\"height\":12.5,\"x\":35.35533905932738,\"y\":37.5},\"n\":\"svg\"}],\"n\":\"svg\"},{\"t\":\"g\",\"p\":{\"fill-opacity\":1.0,\"fill\":\"#00BBFF\"},\"c\":[{\"t\":\"rect\",\"p\":{\"width\":17.67766952966369,\"height\":12.5,\"x\":17.67766952966369,\"y\":37.5},\"n\":\"svg\"}],\"n\":\"svg\"},{\"t\":\"g\",\"p\":{\"fill-opacity\":1.0,\"fill\":\"#00BDFF\"},\"c\":[{\"t\":\"rect\",\"p\":{\"width\":17.67766952966369,\"height\":12.5,\"x\":0.0,\"y\":37.5},\"n\":\"svg\"}],\"n\":\"svg\"},{\"t\":\"g\",\"p\":{\"fill-opacity\":1.0,\"fill\":\"#00B4FF\"},\"c\":[{\"t\":\"rect\",\"p\":{\"width\":17.67766952966369,\"height\":12.5,\"x\":123.74368670764582,\"y\":25.0},\"n\":\"svg\"}],\"n\":\"svg\"},{\"t\":\"g\",\"p\":{\"fill-opacity\":1.0,\"fill\":\"#00B5FF\"},\"c\":[{\"t\":\"rect\",\"p\":{\"width\":17.67766952966369,\"height\":12.5,\"x\":106.06601717798213,\"y\":25.0},\"n\":\"svg\"}],\"n\":\"svg\"},{\"t\":\"g\",\"p\":{\"fill-opacity\":1.0,\"fill\":\"#00B7FF\"},\"c\":[{\"t\":\"rect\",\"p\":{\"width\":17.67766952966369,\"height\":12.5,\"x\":88.38834764831844,\"y\":25.0},\"n\":\"svg\"}],\"n\":\"svg\"},{\"t\":\"g\",\"p\":{\"fill-opacity\":1.0,\"fill\":\"#00B8FF\"},\"c\":[{\"t\":\"rect\",\"p\":{\"width\":17.67766952966369,\"height\":12.5,\"x\":70.71067811865476,\"y\":25.0},\"n\":\"svg\"}],\"n\":\"svg\"},{\"t\":\"g\",\"p\":{\"fill-opacity\":1.0,\"fill\":\"#00B9FF\"},\"c\":[{\"t\":\"rect\",\"p\":{\"width\":17.67766952966369,\"height\":12.5,\"x\":53.033008588991066,\"y\":25.0},\"n\":\"svg\"}],\"n\":\"svg\"},{\"t\":\"g\",\"p\":{\"fill-opacity\":1.0,\"fill\":\"#00BBFF\"},\"c\":[{\"t\":\"rect\",\"p\":{\"width\":17.67766952966369,\"height\":12.5,\"x\":35.35533905932738,\"y\":25.0},\"n\":\"svg\"}],\"n\":\"svg\"},{\"t\":\"g\",\"p\":{\"fill-opacity\":1.0,\"fill\":\"#00BCFF\"},\"c\":[{\"t\":\"rect\",\"p\":{\"width\":17.67766952966369,\"height\":12.5,\"x\":17.67766952966369,\"y\":25.0},\"n\":\"svg\"}],\"n\":\"svg\"},{\"t\":\"g\",\"p\":{\"fill-opacity\":1.0,\"fill\":\"#00BDFF\"},\"c\":[{\"t\":\"rect\",\"p\":{\"width\":17.67766952966369,\"height\":12.5,\"x\":0.0,\"y\":25.0},\"n\":\"svg\"}],\"n\":\"svg\"},{\"t\":\"g\",\"p\":{\"fill-opacity\":1.0,\"fill\":\"#00B8FF\"},\"c\":[{\"t\":\"rect\",\"p\":{\"width\":17.67766952966369,\"height\":12.5,\"x\":123.74368670764582,\"y\":12.5},\"n\":\"svg\"}],\"n\":\"svg\"},{\"t\":\"g\",\"p\":{\"fill-opacity\":1.0,\"fill\":\"#00B9FF\"},\"c\":[{\"t\":\"rect\",\"p\":{\"width\":17.67766952966369,\"height\":12.5,\"x\":106.06601717798213,\"y\":12.5},\"n\":\"svg\"}],\"n\":\"svg\"},{\"t\":\"g\",\"p\":{\"fill-opacity\":1.0,\"fill\":\"#00B9FF\"},\"c\":[{\"t\":\"rect\",\"p\":{\"width\":17.67766952966369,\"height\":12.5,\"x\":88.38834764831844,\"y\":12.5},\"n\":\"svg\"}],\"n\":\"svg\"},{\"t\":\"g\",\"p\":{\"fill-opacity\":1.0,\"fill\":\"#00BAFF\"},\"c\":[{\"t\":\"rect\",\"p\":{\"width\":17.67766952966369,\"height\":12.5,\"x\":70.71067811865476,\"y\":12.5},\"n\":\"svg\"}],\"n\":\"svg\"},{\"t\":\"g\",\"p\":{\"fill-opacity\":1.0,\"fill\":\"#00BBFF\"},\"c\":[{\"t\":\"rect\",\"p\":{\"width\":17.67766952966369,\"height\":12.5,\"x\":53.033008588991066,\"y\":12.5},\"n\":\"svg\"}],\"n\":\"svg\"},{\"t\":\"g\",\"p\":{\"fill-opacity\":1.0,\"fill\":\"#00BCFF\"},\"c\":[{\"t\":\"rect\",\"p\":{\"width\":17.67766952966369,\"height\":12.5,\"x\":35.35533905932738,\"y\":12.5},\"n\":\"svg\"}],\"n\":\"svg\"},{\"t\":\"g\",\"p\":{\"fill-opacity\":1.0,\"fill\":\"#00BDFF\"},\"c\":[{\"t\":\"rect\",\"p\":{\"width\":17.67766952966369,\"height\":12.5,\"x\":17.67766952966369,\"y\":12.5},\"n\":\"svg\"}],\"n\":\"svg\"},{\"t\":\"g\",\"p\":{\"fill-opacity\":1.0,\"fill\":\"#00BDFF\"},\"c\":[{\"t\":\"rect\",\"p\":{\"width\":17.67766952966369,\"height\":12.5,\"x\":0.0,\"y\":12.5},\"n\":\"svg\"}],\"n\":\"svg\"},{\"t\":\"g\",\"p\":{\"fill-opacity\":1.0,\"fill\":\"#00BBFF\"},\"c\":[{\"t\":\"rect\",\"p\":{\"width\":17.67766952966369,\"height\":12.5,\"x\":123.74368670764582,\"y\":0.0},\"n\":\"svg\"}],\"n\":\"svg\"},{\"t\":\"g\",\"p\":{\"fill-opacity\":1.0,\"fill\":\"#00BCFF\"},\"c\":[{\"t\":\"rect\",\"p\":{\"width\":17.67766952966369,\"height\":12.5,\"x\":106.06601717798213,\"y\":0.0},\"n\":\"svg\"}],\"n\":\"svg\"},{\"t\":\"g\",\"p\":{\"fill-opacity\":1.0,\"fill\":\"#00BCFF\"},\"c\":[{\"t\":\"rect\",\"p\":{\"width\":17.67766952966369,\"height\":12.5,\"x\":88.38834764831844,\"y\":0.0},\"n\":\"svg\"}],\"n\":\"svg\"},{\"t\":\"g\",\"p\":{\"fill-opacity\":1.0,\"fill\":\"#00BCFF\"},\"c\":[{\"t\":\"rect\",\"p\":{\"width\":17.67766952966369,\"height\":12.5,\"x\":70.71067811865476,\"y\":0.0},\"n\":\"svg\"}],\"n\":\"svg\"},{\"t\":\"g\",\"p\":{\"fill-opacity\":1.0,\"fill\":\"#00BDFF\"},\"c\":[{\"t\":\"rect\",\"p\":{\"width\":17.67766952966369,\"height\":12.5,\"x\":53.033008588991066,\"y\":0.0},\"n\":\"svg\"}],\"n\":\"svg\"},{\"t\":\"g\",\"p\":{\"fill-opacity\":1.0,\"fill\":\"#00BDFF\"},\"c\":[{\"t\":\"rect\",\"p\":{\"width\":17.67766952966369,\"height\":12.5,\"x\":35.35533905932738,\"y\":0.0},\"n\":\"svg\"}],\"n\":\"svg\"},{\"t\":\"g\",\"p\":{\"fill-opacity\":1.0,\"fill\":\"#00BDFF\"},\"c\":[{\"t\":\"rect\",\"p\":{\"width\":17.67766952966369,\"height\":12.5,\"x\":17.67766952966369,\"y\":0.0},\"n\":\"svg\"}],\"n\":\"svg\"},{\"t\":\"g\",\"p\":{\"fill-opacity\":1.0,\"fill\":\"#00BEFF\"},\"c\":[{\"t\":\"rect\",\"p\":{\"width\":17.67766952966369,\"height\":12.5,\"x\":0.0,\"y\":0.0},\"n\":\"svg\"}],\"n\":\"svg\"}],\"n\":\"svg\"}],\"n\":\"svg\"}],\"n\":\"svg\"});</script></div>"
      ],
      "text/plain": [
       "Context(BoundingBox(Measure{MeasureNil,MeasureNil}(0.0,MeasureNil(),MeasureNil(),0.0,0.0),Measure{MeasureNil,MeasureNil}(0.0,MeasureNil(),MeasureNil(),0.0,0.0),Measure{MeasureNil,MeasureNil}(0.0,MeasureNil(),MeasureNil(),1.0,0.0),Measure{MeasureNil,MeasureNil}(0.0,MeasureNil(),MeasureNil(),0.0,1.0)),UnitBox{Void,Void,Void,Void}(nothing,nothing,nothing,nothing,Measure{MeasureNil,MeasureNil}(0.0,MeasureNil(),MeasureNil(),0.0,0.0),Measure{MeasureNil,MeasureNil}(0.0,MeasureNil(),MeasureNil(),0.0,0.0),Measure{MeasureNil,MeasureNil}(0.0,MeasureNil(),MeasureNil(),0.0,0.0),Measure{MeasureNil,MeasureNil}(0.0,MeasureNil(),MeasureNil(),0.0,0.0)),Rotation{Point{Measure{MeasureNil,MeasureNil},Measure{MeasureNil,MeasureNil}}}(0.0,Point{Measure{MeasureNil,MeasureNil},Measure{MeasureNil,MeasureNil}}(Measure{MeasureNil,MeasureNil}(0.0,MeasureNil(),MeasureNil(),0.5,0.0),Measure{MeasureNil,MeasureNil}(0.0,MeasureNil(),MeasureNil(),0.0,0.5))),nothing,ListNode{ComposeNode}(Table(8x8 Array{Array{Context,1},2}:\n",
       " [Context(BoundingBox(Measure{MeasureNil,MeasureNil}(0.0,MeasureNil(),MeasureNil(),0.0,0.0),Measure{MeasureNil,MeasureNil}(0.0,MeasureNil(),MeasureNil(),0.0,0.0),Measure{MeasureNil,MeasureNil}(0.0,MeasureNil(),MeasureNil(),1.0,0.0),Measure{MeasureNil,MeasureNil}(0.0,MeasureNil(),MeasureNil(),0.0,1.0)),UnitBox{Void,Void,Void,Void}(nothing,nothing,nothing,nothing,Measure{MeasureNil,MeasureNil}(0.0,MeasureNil(),MeasureNil(),0.0,0.0),Measure{MeasureNil,MeasureNil}(0.0,MeasureNil(),MeasureNil(),0.0,0.0),Measure{MeasureNil,MeasureNil}(0.0,MeasureNil(),MeasureNil(),0.0,0.0),Measure{MeasureNil,MeasureNil}(0.0,MeasureNil(),MeasureNil(),0.0,0.0)),Rotation{Point{Measure{MeasureNil,MeasureNil},Measure{MeasureNil,MeasureNil}}}(0.0,Point{Measure{MeasureNil,MeasureNil},Measure{MeasureNil,MeasureNil}}(Measure{MeasureNil,MeasureNil}(0.0,MeasureNil(),MeasureNil(),0.5,0.0),Measure{MeasureNil,MeasureNil}(0.0,MeasureNil(),MeasureNil(),0.0,0.5))),nothing,ListNode{ComposeNode}(Property{FillPrimitive}([FillPrimitive(RGBA{Float64}(0.0,0.7441006401928452,1.0,1.0))]),ListNode{ComposeNode}(Form{RectanglePrimitive{P<:Point{XM<:Measure{S,T},YM<:Measure{S,T}},M1<:Measure{S,T},M2<:Measure{S,T}}}(RectanglePrimitive[RectanglePrimitive{Point{Measure{MeasureNil,MeasureNil},Measure{MeasureNil,MeasureNil}},Measure{MeasureNil,MeasureNil},Measure{MeasureNil,MeasureNil}}(Point{Measure{MeasureNil,MeasureNil},Measure{MeasureNil,MeasureNil}}(Measure{MeasureNil,MeasureNil}(0.0,MeasureNil(),MeasureNil(),0.0,0.0),Measure{MeasureNil,MeasureNil}(0.0,MeasureNil(),MeasureNil(),0.0,0.0)),Measure{MeasureNil,MeasureNil}(0.0,MeasureNil(),MeasureNil(),1.0,0.0),Measure{MeasureNil,MeasureNil}(0.0,MeasureNil(),MeasureNil(),0.0,1.0))]),ListNull{ComposeNode}())),0,false,false,false,false,nothing,nothing,0.0)]  …  [Context(BoundingBox(Measure{MeasureNil,MeasureNil}(0.0,MeasureNil(),MeasureNil(),0.0,0.0),Measure{MeasureNil,MeasureNil}(0.0,MeasureNil(),MeasureNil(),0.0,0.0),Measure{MeasureNil,MeasureNil}(0.0,MeasureNil(),MeasureNil(),1.0,0.0),Measure{MeasureNil,MeasureNil}(0.0,MeasureNil(),MeasureNil(),0.0,1.0)),UnitBox{Void,Void,Void,Void}(nothing,nothing,nothing,nothing,Measure{MeasureNil,MeasureNil}(0.0,MeasureNil(),MeasureNil(),0.0,0.0),Measure{MeasureNil,MeasureNil}(0.0,MeasureNil(),MeasureNil(),0.0,0.0),Measure{MeasureNil,MeasureNil}(0.0,MeasureNil(),MeasureNil(),0.0,0.0),Measure{MeasureNil,MeasureNil}(0.0,MeasureNil(),MeasureNil(),0.0,0.0)),Rotation{Point{Measure{MeasureNil,MeasureNil},Measure{MeasureNil,MeasureNil}}}(0.0,Point{Measure{MeasureNil,MeasureNil},Measure{MeasureNil,MeasureNil}}(Measure{MeasureNil,MeasureNil}(0.0,MeasureNil(),MeasureNil(),0.5,0.0),Measure{MeasureNil,MeasureNil}(0.0,MeasureNil(),MeasureNil(),0.0,0.5))),nothing,ListNode{ComposeNode}(Property{FillPrimitive}([FillPrimitive(RGBA{Float64}(0.0,0.7338497560569025,1.0,1.0))]),ListNode{ComposeNode}(Form{RectanglePrimitive{P<:Point{XM<:Measure{S,T},YM<:Measure{S,T}},M1<:Measure{S,T},M2<:Measure{S,T}}}(RectanglePrimitive[RectanglePrimitive{Point{Measure{MeasureNil,MeasureNil},Measure{MeasureNil,MeasureNil}},Measure{MeasureNil,MeasureNil},Measure{MeasureNil,MeasureNil}}(Point{Measure{MeasureNil,MeasureNil},Measure{MeasureNil,MeasureNil}}(Measure{MeasureNil,MeasureNil}(0.0,MeasureNil(),MeasureNil(),0.0,0.0),Measure{MeasureNil,MeasureNil}(0.0,MeasureNil(),MeasureNil(),0.0,0.0)),Measure{MeasureNil,MeasureNil}(0.0,MeasureNil(),MeasureNil(),1.0,0.0),Measure{MeasureNil,MeasureNil}(0.0,MeasureNil(),MeasureNil(),0.0,1.0))]),ListNull{ComposeNode}())),0,false,false,false,false,nothing,nothing,0.0)]                \n",
       " [Context(BoundingBox(Measure{MeasureNil,MeasureNil}(0.0,MeasureNil(),MeasureNil(),0.0,0.0),Measure{MeasureNil,MeasureNil}(0.0,MeasureNil(),MeasureNil(),0.0,0.0),Measure{MeasureNil,MeasureNil}(0.0,MeasureNil(),MeasureNil(),1.0,0.0),Measure{MeasureNil,MeasureNil}(0.0,MeasureNil(),MeasureNil(),0.0,1.0)),UnitBox{Void,Void,Void,Void}(nothing,nothing,nothing,nothing,Measure{MeasureNil,MeasureNil}(0.0,MeasureNil(),MeasureNil(),0.0,0.0),Measure{MeasureNil,MeasureNil}(0.0,MeasureNil(),MeasureNil(),0.0,0.0),Measure{MeasureNil,MeasureNil}(0.0,MeasureNil(),MeasureNil(),0.0,0.0),Measure{MeasureNil,MeasureNil}(0.0,MeasureNil(),MeasureNil(),0.0,0.0)),Rotation{Point{Measure{MeasureNil,MeasureNil},Measure{MeasureNil,MeasureNil}}}(0.0,Point{Measure{MeasureNil,MeasureNil},Measure{MeasureNil,MeasureNil}}(Measure{MeasureNil,MeasureNil}(0.0,MeasureNil(),MeasureNil(),0.5,0.0),Measure{MeasureNil,MeasureNil}(0.0,MeasureNil(),MeasureNil(),0.0,0.5))),nothing,ListNode{ComposeNode}(Property{FillPrimitive}([FillPrimitive(RGBA{Float64}(0.0,0.742733848056367,1.0,1.0))]),ListNode{ComposeNode}(Form{RectanglePrimitive{P<:Point{XM<:Measure{S,T},YM<:Measure{S,T}},M1<:Measure{S,T},M2<:Measure{S,T}}}(RectanglePrimitive[RectanglePrimitive{Point{Measure{MeasureNil,MeasureNil},Measure{MeasureNil,MeasureNil}},Measure{MeasureNil,MeasureNil},Measure{MeasureNil,MeasureNil}}(Point{Measure{MeasureNil,MeasureNil},Measure{MeasureNil,MeasureNil}}(Measure{MeasureNil,MeasureNil}(0.0,MeasureNil(),MeasureNil(),0.0,0.0),Measure{MeasureNil,MeasureNil}(0.0,MeasureNil(),MeasureNil(),0.0,0.0)),Measure{MeasureNil,MeasureNil}(0.0,MeasureNil(),MeasureNil(),1.0,0.0),Measure{MeasureNil,MeasureNil}(0.0,MeasureNil(),MeasureNil(),0.0,1.0))]),ListNull{ComposeNode}())),0,false,false,false,false,nothing,nothing,0.0)]      [Context(BoundingBox(Measure{MeasureNil,MeasureNil}(0.0,MeasureNil(),MeasureNil(),0.0,0.0),Measure{MeasureNil,MeasureNil}(0.0,MeasureNil(),MeasureNil(),0.0,0.0),Measure{MeasureNil,MeasureNil}(0.0,MeasureNil(),MeasureNil(),1.0,0.0),Measure{MeasureNil,MeasureNil}(0.0,MeasureNil(),MeasureNil(),0.0,1.0)),UnitBox{Void,Void,Void,Void}(nothing,nothing,nothing,nothing,Measure{MeasureNil,MeasureNil}(0.0,MeasureNil(),MeasureNil(),0.0,0.0),Measure{MeasureNil,MeasureNil}(0.0,MeasureNil(),MeasureNil(),0.0,0.0),Measure{MeasureNil,MeasureNil}(0.0,MeasureNil(),MeasureNil(),0.0,0.0),Measure{MeasureNil,MeasureNil}(0.0,MeasureNil(),MeasureNil(),0.0,0.0)),Rotation{Point{Measure{MeasureNil,MeasureNil},Measure{MeasureNil,MeasureNil}}}(0.0,Point{Measure{MeasureNil,MeasureNil},Measure{MeasureNil,MeasureNil}}(Measure{MeasureNil,MeasureNil}(0.0,MeasureNil(),MeasureNil(),0.5,0.0),Measure{MeasureNil,MeasureNil}(0.0,MeasureNil(),MeasureNil(),0.0,0.5))),nothing,ListNode{ComposeNode}(Property{FillPrimitive}([FillPrimitive(RGBA{Float64}(0.0,0.7201508894015723,1.0,1.0))]),ListNode{ComposeNode}(Form{RectanglePrimitive{P<:Point{XM<:Measure{S,T},YM<:Measure{S,T}},M1<:Measure{S,T},M2<:Measure{S,T}}}(RectanglePrimitive[RectanglePrimitive{Point{Measure{MeasureNil,MeasureNil},Measure{MeasureNil,MeasureNil}},Measure{MeasureNil,MeasureNil},Measure{MeasureNil,MeasureNil}}(Point{Measure{MeasureNil,MeasureNil},Measure{MeasureNil,MeasureNil}}(Measure{MeasureNil,MeasureNil}(0.0,MeasureNil(),MeasureNil(),0.0,0.0),Measure{MeasureNil,MeasureNil}(0.0,MeasureNil(),MeasureNil(),0.0,0.0)),Measure{MeasureNil,MeasureNil}(0.0,MeasureNil(),MeasureNil(),1.0,0.0),Measure{MeasureNil,MeasureNil}(0.0,MeasureNil(),MeasureNil(),0.0,1.0))]),ListNull{ComposeNode}())),0,false,false,false,false,nothing,nothing,0.0)]                \n",
       " [Context(BoundingBox(Measure{MeasureNil,MeasureNil}(0.0,MeasureNil(),MeasureNil(),0.0,0.0),Measure{MeasureNil,MeasureNil}(0.0,MeasureNil(),MeasureNil(),0.0,0.0),Measure{MeasureNil,MeasureNil}(0.0,MeasureNil(),MeasureNil(),1.0,0.0),Measure{MeasureNil,MeasureNil}(0.0,MeasureNil(),MeasureNil(),0.0,1.0)),UnitBox{Void,Void,Void,Void}(nothing,nothing,nothing,nothing,Measure{MeasureNil,MeasureNil}(0.0,MeasureNil(),MeasureNil(),0.0,0.0),Measure{MeasureNil,MeasureNil}(0.0,MeasureNil(),MeasureNil(),0.0,0.0),Measure{MeasureNil,MeasureNil}(0.0,MeasureNil(),MeasureNil(),0.0,0.0),Measure{MeasureNil,MeasureNil}(0.0,MeasureNil(),MeasureNil(),0.0,0.0)),Rotation{Point{Measure{MeasureNil,MeasureNil},Measure{MeasureNil,MeasureNil}}}(0.0,Point{Measure{MeasureNil,MeasureNil},Measure{MeasureNil,MeasureNil}}(Measure{MeasureNil,MeasureNil}(0.0,MeasureNil(),MeasureNil(),0.5,0.0),Measure{MeasureNil,MeasureNil}(0.0,MeasureNil(),MeasureNil(),0.0,0.5))),nothing,ListNode{ComposeNode}(Property{FillPrimitive}([FillPrimitive(RGBA{Float64}(0.0,0.7413347636931693,1.0,1.0))]),ListNode{ComposeNode}(Form{RectanglePrimitive{P<:Point{XM<:Measure{S,T},YM<:Measure{S,T}},M1<:Measure{S,T},M2<:Measure{S,T}}}(RectanglePrimitive[RectanglePrimitive{Point{Measure{MeasureNil,MeasureNil},Measure{MeasureNil,MeasureNil}},Measure{MeasureNil,MeasureNil},Measure{MeasureNil,MeasureNil}}(Point{Measure{MeasureNil,MeasureNil},Measure{MeasureNil,MeasureNil}}(Measure{MeasureNil,MeasureNil}(0.0,MeasureNil(),MeasureNil(),0.0,0.0),Measure{MeasureNil,MeasureNil}(0.0,MeasureNil(),MeasureNil(),0.0,0.0)),Measure{MeasureNil,MeasureNil}(0.0,MeasureNil(),MeasureNil(),1.0,0.0),Measure{MeasureNil,MeasureNil}(0.0,MeasureNil(),MeasureNil(),0.0,1.0))]),ListNull{ComposeNode}())),0,false,false,false,false,nothing,nothing,0.0)]     [Context(BoundingBox(Measure{MeasureNil,MeasureNil}(0.0,MeasureNil(),MeasureNil(),0.0,0.0),Measure{MeasureNil,MeasureNil}(0.0,MeasureNil(),MeasureNil(),0.0,0.0),Measure{MeasureNil,MeasureNil}(0.0,MeasureNil(),MeasureNil(),1.0,0.0),Measure{MeasureNil,MeasureNil}(0.0,MeasureNil(),MeasureNil(),0.0,1.0)),UnitBox{Void,Void,Void,Void}(nothing,nothing,nothing,nothing,Measure{MeasureNil,MeasureNil}(0.0,MeasureNil(),MeasureNil(),0.0,0.0),Measure{MeasureNil,MeasureNil}(0.0,MeasureNil(),MeasureNil(),0.0,0.0),Measure{MeasureNil,MeasureNil}(0.0,MeasureNil(),MeasureNil(),0.0,0.0),Measure{MeasureNil,MeasureNil}(0.0,MeasureNil(),MeasureNil(),0.0,0.0)),Rotation{Point{Measure{MeasureNil,MeasureNil},Measure{MeasureNil,MeasureNil}}}(0.0,Point{Measure{MeasureNil,MeasureNil},Measure{MeasureNil,MeasureNil}}(Measure{MeasureNil,MeasureNil}(0.0,MeasureNil(),MeasureNil(),0.5,0.0),Measure{MeasureNil,MeasureNil}(0.0,MeasureNil(),MeasureNil(),0.0,0.5))),nothing,ListNode{ComposeNode}(Property{FillPrimitive}([FillPrimitive(RGBA{Float64}(0.0,0.7043171926715898,1.0,1.0))]),ListNode{ComposeNode}(Form{RectanglePrimitive{P<:Point{XM<:Measure{S,T},YM<:Measure{S,T}},M1<:Measure{S,T},M2<:Measure{S,T}}}(RectanglePrimitive[RectanglePrimitive{Point{Measure{MeasureNil,MeasureNil},Measure{MeasureNil,MeasureNil}},Measure{MeasureNil,MeasureNil},Measure{MeasureNil,MeasureNil}}(Point{Measure{MeasureNil,MeasureNil},Measure{MeasureNil,MeasureNil}}(Measure{MeasureNil,MeasureNil}(0.0,MeasureNil(),MeasureNil(),0.0,0.0),Measure{MeasureNil,MeasureNil}(0.0,MeasureNil(),MeasureNil(),0.0,0.0)),Measure{MeasureNil,MeasureNil}(0.0,MeasureNil(),MeasureNil(),1.0,0.0),Measure{MeasureNil,MeasureNil}(0.0,MeasureNil(),MeasureNil(),0.0,1.0))]),ListNull{ComposeNode}())),0,false,false,false,false,nothing,nothing,0.0)]                \n",
       " [Context(BoundingBox(Measure{MeasureNil,MeasureNil}(0.0,MeasureNil(),MeasureNil(),0.0,0.0),Measure{MeasureNil,MeasureNil}(0.0,MeasureNil(),MeasureNil(),0.0,0.0),Measure{MeasureNil,MeasureNil}(0.0,MeasureNil(),MeasureNil(),1.0,0.0),Measure{MeasureNil,MeasureNil}(0.0,MeasureNil(),MeasureNil(),0.0,1.0)),UnitBox{Void,Void,Void,Void}(nothing,nothing,nothing,nothing,Measure{MeasureNil,MeasureNil}(0.0,MeasureNil(),MeasureNil(),0.0,0.0),Measure{MeasureNil,MeasureNil}(0.0,MeasureNil(),MeasureNil(),0.0,0.0),Measure{MeasureNil,MeasureNil}(0.0,MeasureNil(),MeasureNil(),0.0,0.0),Measure{MeasureNil,MeasureNil}(0.0,MeasureNil(),MeasureNil(),0.0,0.0)),Rotation{Point{Measure{MeasureNil,MeasureNil},Measure{MeasureNil,MeasureNil}}}(0.0,Point{Measure{MeasureNil,MeasureNil},Measure{MeasureNil,MeasureNil}}(Measure{MeasureNil,MeasureNil}(0.0,MeasureNil(),MeasureNil(),0.5,0.0),Measure{MeasureNil,MeasureNil}(0.0,MeasureNil(),MeasureNil(),0.0,0.5))),nothing,ListNode{ComposeNode}(Property{FillPrimitive}([FillPrimitive(RGBA{Float64}(0.0,0.7399032298803999,1.0,1.0))]),ListNode{ComposeNode}(Form{RectanglePrimitive{P<:Point{XM<:Measure{S,T},YM<:Measure{S,T}},M1<:Measure{S,T},M2<:Measure{S,T}}}(RectanglePrimitive[RectanglePrimitive{Point{Measure{MeasureNil,MeasureNil},Measure{MeasureNil,MeasureNil}},Measure{MeasureNil,MeasureNil},Measure{MeasureNil,MeasureNil}}(Point{Measure{MeasureNil,MeasureNil},Measure{MeasureNil,MeasureNil}}(Measure{MeasureNil,MeasureNil}(0.0,MeasureNil(),MeasureNil(),0.0,0.0),Measure{MeasureNil,MeasureNil}(0.0,MeasureNil(),MeasureNil(),0.0,0.0)),Measure{MeasureNil,MeasureNil}(0.0,MeasureNil(),MeasureNil(),1.0,0.0),Measure{MeasureNil,MeasureNil}(0.0,MeasureNil(),MeasureNil(),0.0,1.0))]),ListNull{ComposeNode}())),0,false,false,false,false,nothing,nothing,0.0)]     [Context(BoundingBox(Measure{MeasureNil,MeasureNil}(0.0,MeasureNil(),MeasureNil(),0.0,0.0),Measure{MeasureNil,MeasureNil}(0.0,MeasureNil(),MeasureNil(),0.0,0.0),Measure{MeasureNil,MeasureNil}(0.0,MeasureNil(),MeasureNil(),1.0,0.0),Measure{MeasureNil,MeasureNil}(0.0,MeasureNil(),MeasureNil(),0.0,1.0)),UnitBox{Void,Void,Void,Void}(nothing,nothing,nothing,nothing,Measure{MeasureNil,MeasureNil}(0.0,MeasureNil(),MeasureNil(),0.0,0.0),Measure{MeasureNil,MeasureNil}(0.0,MeasureNil(),MeasureNil(),0.0,0.0),Measure{MeasureNil,MeasureNil}(0.0,MeasureNil(),MeasureNil(),0.0,0.0),Measure{MeasureNil,MeasureNil}(0.0,MeasureNil(),MeasureNil(),0.0,0.0)),Rotation{Point{Measure{MeasureNil,MeasureNil},Measure{MeasureNil,MeasureNil}}}(0.0,Point{Measure{MeasureNil,MeasureNil},Measure{MeasureNil,MeasureNil}}(Measure{MeasureNil,MeasureNil}(0.0,MeasureNil(),MeasureNil(),0.5,0.0),Measure{MeasureNil,MeasureNil}(0.0,MeasureNil(),MeasureNil(),0.0,0.5))),nothing,ListNode{ComposeNode}(Property{FillPrimitive}([FillPrimitive(RGBA{Float64}(0.25803020448804437,0.6863936573455055,1.0,1.0))]),ListNode{ComposeNode}(Form{RectanglePrimitive{P<:Point{XM<:Measure{S,T},YM<:Measure{S,T}},M1<:Measure{S,T},M2<:Measure{S,T}}}(RectanglePrimitive[RectanglePrimitive{Point{Measure{MeasureNil,MeasureNil},Measure{MeasureNil,MeasureNil}},Measure{MeasureNil,MeasureNil},Measure{MeasureNil,MeasureNil}}(Point{Measure{MeasureNil,MeasureNil},Measure{MeasureNil,MeasureNil}}(Measure{MeasureNil,MeasureNil}(0.0,MeasureNil(),MeasureNil(),0.0,0.0),Measure{MeasureNil,MeasureNil}(0.0,MeasureNil(),MeasureNil(),0.0,0.0)),Measure{MeasureNil,MeasureNil}(0.0,MeasureNil(),MeasureNil(),1.0,0.0),Measure{MeasureNil,MeasureNil}(0.0,MeasureNil(),MeasureNil(),0.0,1.0))]),ListNull{ComposeNode}())),0,false,false,false,false,nothing,nothing,0.0)]\n",
       " [Context(BoundingBox(Measure{MeasureNil,MeasureNil}(0.0,MeasureNil(),MeasureNil(),0.0,0.0),Measure{MeasureNil,MeasureNil}(0.0,MeasureNil(),MeasureNil(),0.0,0.0),Measure{MeasureNil,MeasureNil}(0.0,MeasureNil(),MeasureNil(),1.0,0.0),Measure{MeasureNil,MeasureNil}(0.0,MeasureNil(),MeasureNil(),0.0,1.0)),UnitBox{Void,Void,Void,Void}(nothing,nothing,nothing,nothing,Measure{MeasureNil,MeasureNil}(0.0,MeasureNil(),MeasureNil(),0.0,0.0),Measure{MeasureNil,MeasureNil}(0.0,MeasureNil(),MeasureNil(),0.0,0.0),Measure{MeasureNil,MeasureNil}(0.0,MeasureNil(),MeasureNil(),0.0,0.0),Measure{MeasureNil,MeasureNil}(0.0,MeasureNil(),MeasureNil(),0.0,0.0)),Rotation{Point{Measure{MeasureNil,MeasureNil},Measure{MeasureNil,MeasureNil}}}(0.0,Point{Measure{MeasureNil,MeasureNil},Measure{MeasureNil,MeasureNil}}(Measure{MeasureNil,MeasureNil}(0.0,MeasureNil(),MeasureNil(),0.5,0.0),Measure{MeasureNil,MeasureNil}(0.0,MeasureNil(),MeasureNil(),0.0,0.5))),nothing,ListNode{ComposeNode}(Property{FillPrimitive}([FillPrimitive(RGBA{Float64}(0.0,0.7384390584625828,1.0,1.0))]),ListNode{ComposeNode}(Form{RectanglePrimitive{P<:Point{XM<:Measure{S,T},YM<:Measure{S,T}},M1<:Measure{S,T},M2<:Measure{S,T}}}(RectanglePrimitive[RectanglePrimitive{Point{Measure{MeasureNil,MeasureNil},Measure{MeasureNil,MeasureNil}},Measure{MeasureNil,MeasureNil},Measure{MeasureNil,MeasureNil}}(Point{Measure{MeasureNil,MeasureNil},Measure{MeasureNil,MeasureNil}}(Measure{MeasureNil,MeasureNil}(0.0,MeasureNil(),MeasureNil(),0.0,0.0),Measure{MeasureNil,MeasureNil}(0.0,MeasureNil(),MeasureNil(),0.0,0.0)),Measure{MeasureNil,MeasureNil}(0.0,MeasureNil(),MeasureNil(),1.0,0.0),Measure{MeasureNil,MeasureNil}(0.0,MeasureNil(),MeasureNil(),0.0,1.0))]),ListNull{ComposeNode}())),0,false,false,false,false,nothing,nothing,0.0)]     [Context(BoundingBox(Measure{MeasureNil,MeasureNil}(0.0,MeasureNil(),MeasureNil(),0.0,0.0),Measure{MeasureNil,MeasureNil}(0.0,MeasureNil(),MeasureNil(),0.0,0.0),Measure{MeasureNil,MeasureNil}(0.0,MeasureNil(),MeasureNil(),1.0,0.0),Measure{MeasureNil,MeasureNil}(0.0,MeasureNil(),MeasureNil(),0.0,1.0)),UnitBox{Void,Void,Void,Void}(nothing,nothing,nothing,nothing,Measure{MeasureNil,MeasureNil}(0.0,MeasureNil(),MeasureNil(),0.0,0.0),Measure{MeasureNil,MeasureNil}(0.0,MeasureNil(),MeasureNil(),0.0,0.0),Measure{MeasureNil,MeasureNil}(0.0,MeasureNil(),MeasureNil(),0.0,0.0),Measure{MeasureNil,MeasureNil}(0.0,MeasureNil(),MeasureNil(),0.0,0.0)),Rotation{Point{Measure{MeasureNil,MeasureNil},Measure{MeasureNil,MeasureNil}}}(0.0,Point{Measure{MeasureNil,MeasureNil},Measure{MeasureNil,MeasureNil}}(Measure{MeasureNil,MeasureNil}(0.0,MeasureNil(),MeasureNil(),0.5,0.0),Measure{MeasureNil,MeasureNil}(0.0,MeasureNil(),MeasureNil(),0.0,0.5))),nothing,ListNode{ComposeNode}(Property{FillPrimitive}([FillPrimitive(RGBA{Float64}(0.4257275915917019,0.6665100998513593,1.0,1.0))]),ListNode{ComposeNode}(Form{RectanglePrimitive{P<:Point{XM<:Measure{S,T},YM<:Measure{S,T}},M1<:Measure{S,T},M2<:Measure{S,T}}}(RectanglePrimitive[RectanglePrimitive{Point{Measure{MeasureNil,MeasureNil},Measure{MeasureNil,MeasureNil}},Measure{MeasureNil,MeasureNil},Measure{MeasureNil,MeasureNil}}(Point{Measure{MeasureNil,MeasureNil},Measure{MeasureNil,MeasureNil}}(Measure{MeasureNil,MeasureNil}(0.0,MeasureNil(),MeasureNil(),0.0,0.0),Measure{MeasureNil,MeasureNil}(0.0,MeasureNil(),MeasureNil(),0.0,0.0)),Measure{MeasureNil,MeasureNil}(0.0,MeasureNil(),MeasureNil(),1.0,0.0),Measure{MeasureNil,MeasureNil}(0.0,MeasureNil(),MeasureNil(),0.0,1.0))]),ListNull{ComposeNode}())),0,false,false,false,false,nothing,nothing,0.0)] \n",
       " [Context(BoundingBox(Measure{MeasureNil,MeasureNil}(0.0,MeasureNil(),MeasureNil(),0.0,0.0),Measure{MeasureNil,MeasureNil}(0.0,MeasureNil(),MeasureNil(),0.0,0.0),Measure{MeasureNil,MeasureNil}(0.0,MeasureNil(),MeasureNil(),1.0,0.0),Measure{MeasureNil,MeasureNil}(0.0,MeasureNil(),MeasureNil(),0.0,1.0)),UnitBox{Void,Void,Void,Void}(nothing,nothing,nothing,nothing,Measure{MeasureNil,MeasureNil}(0.0,MeasureNil(),MeasureNil(),0.0,0.0),Measure{MeasureNil,MeasureNil}(0.0,MeasureNil(),MeasureNil(),0.0,0.0),Measure{MeasureNil,MeasureNil}(0.0,MeasureNil(),MeasureNil(),0.0,0.0),Measure{MeasureNil,MeasureNil}(0.0,MeasureNil(),MeasureNil(),0.0,0.0)),Rotation{Point{Measure{MeasureNil,MeasureNil},Measure{MeasureNil,MeasureNil}}}(0.0,Point{Measure{MeasureNil,MeasureNil},Measure{MeasureNil,MeasureNil}}(Measure{MeasureNil,MeasureNil}(0.0,MeasureNil(),MeasureNil(),0.5,0.0),Measure{MeasureNil,MeasureNil}(0.0,MeasureNil(),MeasureNil(),0.0,0.5))),nothing,ListNode{ComposeNode}(Property{FillPrimitive}([FillPrimitive(RGBA{Float64}(0.0,0.7369421917456164,1.0,1.0))]),ListNode{ComposeNode}(Form{RectanglePrimitive{P<:Point{XM<:Measure{S,T},YM<:Measure{S,T}},M1<:Measure{S,T},M2<:Measure{S,T}}}(RectanglePrimitive[RectanglePrimitive{Point{Measure{MeasureNil,MeasureNil},Measure{MeasureNil,MeasureNil}},Measure{MeasureNil,MeasureNil},Measure{MeasureNil,MeasureNil}}(Point{Measure{MeasureNil,MeasureNil},Measure{MeasureNil,MeasureNil}}(Measure{MeasureNil,MeasureNil}(0.0,MeasureNil(),MeasureNil(),0.0,0.0),Measure{MeasureNil,MeasureNil}(0.0,MeasureNil(),MeasureNil(),0.0,0.0)),Measure{MeasureNil,MeasureNil}(0.0,MeasureNil(),MeasureNil(),1.0,0.0),Measure{MeasureNil,MeasureNil}(0.0,MeasureNil(),MeasureNil(),0.0,1.0))]),ListNull{ComposeNode}())),0,false,false,false,false,nothing,nothing,0.0)]  …  [Context(BoundingBox(Measure{MeasureNil,MeasureNil}(0.0,MeasureNil(),MeasureNil(),0.0,0.0),Measure{MeasureNil,MeasureNil}(0.0,MeasureNil(),MeasureNil(),0.0,0.0),Measure{MeasureNil,MeasureNil}(0.0,MeasureNil(),MeasureNil(),1.0,0.0),Measure{MeasureNil,MeasureNil}(0.0,MeasureNil(),MeasureNil(),0.0,1.0)),UnitBox{Void,Void,Void,Void}(nothing,nothing,nothing,nothing,Measure{MeasureNil,MeasureNil}(0.0,MeasureNil(),MeasureNil(),0.0,0.0),Measure{MeasureNil,MeasureNil}(0.0,MeasureNil(),MeasureNil(),0.0,0.0),Measure{MeasureNil,MeasureNil}(0.0,MeasureNil(),MeasureNil(),0.0,0.0),Measure{MeasureNil,MeasureNil}(0.0,MeasureNil(),MeasureNil(),0.0,0.0)),Rotation{Point{Measure{MeasureNil,MeasureNil},Measure{MeasureNil,MeasureNil}}}(0.0,Point{Measure{MeasureNil,MeasureNil},Measure{MeasureNil,MeasureNil}}(Measure{MeasureNil,MeasureNil}(0.0,MeasureNil(),MeasureNil(),0.5,0.0),Measure{MeasureNil,MeasureNil}(0.0,MeasureNil(),MeasureNil(),0.0,0.5))),nothing,ListNode{ComposeNode}(Property{FillPrimitive}([FillPrimitive(RGBA{Float64}(0.5469348231040652,0.6448995468330617,1.0,1.0))]),ListNode{ComposeNode}(Form{RectanglePrimitive{P<:Point{XM<:Measure{S,T},YM<:Measure{S,T}},M1<:Measure{S,T},M2<:Measure{S,T}}}(RectanglePrimitive[RectanglePrimitive{Point{Measure{MeasureNil,MeasureNil},Measure{MeasureNil,MeasureNil}},Measure{MeasureNil,MeasureNil},Measure{MeasureNil,MeasureNil}}(Point{Measure{MeasureNil,MeasureNil},Measure{MeasureNil,MeasureNil}}(Measure{MeasureNil,MeasureNil}(0.0,MeasureNil(),MeasureNil(),0.0,0.0),Measure{MeasureNil,MeasureNil}(0.0,MeasureNil(),MeasureNil(),0.0,0.0)),Measure{MeasureNil,MeasureNil}(0.0,MeasureNil(),MeasureNil(),1.0,0.0),Measure{MeasureNil,MeasureNil}(0.0,MeasureNil(),MeasureNil(),0.0,1.0))]),ListNull{ComposeNode}())),0,false,false,false,false,nothing,nothing,0.0)] \n",
       " [Context(BoundingBox(Measure{MeasureNil,MeasureNil}(0.0,MeasureNil(),MeasureNil(),0.0,0.0),Measure{MeasureNil,MeasureNil}(0.0,MeasureNil(),MeasureNil(),0.0,0.0),Measure{MeasureNil,MeasureNil}(0.0,MeasureNil(),MeasureNil(),1.0,0.0),Measure{MeasureNil,MeasureNil}(0.0,MeasureNil(),MeasureNil(),0.0,1.0)),UnitBox{Void,Void,Void,Void}(nothing,nothing,nothing,nothing,Measure{MeasureNil,MeasureNil}(0.0,MeasureNil(),MeasureNil(),0.0,0.0),Measure{MeasureNil,MeasureNil}(0.0,MeasureNil(),MeasureNil(),0.0,0.0),Measure{MeasureNil,MeasureNil}(0.0,MeasureNil(),MeasureNil(),0.0,0.0),Measure{MeasureNil,MeasureNil}(0.0,MeasureNil(),MeasureNil(),0.0,0.0)),Rotation{Point{Measure{MeasureNil,MeasureNil},Measure{MeasureNil,MeasureNil}}}(0.0,Point{Measure{MeasureNil,MeasureNil},Measure{MeasureNil,MeasureNil}}(Measure{MeasureNil,MeasureNil}(0.0,MeasureNil(),MeasureNil(),0.5,0.0),Measure{MeasureNil,MeasureNil}(0.0,MeasureNil(),MeasureNil(),0.0,0.5))),nothing,ListNode{ComposeNode}(Property{FillPrimitive}([FillPrimitive(RGBA{Float64}(0.0,0.7354124629959939,1.0,1.0))]),ListNode{ComposeNode}(Form{RectanglePrimitive{P<:Point{XM<:Measure{S,T},YM<:Measure{S,T}},M1<:Measure{S,T},M2<:Measure{S,T}}}(RectanglePrimitive[RectanglePrimitive{Point{Measure{MeasureNil,MeasureNil},Measure{MeasureNil,MeasureNil}},Measure{MeasureNil,MeasureNil},Measure{MeasureNil,MeasureNil}}(Point{Measure{MeasureNil,MeasureNil},Measure{MeasureNil,MeasureNil}}(Measure{MeasureNil,MeasureNil}(0.0,MeasureNil(),MeasureNil(),0.0,0.0),Measure{MeasureNil,MeasureNil}(0.0,MeasureNil(),MeasureNil(),0.0,0.0)),Measure{MeasureNil,MeasureNil}(0.0,MeasureNil(),MeasureNil(),1.0,0.0),Measure{MeasureNil,MeasureNil}(0.0,MeasureNil(),MeasureNil(),0.0,1.0))]),ListNull{ComposeNode}())),0,false,false,false,false,nothing,nothing,0.0)]     [Context(BoundingBox(Measure{MeasureNil,MeasureNil}(0.0,MeasureNil(),MeasureNil(),0.0,0.0),Measure{MeasureNil,MeasureNil}(0.0,MeasureNil(),MeasureNil(),0.0,0.0),Measure{MeasureNil,MeasureNil}(0.0,MeasureNil(),MeasureNil(),1.0,0.0),Measure{MeasureNil,MeasureNil}(0.0,MeasureNil(),MeasureNil(),0.0,1.0)),UnitBox{Void,Void,Void,Void}(nothing,nothing,nothing,nothing,Measure{MeasureNil,MeasureNil}(0.0,MeasureNil(),MeasureNil(),0.0,0.0),Measure{MeasureNil,MeasureNil}(0.0,MeasureNil(),MeasureNil(),0.0,0.0),Measure{MeasureNil,MeasureNil}(0.0,MeasureNil(),MeasureNil(),0.0,0.0),Measure{MeasureNil,MeasureNil}(0.0,MeasureNil(),MeasureNil(),0.0,0.0)),Rotation{Point{Measure{MeasureNil,MeasureNil},Measure{MeasureNil,MeasureNil}}}(0.0,Point{Measure{MeasureNil,MeasureNil},Measure{MeasureNil,MeasureNil}}(Measure{MeasureNil,MeasureNil}(0.0,MeasureNil(),MeasureNil(),0.5,0.0),Measure{MeasureNil,MeasureNil}(0.0,MeasureNil(),MeasureNil(),0.0,0.5))),nothing,ListNode{ComposeNode}(Property{FillPrimitive}([FillPrimitive(RGBA{Float64}(0.6472146429704387,0.6219166916076609,1.0,1.0))]),ListNode{ComposeNode}(Form{RectanglePrimitive{P<:Point{XM<:Measure{S,T},YM<:Measure{S,T}},M1<:Measure{S,T},M2<:Measure{S,T}}}(RectanglePrimitive[RectanglePrimitive{Point{Measure{MeasureNil,MeasureNil},Measure{MeasureNil,MeasureNil}},Measure{MeasureNil,MeasureNil},Measure{MeasureNil,MeasureNil}}(Point{Measure{MeasureNil,MeasureNil},Measure{MeasureNil,MeasureNil}}(Measure{MeasureNil,MeasureNil}(0.0,MeasureNil(),MeasureNil(),0.0,0.0),Measure{MeasureNil,MeasureNil}(0.0,MeasureNil(),MeasureNil(),0.0,0.0)),Measure{MeasureNil,MeasureNil}(0.0,MeasureNil(),MeasureNil(),1.0,0.0),Measure{MeasureNil,MeasureNil}(0.0,MeasureNil(),MeasureNil(),0.0,1.0))]),ListNull{ComposeNode}())),0,false,false,false,false,nothing,nothing,0.0)] \n",
       " [Context(BoundingBox(Measure{MeasureNil,MeasureNil}(0.0,MeasureNil(),MeasureNil(),0.0,0.0),Measure{MeasureNil,MeasureNil}(0.0,MeasureNil(),MeasureNil(),0.0,0.0),Measure{MeasureNil,MeasureNil}(0.0,MeasureNil(),MeasureNil(),1.0,0.0),Measure{MeasureNil,MeasureNil}(0.0,MeasureNil(),MeasureNil(),0.0,1.0)),UnitBox{Void,Void,Void,Void}(nothing,nothing,nothing,nothing,Measure{MeasureNil,MeasureNil}(0.0,MeasureNil(),MeasureNil(),0.0,0.0),Measure{MeasureNil,MeasureNil}(0.0,MeasureNil(),MeasureNil(),0.0,0.0),Measure{MeasureNil,MeasureNil}(0.0,MeasureNil(),MeasureNil(),0.0,0.0),Measure{MeasureNil,MeasureNil}(0.0,MeasureNil(),MeasureNil(),0.0,0.0)),Rotation{Point{Measure{MeasureNil,MeasureNil},Measure{MeasureNil,MeasureNil}}}(0.0,Point{Measure{MeasureNil,MeasureNil},Measure{MeasureNil,MeasureNil}}(Measure{MeasureNil,MeasureNil}(0.0,MeasureNil(),MeasureNil(),0.5,0.0),Measure{MeasureNil,MeasureNil}(0.0,MeasureNil(),MeasureNil(),0.0,0.5))),nothing,ListNode{ComposeNode}(Property{FillPrimitive}([FillPrimitive(RGBA{Float64}(0.0,0.7338497560569025,1.0,1.0))]),ListNode{ComposeNode}(Form{RectanglePrimitive{P<:Point{XM<:Measure{S,T},YM<:Measure{S,T}},M1<:Measure{S,T},M2<:Measure{S,T}}}(RectanglePrimitive[RectanglePrimitive{Point{Measure{MeasureNil,MeasureNil},Measure{MeasureNil,MeasureNil}},Measure{MeasureNil,MeasureNil},Measure{MeasureNil,MeasureNil}}(Point{Measure{MeasureNil,MeasureNil},Measure{MeasureNil,MeasureNil}}(Measure{MeasureNil,MeasureNil}(0.0,MeasureNil(),MeasureNil(),0.0,0.0),Measure{MeasureNil,MeasureNil}(0.0,MeasureNil(),MeasureNil(),0.0,0.0)),Measure{MeasureNil,MeasureNil}(0.0,MeasureNil(),MeasureNil(),1.0,0.0),Measure{MeasureNil,MeasureNil}(0.0,MeasureNil(),MeasureNil(),0.0,1.0))]),ListNull{ComposeNode}())),0,false,false,false,false,nothing,nothing,0.0)]     [Context(BoundingBox(Measure{MeasureNil,MeasureNil}(0.0,MeasureNil(),MeasureNil(),0.0,0.0),Measure{MeasureNil,MeasureNil}(0.0,MeasureNil(),MeasureNil(),0.0,0.0),Measure{MeasureNil,MeasureNil}(0.0,MeasureNil(),MeasureNil(),1.0,0.0),Measure{MeasureNil,MeasureNil}(0.0,MeasureNil(),MeasureNil(),0.0,1.0)),UnitBox{Void,Void,Void,Void}(nothing,nothing,nothing,nothing,Measure{MeasureNil,MeasureNil}(0.0,MeasureNil(),MeasureNil(),0.0,0.0),Measure{MeasureNil,MeasureNil}(0.0,MeasureNil(),MeasureNil(),0.0,0.0),Measure{MeasureNil,MeasureNil}(0.0,MeasureNil(),MeasureNil(),0.0,0.0),Measure{MeasureNil,MeasureNil}(0.0,MeasureNil(),MeasureNil(),0.0,0.0)),Rotation{Point{Measure{MeasureNil,MeasureNil},Measure{MeasureNil,MeasureNil}}}(0.0,Point{Measure{MeasureNil,MeasureNil},Measure{MeasureNil,MeasureNil}}(Measure{MeasureNil,MeasureNil}(0.0,MeasureNil(),MeasureNil(),0.5,0.0),Measure{MeasureNil,MeasureNil}(0.0,MeasureNil(),MeasureNil(),0.0,0.5))),nothing,ListNode{ComposeNode}(Property{FillPrimitive}([FillPrimitive(RGBA{Float64}(0.7334266726955249,0.5980562443362892,1.0,1.0))]),ListNode{ComposeNode}(Form{RectanglePrimitive{P<:Point{XM<:Measure{S,T},YM<:Measure{S,T}},M1<:Measure{S,T},M2<:Measure{S,T}}}(RectanglePrimitive[RectanglePrimitive{Point{Measure{MeasureNil,MeasureNil},Measure{MeasureNil,MeasureNil}},Measure{MeasureNil,MeasureNil},Measure{MeasureNil,MeasureNil}}(Point{Measure{MeasureNil,MeasureNil},Measure{MeasureNil,MeasureNil}}(Measure{MeasureNil,MeasureNil}(0.0,MeasureNil(),MeasureNil(),0.0,0.0),Measure{MeasureNil,MeasureNil}(0.0,MeasureNil(),MeasureNil(),0.0,0.0)),Measure{MeasureNil,MeasureNil}(0.0,MeasureNil(),MeasureNil(),1.0,0.0),Measure{MeasureNil,MeasureNil}(0.0,MeasureNil(),MeasureNil(),0.0,1.0))]),ListNull{ComposeNode}())),0,false,false,false,false,nothing,nothing,0.0)] ,1:8,1:8,[0.125,0.125,0.125,0.125,0.125,0.125,0.125,0.125],[0.125,0.125,0.125,0.125,0.125,0.125,0.125,0.125],nothing,{},UnitBox{Void,Void,Void,Void}(nothing,nothing,nothing,nothing,Measure{MeasureNil,MeasureNil}(0.0,MeasureNil(),MeasureNil(),0.0,0.0),Measure{MeasureNil,MeasureNil}(0.0,MeasureNil(),MeasureNil(),0.0,0.0),Measure{MeasureNil,MeasureNil}(0.0,MeasureNil(),MeasureNil(),0.0,0.0),Measure{MeasureNil,MeasureNil}(0.0,MeasureNil(),MeasureNil(),0.0,0.0)),0,false,false),ListNull{ComposeNode}()),0,false,false,false,false,nothing,nothing,0.0)"
      ]
     },
     "execution_count": 8,
     "metadata": {},
     "output_type": "execute_result"
    }
   ],
   "source": [
    "using Colors\n",
    "using Compose\n",
    "\n",
    "@manipulate for unpaused = true, x=timestamp(fpswhen(unpaused, 30.))\n",
    "    gridstack([compose(context(), rectangle(), fill(ColorTypes.LCHab(70.0, 60.0, 100*x[1]+i*j)))\n",
    "                   for i in 1:8, j in 1:8])\n",
    "end"
   ]
  },
  {
   "cell_type": "markdown",
   "metadata": {},
   "source": [
    "And finally, particles in a box."
   ]
  },
  {
   "cell_type": "code",
   "execution_count": 9,
   "metadata": {
    "collapsed": false
   },
   "outputs": [
    {
     "data": {
      "text/plain": [
       "(1.442375813705306e9,0.0)"
      ]
     },
     "metadata": {
      "comm_id": "1380a4ee-b400-406c-8b57-48a854163e88",
      "reactive": true
     },
     "output_type": "display_data"
    },
    {
     "data": {
      "text/html": [],
      "text/plain": [
       "Button{Void}([Input{Void}] nothing,\"Add particle\",nothing)"
      ]
     },
     "metadata": {},
     "output_type": "display_data"
    },
    {
     "data": {
      "text/plain": [
       "1-element Array{Any,1}:\n",
       " [0.942597,0.413408]"
      ]
     },
     "metadata": {
      "comm_id": "75708cde-117a-4b48-bda6-5ad6beee1abe",
      "reactive": true
     },
     "output_type": "display_data"
    },
    {
     "data": {
      "image/svg+xml": [
       "<?xml version=\"1.0\" encoding=\"UTF-8\"?>\n",
       "<svg xmlns=\"http://www.w3.org/2000/svg\"\n",
       "     xmlns:xlink=\"http://www.w3.org/1999/xlink\"\n",
       "     version=\"1.2\"\n",
       "     width=\"141.42mm\" height=\"100mm\" viewBox=\"0 0 141.42 100\"\n",
       "     stroke=\"none\"\n",
       "     fill=\"#000000\"\n",
       "     stroke-width=\"0.3\"\n",
       "     font-size=\"3.88\"\n",
       ">\n",
       "<g fill=\"#00FFFF\" id=\"fig-178e2070bae74201b1348623b36bfb5e-element-1\">\n",
       "  <circle cx=\"84.13\" cy=\"50.41\" r=\"3.54\"/>\n",
       "</g>\n",
       "</svg>\n"
      ],
      "text/html": [
       "<div id=\"pwid26739\"><script>new Patchwork.Node(\"pwid26739\", {\"t\":\"svg\",\"p\":{\"width\":\"141.4213562373095mm\",\"stroke-width\":\"0.3\",\"font-size\":\"3.88\",\"fill\":\"#000000\",\"height\":\"100.0mm\",\"stroke\":\"none\",\"viewBox\":\"0 0 141.4213562373095 100.0\"},\"c\":[{\"t\":\"g\",\"c\":[{\"t\":\"g\",\"p\":{\"fill-opacity\":1.0,\"fill\":\"#00FFFF\"},\"c\":[{\"t\":\"circle\",\"p\":{\"cx\":84.1318059190359,\"r\":3.5355339059327378,\"cy\":50.407304763793945},\"n\":\"svg\"}],\"n\":\"svg\"}],\"n\":\"svg\"}],\"n\":\"svg\"});</script></div>"
      ],
      "text/plain": [
       "Context(BoundingBox(Measure{MeasureNil,MeasureNil}(0.0,MeasureNil(),MeasureNil(),0.0,0.0),Measure{MeasureNil,MeasureNil}(0.0,MeasureNil(),MeasureNil(),0.0,0.0),Measure{MeasureNil,MeasureNil}(0.0,MeasureNil(),MeasureNil(),1.0,0.0),Measure{MeasureNil,MeasureNil}(0.0,MeasureNil(),MeasureNil(),0.0,1.0)),UnitBox{Void,Void,Void,Void}(nothing,nothing,nothing,nothing,Measure{MeasureNil,MeasureNil}(0.0,MeasureNil(),MeasureNil(),0.0,0.0),Measure{MeasureNil,MeasureNil}(0.0,MeasureNil(),MeasureNil(),0.0,0.0),Measure{MeasureNil,MeasureNil}(0.0,MeasureNil(),MeasureNil(),0.0,0.0),Measure{MeasureNil,MeasureNil}(0.0,MeasureNil(),MeasureNil(),0.0,0.0)),Rotation{Point{Measure{MeasureNil,MeasureNil},Measure{MeasureNil,MeasureNil}}}(0.0,Point{Measure{MeasureNil,MeasureNil},Measure{MeasureNil,MeasureNil}}(Measure{MeasureNil,MeasureNil}(0.0,MeasureNil(),MeasureNil(),0.5,0.0),Measure{MeasureNil,MeasureNil}(0.0,MeasureNil(),MeasureNil(),0.0,0.5))),nothing,ListNode{ComposeNode}(Context(BoundingBox(Measure{Float64,MeasureNil}(0.0,0.569901704788208,MeasureNil(),0.0,0.0),Measure{MeasureNil,Float64}(0.0,MeasureNil(),0.47907304763793945,0.0,0.0),Measure{Float64,MeasureNil}(0.0,0.05,MeasureNil(),0.0,0.0),Measure{MeasureNil,Float64}(0.0,MeasureNil(),0.05,0.0,0.0)),UnitBox{Void,Void,Void,Void}(nothing,nothing,nothing,nothing,Measure{MeasureNil,MeasureNil}(0.0,MeasureNil(),MeasureNil(),0.0,0.0),Measure{MeasureNil,MeasureNil}(0.0,MeasureNil(),MeasureNil(),0.0,0.0),Measure{MeasureNil,MeasureNil}(0.0,MeasureNil(),MeasureNil(),0.0,0.0),Measure{MeasureNil,MeasureNil}(0.0,MeasureNil(),MeasureNil(),0.0,0.0)),Rotation{Point{Measure{MeasureNil,MeasureNil},Measure{MeasureNil,MeasureNil}}}(0.0,Point{Measure{MeasureNil,MeasureNil},Measure{MeasureNil,MeasureNil}}(Measure{MeasureNil,MeasureNil}(0.0,MeasureNil(),MeasureNil(),0.5,0.0),Measure{MeasureNil,MeasureNil}(0.0,MeasureNil(),MeasureNil(),0.0,0.5))),nothing,ListNode{ComposeNode}(Form{CirclePrimitive{P<:Point{XM<:Measure{S,T},YM<:Measure{S,T}},M<:Measure{S,T}}}(CirclePrimitive[CirclePrimitive{Point{Measure{MeasureNil,MeasureNil},Measure{MeasureNil,MeasureNil}},Measure{MeasureNil,MeasureNil}}(Point{Measure{MeasureNil,MeasureNil},Measure{MeasureNil,MeasureNil}}(Measure{MeasureNil,MeasureNil}(0.0,MeasureNil(),MeasureNil(),0.5,0.0),Measure{MeasureNil,MeasureNil}(0.0,MeasureNil(),MeasureNil(),0.0,0.5)),Measure{MeasureNil,MeasureNil}(0.0,MeasureNil(),MeasureNil(),0.5,0.0))]),ListNode{ComposeNode}(Property{FillPrimitive}([FillPrimitive(RGBA{Float64}(0.0,1.0,1.0,1.0))]),ListNull{ComposeNode}())),0,false,false,false,false,nothing,nothing,0.0),ListNull{ComposeNode}()),0,false,false,false,false,nothing,nothing,0.0)"
      ]
     },
     "execution_count": 9,
     "metadata": {},
     "output_type": "execute_result"
    }
   ],
   "source": [
    "using Compose\n",
    "\n",
    "box(x) = let i = floor(x)\n",
    "    i%2==0 ? x-i : 1+i-x\n",
    "end\n",
    "\n",
    "colors = [\"orange\", \"cyan\", \"gray\", \"tomato\"]\n",
    "\n",
    "dots(points) = [(context(p[1], p[2], .05, .05), fill(parse(Colorant, colors[i%4+1])), circle())\n",
    "    for (i, p) in enumerate(points)]\n",
    "\n",
    "@manipulate for t=timestamp(fps(30.)), add=button(\"Add particle\"),\n",
    "    velocities = foldl((x,y) -> push!(x, rand(2)), Any[rand(2)], add)\n",
    "\n",
    "    compose(context(),\n",
    "            dots([map(v -> box(v*t[1]), (vx, vy)) for (vx, vy) in velocities])...)\n",
    "end"
   ]
  },
  {
   "cell_type": "markdown",
   "metadata": {},
   "source": [
    "If you used Interact to come up with something you think people will be wow-ed by, do let us know by commenting on [this issue](https://github.com/JuliaLang/Interact.jl/issues/36). :)"
   ]
  }
 ],
 "metadata": {
  "kernelspec": {
   "display_name": "Julia 0.3.11",
   "language": "julia",
   "name": "julia-0.3"
  },
  "language_info": {
   "file_extension": ".jl",
   "mimetype": "application/julia",
   "name": "julia",
   "version": "0.3.11"
  }
 },
 "nbformat": 4,
 "nbformat_minor": 0
}
