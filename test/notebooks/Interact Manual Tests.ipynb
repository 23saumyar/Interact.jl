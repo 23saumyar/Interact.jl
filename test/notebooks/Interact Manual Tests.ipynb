{
 "cells": [
  {
   "cell_type": "code",
   "execution_count": null,
   "metadata": {
    "collapsed": false
   },
   "outputs": [],
   "source": [
    "IJulia.set_verbose()"
   ]
  },
  {
   "cell_type": "markdown",
   "metadata": {},
   "source": [
    "### Manual Test Notebook\n",
    "\n",
    "Run each cell, check for expected behaviour and check the browser console for errors"
   ]
  },
  {
   "cell_type": "code",
   "execution_count": null,
   "metadata": {
    "collapsed": false
   },
   "outputs": [],
   "source": [
    "using Interact"
   ]
  },
  {
   "cell_type": "code",
   "execution_count": null,
   "metadata": {
    "collapsed": false,
    "scrolled": false
   },
   "outputs": [],
   "source": [
    "#Dependent sliders\n",
    "csliders = Widget[]\n",
    "x = slider(0:.1:2pi, label=\"x\")\n",
    "s = map(a -> slider(-1:.05:1, value=sin(2a), label=\"sin(2x)\"), signal(x))\n",
    "c = map(signal(x)) do a\n",
    "    s = slider(-1:.05:1, value=cos(2a), label=\"cos(2x)\")\n",
    "    push!(csliders, s)\n",
    "    s\n",
    "end\n",
    "chosen_val = flatten(map(w->signal(w), signal(c); typ=Signal); typ=Any)\n",
    "first_slider = value(c)\n",
    "map(display, [x,s,c,signal(first_slider),chosen_val]);"
   ]
  },
  {
   "cell_type": "code",
   "execution_count": null,
   "metadata": {
    "collapsed": false
   },
   "outputs": [],
   "source": [
    "#Signal{Widget} display, updating - move the slider, click \"checkbox\", click the checkbox - stuff should update\n",
    "widget_choice = togglebuttons([\"slider\",\"checkbox\"], label=\"choose a widget\")\n",
    "slider_to_show = slider(1:10; label=\"killr slider\")\n",
    "checkbox_to_show = checkbox(true; label=\"my new checkcheck\")\n",
    "widget_chosen = map(x->x==\"slider\"? slider_to_show : checkbox_to_show, signal(widget_choice); typ=Widget);\n",
    "\n",
    "map(display, (widget_choice, widget_chosen, signal(checkbox_to_show), signal(slider_to_show)));"
   ]
  },
  {
   "cell_type": "code",
   "execution_count": null,
   "metadata": {
    "collapsed": false
   },
   "outputs": [],
   "source": [
    "#these should be in sync with the above, but disappear when you click the widget selector above\n",
    "map(display, (checkbox_to_show, slider_to_show));"
   ]
  },
  {
   "cell_type": "code",
   "execution_count": null,
   "metadata": {
    "collapsed": false
   },
   "outputs": [],
   "source": [
    "#Same again but creating a new slider each time, plus flatten\n",
    "count = 0\n",
    "widget_choice = togglebuttons([\"slider\",\"checkbox\"], label=\"choose a widget\")\n",
    "widget_chosen = map(signal(widget_choice); typ=Widget) do x\n",
    "    global count += 1; \n",
    "    x==\"slider\"? slider(1:10; label=\"killr slider $count\") : checkbox(true; label=\"my new checkcheck $count\") \n",
    "end;\n",
    "\n",
    "chosen_val = flatten(map(w->signal(w), widget_chosen; typ=Signal); typ=Any)\n",
    "map(display, (widget_choice, widget_chosen, chosen_val));"
   ]
  },
  {
   "cell_type": "code",
   "execution_count": null,
   "metadata": {
    "collapsed": false,
    "scrolled": false
   },
   "outputs": [],
   "source": [
    "#check sync as above\n",
    "chosen_val = flatten(map(w->signal(w), widget_chosen; typ=Signal); typ=Any)\n",
    "map(display, (widget_choice, widget_chosen, chosen_val));"
   ]
  },
  {
   "cell_type": "code",
   "execution_count": null,
   "metadata": {
    "collapsed": false
   },
   "outputs": [],
   "source": [
    "#Signal{Widget} with same Widget type\n",
    "#buttons sometimes out of order is ipywidgets issue\n",
    "eb=togglebuttons([1,2,3])\n",
    "display(eb)\n",
    "uuid=[[0,1],[0,1,2],[0,2]]\n",
    "ub = map(x->togglebuttons(uuid[x]),eb.signal)\n",
    "ub40 = flatten(map(w->signal(w), signal(ub); typ=Signal); typ=Any)\n",
    "display.([ub, ub40]);"
   ]
  },
  {
   "cell_type": "code",
   "execution_count": null,
   "metadata": {
    "collapsed": false
   },
   "outputs": [],
   "source": [
    "#Slider options: vertical, no readout \n",
    "s1 = slider(-1:.05:1, value=sin(2), label=\"vert\", orientation=\"vertical\")\n",
    "s2 = slider(-1:.05:1, value=sin(2), label=\"no readout\", signal=signal(s1), orientation=\"horizontal\", readout=false)\n",
    "display.([s1,s2]);"
   ]
  },
  {
   "cell_type": "code",
   "execution_count": null,
   "metadata": {
    "collapsed": false
   },
   "outputs": [],
   "source": [
    "pboy = progress() #should show all grey, then some colour when you run the cell below"
   ]
  },
  {
   "cell_type": "code",
   "execution_count": null,
   "metadata": {
    "collapsed": true
   },
   "outputs": [],
   "source": [
    "update!(pboy,50)"
   ]
  },
  {
   "cell_type": "code",
   "execution_count": null,
   "metadata": {
    "collapsed": false
   },
   "outputs": [],
   "source": [
    "# Select Slider with value set via textbox, type 9, 99, 999, 9999\n",
    "# Value should be the value from the textbox, changes in slider should update teh textbox and vice-versa \n",
    "\n",
    "exprange = map(x->2^x,1:0.01:10)\n",
    "init_val = first(exprange)\n",
    "\n",
    "#create slider\n",
    "expslide = selection_slider(exprange, label=\"exponential value\")\n",
    "\n",
    "#create textbox\n",
    "txtbox = textbox(string(init_val); label=\"set slider value\")\n",
    "nearest(arr, val) = indmin(abs(val .- arr))\n",
    "\n",
    "#holds the last valid float value of what's in the textbox\n",
    "output_valsig = foldp(init_val, signal(txtbox)) do prev, txt\n",
    "    val = tryparse(Float64, txt)\n",
    "    isnull(val) ? prev : get(val)\n",
    "end\n",
    "\n",
    "#find the nearest value to what's in the textbox, and update the slider's signal with it \n",
    "map(output_valsig) do val\n",
    "    idx = nearest(exprange, val)\n",
    "    if value(signal(expslide)) != exprange[idx]\n",
    "        push!(signal(expslide), exprange[idx])\n",
    "    end\n",
    "end |> preserve\n",
    "\n",
    "#if the slider moves, update the txt box\n",
    "map(signal(expslide)) do sliderval\n",
    "    if nearest(exprange, value(output_valsig)) != nearest(exprange, sliderval)\n",
    "        push!(signal(txtbox), string(sliderval))\n",
    "    end\n",
    "end |> preserve\n",
    "\n",
    "#display the widgets and the slider's signal's value\n",
    "display.([expslide, txtbox, signal(expslide), signal(txtbox), signal(output_valsig)]);"
   ]
  },
  {
   "cell_type": "code",
   "execution_count": null,
   "metadata": {
    "collapsed": false
   },
   "outputs": [],
   "source": [
    "push!(signal(expslide), 30) #should update textbox and slider"
   ]
  },
  {
   "cell_type": "code",
   "execution_count": null,
   "metadata": {
    "collapsed": false
   },
   "outputs": [],
   "source": [
    "push!(signal(txtbox), \"50\") #should update textbox and slider"
   ]
  },
  {
   "cell_type": "code",
   "execution_count": null,
   "metadata": {
    "collapsed": false
   },
   "outputs": [],
   "source": [
    "# Same but vertical select slider, try 1,10,100,1000,10000\n",
    "# Select Slider with value set via textbox, type 9, 99, 999, 9999\n",
    "# Value should be the value from the textbox, changes in slider should update teh textbox and vice-versa \n",
    "\n",
    "exprange = map(x->2^x,1:0.01:10)\n",
    "init_val = first(exprange)\n",
    "\n",
    "#create slider\n",
    "expslide = selection_slider(exprange, label=\"exponential value\", orientation=\"vertical\")\n",
    "\n",
    "#create textbox\n",
    "txtbox = textbox(string(init_val); label=\"set slider value\")\n",
    "nearest(arr, val) = indmin(abs(val .- arr))\n",
    "\n",
    "#holds the last valid float value of what's in the textbox\n",
    "output_valsig = foldp(init_val, signal(txtbox)) do prev, txt\n",
    "    val = tryparse(Float64, txt)\n",
    "    isnull(val) ? prev : get(val)\n",
    "end\n",
    "\n",
    "#find the nearest value to what's in the textbox, and update the slider's signal with it \n",
    "map(output_valsig) do val\n",
    "    idx = nearest(exprange, val)\n",
    "    if value(signal(expslide)) != exprange[idx]\n",
    "        push!(signal(expslide), exprange[idx])\n",
    "    end\n",
    "end |> preserve\n",
    "\n",
    "#if the slider moves, update the txt box\n",
    "map(signal(expslide)) do sliderval\n",
    "    if nearest(exprange, value(output_valsig)) != nearest(exprange, sliderval)\n",
    "        push!(signal(txtbox), string(sliderval))\n",
    "    end\n",
    "end |> preserve\n",
    "\n",
    "#display the widgets and the slider's signal's value\n",
    "display.([expslide, txtbox, signal(expslide), signal(txtbox), signal(output_valsig)]);"
   ]
  },
  {
   "cell_type": "code",
   "execution_count": null,
   "metadata": {
    "collapsed": false
   },
   "outputs": [],
   "source": [
    "# multi-select - ctrl/cmd or shift click for multiple values\n",
    "mse = selection(enumerate([\"fred\",2,1 + 0.5im, 0.3]) |> collect, multi=true)\n",
    "ms = selection([\"fred\",2,1 + 0.5im, 0.3], multi=true)\n",
    "display.([ms,signal(ms)]);\n",
    "# display.([mse,signal(mse)]); Currently broken, should work;"
   ]
  },
  {
   "cell_type": "code",
   "execution_count": null,
   "metadata": {
    "collapsed": false
   },
   "outputs": [],
   "source": [
    "ss = selection(11:20)\n",
    "display.([ss,signal(ss)]);"
   ]
  },
  {
   "cell_type": "code",
   "execution_count": null,
   "metadata": {
    "collapsed": false
   },
   "outputs": [],
   "source": [
    "# Update options value_label displayed by pushing value to signal, run cell below\n",
    "fmult = Signal(Float64, 1e9) #GHz\n",
    "w_fmult = togglebuttons([(\"kHz\", 1e3), (\"MHz\", 1e6), (\"GHz\", 1e9)], value=value(fmult), signal=fmult)\n",
    "display.([w_fmult, signal(w_fmult)]);"
   ]
  },
  {
   "cell_type": "code",
   "execution_count": null,
   "metadata": {
    "collapsed": false
   },
   "outputs": [],
   "source": [
    "#run this multiple times, val should match selected toggle button\n",
    "val = rand([1e3,1e6,1e9])\n",
    "push!(fmult, val)\n",
    "val"
   ]
  },
  {
   "cell_type": "code",
   "execution_count": null,
   "metadata": {
    "collapsed": false
   },
   "outputs": [],
   "source": [
    "#slider stays synced with sig\n",
    "s4 = slider(12:20)\n",
    "display.([s4, signal(s4)]);"
   ]
  },
  {
   "cell_type": "code",
   "execution_count": null,
   "metadata": {
    "collapsed": true
   },
   "outputs": [],
   "source": [
    "#slider above should move to 13\n",
    "push!(signal(s4), 13)\n",
    "update_view(s4)"
   ]
  },
  {
   "cell_type": "code",
   "execution_count": null,
   "metadata": {
    "collapsed": false
   },
   "outputs": [],
   "source": [
    "#syncsig=false doesn't stay synced with sig\n",
    "s5 = slider(12:20; syncsig=false)\n",
    "display.([s5, signal(s5)]);"
   ]
  },
  {
   "cell_type": "code",
   "execution_count": null,
   "metadata": {
    "collapsed": true
   },
   "outputs": [],
   "source": [
    "#slider above *shouldn't* move to 13, but signal below should show 13\n",
    "push!(signal(s5), 13)\n",
    "update_view(s5)"
   ]
  },
  {
   "cell_type": "code",
   "execution_count": null,
   "metadata": {
    "collapsed": false
   },
   "outputs": [],
   "source": [
    "# Print during update (when slider moves)\n",
    "@manipulate for i in 1:10\n",
    "    @show i\n",
    "end"
   ]
  },
  {
   "cell_type": "code",
   "execution_count": null,
   "metadata": {
    "collapsed": false
   },
   "outputs": [],
   "source": [
    "#byo signal\n",
    "ss = Signal(3)\n",
    "s1= slider(0:10; signal=ss)\n",
    "map(display, (s1,ss));"
   ]
  },
  {
   "cell_type": "code",
   "execution_count": null,
   "metadata": {
    "collapsed": false
   },
   "outputs": [],
   "source": [
    "#Byo Signal and init value\n",
    "fx = Signal(0.0)\n",
    "x = slider(0:.1:2pi, label=\"x\")\n",
    "y = map(v -> slider(-1:.05:1, value=sin(v), signal=fx, label=\"f(x)\"), signal(x))\n",
    "#init value only\n",
    "z = map(a -> slider(-1:.05:1, value=sin(2a), label=\"sin(2x)\"), signal(x))\n",
    "ssz = flatten(map(zslider->signal(zslider), signal(z)))\n",
    "sinx = map(xv->round(sin(xv), 3), signal(x))\n",
    "sin2x = map(xv->round(sin(2xv), 3), signal(x))\n",
    "display.([x, y, z, signal(x), fx, sinx, ssz, sin2x]);"
   ]
  },
  {
   "cell_type": "code",
   "execution_count": null,
   "metadata": {
    "collapsed": false
   },
   "outputs": [],
   "source": [
    "#layout\n",
    "cb = checkbox();\n",
    "s1 = slider(1:10; orientation=\"vertical\"); \n",
    "s2 = slider(11:20; orientation=\"vertical\"); \n",
    "layout = hbox(vbox(s1,cb), s2)\n",
    "display.([layout, map(signal, (cb,s1,s2))...]);"
   ]
  }
 ],
 "metadata": {
  "kernelspec": {
   "display_name": "Julia 0.5.0",
   "language": "julia",
   "name": "julia-0.5"
  },
  "language_info": {
   "file_extension": ".jl",
   "mimetype": "application/julia",
   "name": "julia",
   "version": "0.5.0"
  },
  "widgets": {
   "state": {
    "020abcf0-9946-40cb-9caf-7c3b29f4b96f": {
     "views": [
      {
       "cell_index": 8
      }
     ]
    },
    "04879c8a-1b8a-4487-9d1a-a646928f3d15": {
     "views": [
      {
       "cell_index": 6
      },
      {
       "cell_index": 7
      }
     ]
    },
    "049dcadf-eca7-4f24-8696-555f3fb2340e": {
     "views": [
      {
       "cell_index": 25
      }
     ]
    },
    "10922b58-ac84-44d1-8969-23b6154ac369": {
     "views": [
      {
       "cell_index": 24
      }
     ]
    },
    "1492f4b1-1d98-4357-8043-299b26976686": {
     "views": [
      {
       "cell_index": 8
      }
     ]
    },
    "2114f53c-bd7c-4e31-b6d6-2606ab0d12d6": {
     "views": [
      {
       "cell_index": 3
      }
     ]
    },
    "227ee7ea-c7eb-441b-99e4-48bdbe270392": {
     "views": [
      {
       "cell_index": 4
      },
      {
       "cell_index": 5
      }
     ]
    },
    "26922cda-9936-4f79-bde5-bb710716afa5": {
     "views": [
      {
       "cell_index": 26
      }
     ]
    },
    "2be00397-f151-45ec-b35a-f2c165c8cf9c": {
     "views": [
      {
       "cell_index": 18
      }
     ]
    },
    "4dd02f56-fa96-48fc-8a43-60485eb58947": {
     "views": [
      {
       "cell_index": 5
      }
     ]
    },
    "53785085-6530-4d76-a2dc-5288e5564ead": {
     "views": [
      {
       "cell_index": 9
      }
     ]
    },
    "56f1b0dd-ae21-4d2c-a004-8b13b1128a7e": {
     "views": [
      {
       "cell_index": 3
      }
     ]
    },
    "63898d8b-fcd5-468f-8984-588d94a928bb": {
     "views": [
      {
       "cell_index": 10
      }
     ]
    },
    "6ef77051-d60f-4388-9314-95c5762f1478": {
     "views": [
      {
       "cell_index": 12
      }
     ]
    },
    "7215128e-a191-414d-ad0d-a08d00aee857": {
     "views": [
      {
       "cell_index": 9
      }
     ]
    },
    "740b4120-b7f1-4cda-996f-91fe02b54368": {
     "views": [
      {
       "cell_index": 4
      }
     ]
    },
    "7c9dbc5f-3072-4d1f-b2de-5493a3a44a2c": {
     "views": [
      {
       "cell_index": 15
      }
     ]
    },
    "97edf76e-57c0-44d0-a125-b1762d747081": {
     "views": [
      {
       "cell_index": 27
      }
     ]
    },
    "981ae74f-f8fb-44da-ae97-cded6821fa8f": {
     "views": [
      {
       "cell_index": 26
      }
     ]
    },
    "9965190b-43b2-4cbb-a6ea-6eb2ec142982": {
     "views": [
      {
       "cell_index": 3
      }
     ]
    },
    "99b15514-4279-4771-b4e4-53cd89f35769": {
     "views": [
      {
       "cell_index": 6
      },
      {
       "cell_index": 7
      }
     ]
    },
    "aff59c78-5bf4-4b35-87c9-e3388fb55635": {
     "views": [
      {
       "cell_index": 15
      }
     ]
    },
    "b3142f60-8785-4fb4-a566-b7e2365a9a3c": {
     "views": [
      {
       "cell_index": 26
      }
     ]
    },
    "b4859001-bf34-4fae-8443-7c9e0a5b3724": {
     "views": [
      {
       "cell_index": 22
      }
     ]
    },
    "b843f8a0-5488-4c0c-9719-d97dbd9a2454": {
     "views": [
      {
       "cell_index": 17
      }
     ]
    },
    "ca2337b5-066b-4371-84ce-c037f87ffb0e": {
     "views": [
      {
       "cell_index": 16
      }
     ]
    },
    "e850da0e-9c84-4fe7-9b87-dece80558fdc": {
     "views": [
      {
       "cell_index": 12
      }
     ]
    },
    "fa1e8418-328e-405d-8c4f-299bb3cceabb": {
     "views": [
      {
       "cell_index": 20
      }
     ]
    }
   },
   "version": "1.2.0"
  }
 },
 "nbformat": 4,
 "nbformat_minor": 1
}
